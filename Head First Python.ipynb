{
 "metadata": {
  "name": "",
  "signature": "sha256:f8e0543f0835a36ed19e5cabd43cfcbf4662455981898e8266ff355560e1fd5c"
 },
 "nbformat": 3,
 "nbformat_minor": 0,
 "worksheets": [
  {
   "cells": [
    {
     "cell_type": "heading",
     "level": 1,
     "metadata": {},
     "source": [
      "Head First Python \uc815\ub9ac"
     ]
    },
    {
     "cell_type": "heading",
     "level": 1,
     "metadata": {},
     "source": [
      "1. List \ub9cc\ub4e4\uae30"
     ]
    },
    {
     "cell_type": "markdown",
     "metadata": {},
     "source": [
      "- \ubcf5\uc7a1\ud55c \ub370\uc774\ud130\ub97c List Data\ub97c \ud1b5\ud558\uc5ec \uad6c\uc870\ud654\ud558\uba74 \uac04\ub2e8\ud558\uac8c \ucc98\ub9ac\ud560 \uc218 \uc788\uc74c\n",
      "- \uc608\uc81c\n",
      "    - 'The Holy Grail', 'The Life of Brian', 'The Meaning' \ub97c \uc815\ub9ac\ud574\ubd05\uc2dc\ub2e4\n",
      "- \ucc38\uace0\ub85c Python\uc740 \ub370\uc774\ud130 Type\uc744 \ubbf8\ub9ac \uc120\uc5b8\ud560 \ud544\uc694 \uc5c6\uc74c"
     ]
    },
    {
     "cell_type": "markdown",
     "metadata": {},
     "source": [
      "1. \ub370\uc774\ud130\ub97c String\uc73c\ub85c \ubcc0\ud658\n",
      "2. List\ub97c Comma Separated Value\ub85c \ubd84\ub9ac\n",
      "3. \uc804\uccb4 \ub9ac\uc2a4\ud2b8\ub97c \ub300\uad04\ud638\ub85c \ub458\ub7ec\uc2f8\uae30\n",
      "4. = \uc744 \ud1b5\ud558\uc5ec \ub9ac\uc2a4\ud2b8 \uc120\uc5b8"
     ]
    },
    {
     "cell_type": "code",
     "collapsed": false,
     "input": [
      "movies = [\"The Holy Grail\", \"The Life of Brian\", \"The Meaning\"]"
     ],
     "language": "python",
     "metadata": {},
     "outputs": [],
     "prompt_number": 4
    },
    {
     "cell_type": "code",
     "collapsed": false,
     "input": [
      "print(movies[1]) #- Python\uc740 index\uac00 0\ubd80\ud130 \uc2dc\uc791"
     ],
     "language": "python",
     "metadata": {},
     "outputs": [
      {
       "output_type": "stream",
       "stream": "stdout",
       "text": [
        "The Life of Brian\n"
       ]
      }
     ],
     "prompt_number": 5
    },
    {
     "cell_type": "markdown",
     "metadata": {},
     "source": [
      "#List Method -> Method\ub294 \ub098\uc911\uc5d0 \uc124\uba85"
     ]
    },
    {
     "cell_type": "code",
     "collapsed": false,
     "input": [
      "cast = [\"Cleese\", 'Palin', 'Jones', \"Idle\"]\n",
      "print(cast)"
     ],
     "language": "python",
     "metadata": {},
     "outputs": [
      {
       "output_type": "stream",
       "stream": "stdout",
       "text": [
        "['Cleese', 'Palin', 'Jones', 'Idle']\n"
       ]
      }
     ],
     "prompt_number": 6
    },
    {
     "cell_type": "code",
     "collapsed": false,
     "input": [
      "print(len(cast)) #len\uc740 list\uc758 \uae38\uc774\ub97c"
     ],
     "language": "python",
     "metadata": {},
     "outputs": [
      {
       "output_type": "stream",
       "stream": "stdout",
       "text": [
        "6\n"
       ]
      }
     ],
     "prompt_number": 15
    },
    {
     "cell_type": "code",
     "collapsed": false,
     "input": [
      "print(cast(1)) #list\uc5d0\uc11c \uc6d0\ud558\ub294 index\ub97c \ubd88\ub7ec\uc624\ub824\uba74 ()\uac00 \uc544\ub2cc []"
     ],
     "language": "python",
     "metadata": {},
     "outputs": [
      {
       "ename": "TypeError",
       "evalue": "'list' object is not callable",
       "output_type": "pyerr",
       "traceback": [
        "\u001b[1;31m---------------------------------------------------------------------------\u001b[0m\n\u001b[1;31mTypeError\u001b[0m                                 Traceback (most recent call last)",
        "\u001b[1;32m<ipython-input-14-7fdce38af352>\u001b[0m in \u001b[0;36m<module>\u001b[1;34m()\u001b[0m\n\u001b[1;32m----> 1\u001b[1;33m \u001b[1;32mprint\u001b[0m\u001b[1;33m(\u001b[0m\u001b[0mcast\u001b[0m\u001b[1;33m(\u001b[0m\u001b[1;36m1\u001b[0m\u001b[1;33m)\u001b[0m\u001b[1;33m)\u001b[0m \u001b[1;31m#list\uc5d0\uc11c \uc6d0\ud558\ub294 index\ub97c \ubd88\ub7ec\uc624\ub824\uba74 ()\uac00 \uc544\ub2cc []\u001b[0m\u001b[1;33m\u001b[0m\u001b[0m\n\u001b[0m",
        "\u001b[1;31mTypeError\u001b[0m: 'list' object is not callable"
       ]
      }
     ],
     "prompt_number": 14
    },
    {
     "cell_type": "code",
     "collapsed": false,
     "input": [
      "print(cast[1])"
     ],
     "language": "python",
     "metadata": {},
     "outputs": [
      {
       "output_type": "stream",
       "stream": "stdout",
       "text": [
        "Palin\n"
       ]
      }
     ],
     "prompt_number": 9
    },
    {
     "cell_type": "code",
     "collapsed": false,
     "input": [
      "cast.append(\"Gilliam\") #.\uc744 \ud1b5\ud574 method \ud638\ucd9c, append\ub294 list\uc758 \ub9c8\uc9c0\ub9c9\uc5d0 \ub370\uc774\ud130 \ucd94\uac00\n",
      "print(cast)"
     ],
     "language": "python",
     "metadata": {},
     "outputs": [
      {
       "output_type": "stream",
       "stream": "stdout",
       "text": [
        "['Cleese', 'Palin', 'Jones', 'Idle', 'Gilliam', 'Gilliam']\n"
       ]
      }
     ],
     "prompt_number": 17
    },
    {
     "cell_type": "code",
     "collapsed": false,
     "input": [
      "cast.pop() #pop\ub97c \ud1b5\ud558\uc5ec list \ub9c8\uc9c0\ub9c9\uc758 \ub370\uc774\ud130 \uc9c0\uc6c0"
     ],
     "language": "python",
     "metadata": {},
     "outputs": [
      {
       "metadata": {},
       "output_type": "pyout",
       "prompt_number": 16,
       "text": [
        "'Chapman'"
       ]
      }
     ],
     "prompt_number": 16
    },
    {
     "cell_type": "code",
     "collapsed": false,
     "input": [
      "print(cast)"
     ],
     "language": "python",
     "metadata": {},
     "outputs": [
      {
       "output_type": "stream",
       "stream": "stdout",
       "text": [
        "['Cleese', 'Palin', 'Jones', 'Idle']\n"
       ]
      }
     ],
     "prompt_number": 12
    },
    {
     "cell_type": "code",
     "collapsed": false,
     "input": [
      "cast.extend([\"Gilliam\", \"Chapman\"]) #extend\ub85c \ubcf5\uc218\uc758 \ub370\uc774\ud130\ub97c  \uc0bc\uc785\n",
      "print(cast)"
     ],
     "language": "python",
     "metadata": {},
     "outputs": [
      {
       "output_type": "stream",
       "stream": "stdout",
       "text": [
        "['Cleese', 'Palin', 'Jones', 'Idle', 'Gilliam', 'Chapman']\n"
       ]
      }
     ],
     "prompt_number": 13
    },
    {
     "cell_type": "code",
     "collapsed": false,
     "input": [
      "cast.remove(\"Chapman\") #remove\ub85c \ud2b9\uc815 \ub370\uc774\ud130 \ud56d\ubaa9 \ucc3e\uc544 \uc81c\uac70\n",
      "print(cast)"
     ],
     "language": "python",
     "metadata": {},
     "outputs": [
      {
       "output_type": "stream",
       "stream": "stdout",
       "text": [
        "['Cleese', 'Palin', 'Jones', 'Idle', 'Gilliam', 'Gilliam']\n"
       ]
      }
     ],
     "prompt_number": 35
    },
    {
     "cell_type": "code",
     "collapsed": false,
     "input": [
      "cast.insert(0, \"Chapman\") #insert\ub97c \ud1b5\ud558\uc5ec \ud2b9\uc815 index\uc5d0 \ub370\uc774\ud130 \uc0bc\uc785\n",
      "print(cast)"
     ],
     "language": "python",
     "metadata": {},
     "outputs": [
      {
       "output_type": "stream",
       "stream": "stdout",
       "text": [
        "['Chapman', 'Chapman', 'Cleese', 'Palin', 'Jones', 'Idle', 'Gilliam', 'Gilliam']\n"
       ]
      }
     ],
     "prompt_number": 37
    },
    {
     "cell_type": "markdown",
     "metadata": {},
     "source": [
      "#\uc5c5\ub370\uc774\ud2b8 \ub418\ub294 list \ucc98\ub9ac\ud558\uae30"
     ]
    },
    {
     "cell_type": "code",
     "collapsed": false,
     "input": [
      "fav_movies = [\"The Holy Grail\", \"The Life of Brian\"]\n",
      "\n",
      "print(fav_movies[0])\n",
      "print(fav_movies[1])"
     ],
     "language": "python",
     "metadata": {},
     "outputs": [
      {
       "output_type": "stream",
       "stream": "stdout",
       "text": [
        "The Holy Grail\n",
        "The Life of Brian\n"
       ]
      }
     ],
     "prompt_number": 40
    },
    {
     "cell_type": "markdown",
     "metadata": {},
     "source": [
      "- \ub370\uc774\ud130\uac00 \uc801\uc744\ub54c\ub294 print\ub97c \ucd94\uac00\ub9cc \ud574\uc8fc\uba74 \ub420\ud150\ub370... \ub9cc\uc77c \ub370\uc774\ud130\uac00 100\uac1c\uc529 \uc5c5\ub370\uc774\ud2b8 \ub41c\ub2e4\uba74 \uc5b4\uca4c\ub098\n",
      "- for \ub8e8\ud504\ub97c \uc0ac\uc6a9\ud558\uba74 \ub428"
     ]
    },
    {
     "cell_type": "code",
     "collapsed": false,
     "input": [
      "fav_movies = [\"The Holy Grail\", \"The Life of Brian\"]\n",
      "\n",
      "for each_flick in fav_movies: #each_flick\uc740 target identifier\ub85c\uc368 \uc124\uba85\uc740 \uc544\ub798\uc5d0.\n",
      "    print(each_flick)"
     ],
     "language": "python",
     "metadata": {},
     "outputs": [
      {
       "output_type": "stream",
       "stream": "stdout",
       "text": [
        "The Holy Grail\n",
        "The Life of Brian\n"
       ]
      }
     ],
     "prompt_number": 49
    },
    {
     "cell_type": "markdown",
     "metadata": {},
     "source": [
      "- for \ud0a4\uc6cc\ub4dc\ub294 \ub8e8\ud504\uc758 \uc2dc\uc791\uc744 \uc54c\ub9bc\n",
      "- target identifier\uc5d0 list\uc758 \uac01 \ud56d\ubaa9 \uac12\uc774 \ucc28\ub840\ucc28\ub840 \ub300\uc784\ub428. \ub8e8\ud504\uac00 \uc21c\ud658\ud558\uba74\uc11c \uadf8 \uac12\uc774 target identifier\uc5d0 \ub300\uc785\ub418\ub294 \uac83.\n",
      "- while\ub8e8\ud504\uc640 for \ub8e8\ud504\ub294 \ub3d9\uc77c\ud55c \uc5ed\ud560\uc744 \ud560 \uc218 \uc788\uc74c"
     ]
    },
    {
     "cell_type": "code",
     "collapsed": false,
     "input": [
      "count = 0\n",
      "while count < len(movies):\n",
      "    print(movies[count])\n",
      "    count = count + 1"
     ],
     "language": "python",
     "metadata": {},
     "outputs": [
      {
       "output_type": "stream",
       "stream": "stdout",
       "text": [
        "The Holy Grail\n",
        "The Life of Brian\n",
        "The Meaning\n"
       ]
      }
     ],
     "prompt_number": 53
    },
    {
     "cell_type": "code",
     "collapsed": false,
     "input": [
      "for each_item in movies:\n",
      "    print(each_item)"
     ],
     "language": "python",
     "metadata": {},
     "outputs": [
      {
       "output_type": "stream",
       "stream": "stdout",
       "text": [
        "The Holy Grail\n",
        "The Life of Brian\n",
        "The Meaning\n"
       ]
      }
     ],
     "prompt_number": 56
    },
    {
     "cell_type": "markdown",
     "metadata": {},
     "source": [
      "# list\uc548\uc5d0 list \ub123\uae30"
     ]
    },
    {
     "cell_type": "markdown",
     "metadata": {},
     "source": [
      "- \uac04\ub2e8\ud558\uac8c list\uc548\uc5d0 list\ub97c \ub07c\uc5b4 \ub123\uc73c\uba74 \ub428\n",
      "- \ub2e4\uc74c\uacfc \uac19\uc740 list\ub97c python\uc73c\ub85c \ub9cc\ub4e4\uc5b4 \ubcfc\uae4c\n",
      "\n",
      "\n",
      "    The Holy Grail, 1975, Terry jones; Terry Gilliam, 91 mins\n",
      "        Graham Chapman\n",
      "            Michael Palin, Cleese, Terry Gilliam, Eric Idle; Terry Jones"
     ]
    },
    {
     "cell_type": "code",
     "collapsed": false,
     "input": [
      "movies = [\"The Holy Grail\", 1975, \"Terry Jones & Terry Gilliam\", 91,\n",
      "          [\"Graham Chapman\",\n",
      "           [\"Michael Palin\", \"Cleese\", \"Terry Gilliam\", \"Eric Idle\", \"Terry Jones\"]]]\n",
      "print(movies[4][1][3])"
     ],
     "language": "python",
     "metadata": {},
     "outputs": [
      {
       "output_type": "stream",
       "stream": "stdout",
       "text": [
        "Eric Idle\n"
       ]
      }
     ],
     "prompt_number": 5
    },
    {
     "cell_type": "markdown",
     "metadata": {},
     "source": [
      "- list\uc548\uc758 list\ub97c for\ub8e8\ud504\ub85c \ucc98\ub9ac\ud560\ub54c\ub294 \uc5b4\ub5bb\uac8c \ud574\uc57c\ud560\uae4c?"
     ]
    },
    {
     "cell_type": "code",
     "collapsed": false,
     "input": [
      "for each_item in movies:\n",
      "    print(each_item)"
     ],
     "language": "python",
     "metadata": {},
     "outputs": [
      {
       "output_type": "stream",
       "stream": "stdout",
       "text": [
        "The Holy Grail\n",
        "1975\n",
        "Terry Jones & Terry Gilliam\n",
        "91\n",
        "['Graham Chapman', ['Michael Palin', 'Cleese', 'Terry Gilliam', 'Eric Idle', 'Terry Jones']]\n"
       ]
      }
     ],
     "prompt_number": 16
    },
    {
     "cell_type": "markdown",
     "metadata": {},
     "source": [
      "- \ucd5c\uc0c1\uc704\uc5d0 list\uc5d0 \uc788\ub294 \ud56d\ubaa9\ub4e4\ub9cc \ucd9c\ub825\n",
      "- list\uac00 list\uc778\uc9c0 \ud655\uc778\ud560 \uc218 \uc788\ub294 if \ubb38\uc774 \ud544\uc694\ud568"
     ]
    },
    {
     "cell_type": "code",
     "collapsed": false,
     "input": [
      "names = ['GG', 'HH']\n",
      "isinstance(names, list)"
     ],
     "language": "python",
     "metadata": {},
     "outputs": [
      {
       "metadata": {},
       "output_type": "pyout",
       "prompt_number": 2,
       "text": [
        "True"
       ]
      }
     ],
     "prompt_number": 2
    },
    {
     "cell_type": "code",
     "collapsed": false,
     "input": [
      "num_names = len(names)\n",
      "isinstance(num_names,list)"
     ],
     "language": "python",
     "metadata": {},
     "outputs": [
      {
       "metadata": {},
       "output_type": "pyout",
       "prompt_number": 5,
       "text": [
        "False"
       ]
      }
     ],
     "prompt_number": 5
    },
    {
     "cell_type": "markdown",
     "metadata": {},
     "source": [
      "- isinstance\ub294 parameter\uac00 \uc5b4\ub5a0\ud55c \ub370\uc774\ud130 \ud0c0\uc785\uc778\uc9c0\uc5d0 \ub530\ub77c boolean \ub370\uc774\ud130\ub97c \ubcf4\uc5ec\uc90c"
     ]
    },
    {
     "cell_type": "code",
     "collapsed": false,
     "input": [
      "for each_item in movies:\n",
      "    if isinstance(each_item, list):\n",
      "        for nested_item in each_item:\n",
      "            print(nested_item) #\uc774\ubd80\ubd84\uc758 \ub370\uc774\ud130 \ucc98\ub9ac\uac00 \uc5b4\uc0c9\n",
      "            \n",
      "    else:\n",
      "        print(each_item) "
     ],
     "language": "python",
     "metadata": {},
     "outputs": [
      {
       "output_type": "stream",
       "stream": "stdout",
       "text": [
        "The Holy Grail\n",
        "1975\n",
        "Terry Jones & Terry Gilliam\n",
        "91\n",
        "Graham Chapman\n",
        "['Michael Palin', 'Cleese', 'Terry Gilliam', 'Eric Idle', 'Terry Jones']\n"
       ]
      }
     ],
     "prompt_number": 21
    },
    {
     "cell_type": "markdown",
     "metadata": {},
     "source": [
      "- \uc870\uc5f0 \ubc30\uc6b0\ub4e4\uc758 \ub9ac\uc2a4\ud2b8\ub97c \ucc98\ub9ac\ub97c \ubabb\ud558\uace0 \uc788\uc73c\ub2c8 for \ub8e8\ud504\ub97c \ud55c \ubc88\ub354 "
     ]
    },
    {
     "cell_type": "code",
     "collapsed": false,
     "input": [
      "for each_item in movies:\n",
      "    if isinstance(each_item, list):\n",
      "        for nested_item in each_item:\n",
      "                if isinstance(nested_item, list):\n",
      "                    for deeper_item in nested_item:\n",
      "                        print(deeper_item)\n",
      "                else:\n",
      "                    print(nested_item)\n",
      "            \n",
      "    else:\n",
      "        print(each_item) "
     ],
     "language": "python",
     "metadata": {},
     "outputs": [
      {
       "output_type": "stream",
       "stream": "stdout",
       "text": [
        "The Holy Grail\n",
        "1975\n",
        "Terry Jones & Terry Gilliam\n",
        "91\n",
        "Graham Chapman\n",
        "Michael Palin\n",
        "Cleese\n",
        "Terry Gilliam\n",
        "Eric Idle\n",
        "Terry Jones\n"
       ]
      }
     ],
     "prompt_number": 24
    },
    {
     "cell_type": "markdown",
     "metadata": {},
     "source": [
      "- \uc81c\ub300\ub85c \uc791\ub3d9\ud558\uae30\ub294 \ud558\ub294\ub370 Code\uac00 robust\ud558\uc9c0 \uc54a\uc74c (case dependent)\n",
      "- \uadf8\ub7ec\uc9c0 \ub9d0\uace0 \ud568\uc218\ub97c \ub9cc\ub4ed\uc2dc\ub2e4."
     ]
    },
    {
     "cell_type": "markdown",
     "metadata": {},
     "source": [
      "#\ud568\uc218\ub97c \ub9cc\ub4e4\uc790"
     ]
    },
    {
     "cell_type": "markdown",
     "metadata": {},
     "source": [
      "\ud568\uc218\uc758 \uad6c\uc131\n",
      "\n",
      "def \ud568\uc218\uc774\ub984 (parameters):\n",
      "\n",
      "    \ud568\uc218 \ucf54\ub4dc \uc2a4\uc704\ud2b8 - \ud56d\uc0c1 \ud568\uc218\ubcf4\ub2e4 \ub4e4\uc5ec\uc368\uc57c\ud568"
     ]
    },
    {
     "cell_type": "code",
     "collapsed": false,
     "input": [
      "# building recursive function\n",
      "\n",
      "def print_lol(the_list):\n",
      "    for each_item in the_list:\n",
      "        if isinstance(each_item, list):\n",
      "            print_lol(each_item)\n",
      "        else:\n",
      "            print(each_item)"
     ],
     "language": "python",
     "metadata": {},
     "outputs": [],
     "prompt_number": 3
    },
    {
     "cell_type": "code",
     "collapsed": false,
     "input": [
      "print_lol(movies)"
     ],
     "language": "python",
     "metadata": {},
     "outputs": [
      {
       "output_type": "stream",
       "stream": "stdout",
       "text": [
        "The Holy Grail\n",
        "The Life of Brian\n",
        "The Meaning\n"
       ]
      }
     ],
     "prompt_number": 4
    },
    {
     "cell_type": "heading",
     "level": 1,
     "metadata": {},
     "source": [
      "2. Code share - \uc5ec\uae30\ub294 \ub118\uc5b4\uac00\ub3c4\ub310"
     ]
    },
    {
     "cell_type": "markdown",
     "metadata": {},
     "source": [
      "- \uc774\ubc88\uc5d0\ub294 import module \uc5d0 \ub300\ud574 \uacf5\ubd80\ud574 \ubcfc \ud150\ub370, \uba3c\uc800 \uc6b0\ub9ac\uac00 \ub9cc\ub4e0 \ud568\uc218\ub97c \ubc30\ud3ec\ud558\ub294 \ubc29\ubc95 \ubd80\ud130 \ubc30\uc6cc\ubd05\uc2dc\ub2e4"
     ]
    },
    {
     "cell_type": "markdown",
     "metadata": {},
     "source": [
      "- \uba3c\uc800 \ubaa8\ub4c8\uc744 \uc704\ud55c \ud3f4\ub354\ub97c \uc0dd\uc131\n",
      "- \uc0c8\ub85c\ub9cc\ub4e0 \ud3f4\ub354\uc5d0 setup.py \uc0dd\uc131"
     ]
    },
    {
     "cell_type": "code",
     "collapsed": false,
     "input": [
      "# -*- coding: utf-8 -*-\n",
      "from distutils.core import setup\n",
      "\n",
      "\n",
      "setup(\n",
      "        name         = 'nester',\n",
      "        version      = '1.0.0',\n",
      "        py_modules   = ['nester'],\n",
      "        author       = 'jesuishc',\n",
      "        author_email = 'jesuishc@gmail.com',\n",
      "        url          = '',\n",
      "        description  = 'test',\n",
      "     )"
     ],
     "language": "python",
     "metadata": {},
     "outputs": [
      {
       "ename": "SystemExit",
       "evalue": "usage: -c [global_opts] cmd1 [cmd1_opts] [cmd2 [cmd2_opts] ...]\n   or: -c --help [cmd1 cmd2 ...]\n   or: -c --help-commands\n   or: -c cmd --help\n\nerror: option -f not recognized",
       "output_type": "pyerr",
       "traceback": [
        "An exception has occurred, use %tb to see the full traceback.\n",
        "\u001b[1;31mSystemExit\u001b[0m\u001b[1;31m:\u001b[0m usage: -c [global_opts] cmd1 [cmd1_opts] [cmd2 [cmd2_opts] ...]\n   or: -c --help [cmd1 cmd2 ...]\n   or: -c --help-commands\n   or: -c cmd --help\n\nerror: option -f not recognized\n"
       ]
      },
      {
       "output_type": "stream",
       "stream": "stderr",
       "text": [
        "To exit: use 'exit', 'quit', or Ctrl-D.\n"
       ]
      }
     ],
     "prompt_number": 1
    },
    {
     "cell_type": "code",
     "collapsed": false,
     "input": [
      "# -*- coding: utf-8 -*-\n",
      "\"\"\"printing recursive function by jesuishc\"\"\"\n",
      "\n",
      "# building recursive function\n",
      "\n",
      "def print_lol(the_list):\n",
      "    for each_item in the_list:\n",
      "        if isinstance(each_item, list):\n",
      "            print_lol(each_item)\n",
      "        else:\n",
      "            print(each_item)"
     ],
     "language": "python",
     "metadata": {},
     "outputs": [],
     "prompt_number": 12
    },
    {
     "cell_type": "markdown",
     "metadata": {},
     "source": [
      "- setup.py\ub294 \ub108\uac00 \ubc30\ud3ec\ud560 \ud328\ud0a4\uc9c0\uc5d0 \ub300\ud55c \uba54\ud0c0\ub370\uc774\ud130\ub97c \uac00\uc9d0\n",
      "- setup.py\uc0dd\uc131 \ud6c4 \uc0dd\uc131\ud55c \ub3c4\uc2a4 \ud504\ub86c\ud504\ud2b8 \ubaa8\ub4dc\uc5d0\uc11c python setup.py sdist\ub97c \uc785\ub825\n",
      "- \uc644\uc131!"
     ]
    },
    {
     "cell_type": "markdown",
     "metadata": {},
     "source": [
      "- \ubaa8\ub4c8\uc744 \uc0ac\uc6a9\ud558\uae30 \uc704\ud574\uc11c\ub294 import module\uc774\ub984"
     ]
    },
    {
     "cell_type": "markdown",
     "metadata": {},
     "source": [
      "- import nester\ub97c \uc785\ub825\ud55c \ud6c4 \ud568\uc218\ub97c \uc0ac\uc6a9\ud558\uba74!\n",
      "- \uc2e4\ud589\uc774 \ub418\uc9c0 \uc54a\ub294\ub2e4 \uc65c \uadf8\ub7f4\uae4c\n",
      "- Python module\uc740 name space\ub97c \ub9cc\ub4e6\n",
      "    - python\uc758 \ubaa8\ub4e0 \ucf54\ub4dc\ub294 \ub124\uc784 \uc2a4\ud398\uc774\uc2a4\uc5d0 \uc5f0\uacb0\ub418\uc5b4 \uc788\uc74c"
     ]
    },
    {
     "cell_type": "raw",
     "metadata": {},
     "source": [
      "    - (__main __) <- \uc774\uac8c \ub124\uc784 \uc2a4\ud398\uc774\uc2a4"
     ]
    },
    {
     "cell_type": "markdown",
     "metadata": {},
     "source": [
      "- \ub530\ub77c\uc11c print_lol(cast)\uac00 \uc544\ub2c8\ub77c nester.print_lol(cast)\uc73c\ub85c \ud638\ucd9c\ud574\uc57c\ud568"
     ]
    },
    {
     "cell_type": "markdown",
     "metadata": {},
     "source": [
      "# \ud55c \ub2e8\uacc4 \ub192\uc740 \ud568\uc218\uc81c\uc5b4 -- python 2.7\uc5d0\uc120 \uc548\ub310"
     ]
    },
    {
     "cell_type": "markdown",
     "metadata": {},
     "source": [
      "- \uc544\uae4c \uc791\uc131\ud558\uc600\ub358 print_lol\uc744 \uc5c5\uadf8\ub808\uc774\ub4dc \uc2dc\ucf1c\ubd05\uc2dc\ub2e4.\n",
      "- \uc9c0\uc815\ub41c \ud0ed \uc22b\uc790\ub9cc\ud07c \ub4e4\uc5ec \uc4f0\ub3c4\ub85d range() BIF\ub97c \uc0ac\uc6a9\ud558\uc5ec \ud568\uc218\ub97c \uc218\uc815\ud568."
     ]
    },
    {
     "cell_type": "code",
     "collapsed": false,
     "input": [
      "# -*- coding: utf-8 -*-\n",
      "\"\"\"printing recursive function by jesuishc\"\"\"\n",
      "\n",
      "# building recursive function\n",
      "\n",
      "def print_lol(the_list, level):\n",
      "    for each_item in the_list:\n",
      "        if isinstance(each_item, list):\n",
      "            print_lol(each_item, level + 1)\n",
      "        else:\n",
      "            for tab_stop in range(level):\n",
      "                print(\"\\t\", end='') # python 2.7\uc5d0\uc120 \uc548\ub310\n",
      "            print(each_item)"
     ],
     "language": "python",
     "metadata": {},
     "outputs": [
      {
       "ename": "SyntaxError",
       "evalue": "invalid syntax (<ipython-input-7-22923f935c52>, line 12)",
       "output_type": "pyerr",
       "traceback": [
        "\u001b[1;36m  File \u001b[1;32m\"<ipython-input-7-22923f935c52>\"\u001b[1;36m, line \u001b[1;32m12\u001b[0m\n\u001b[1;33m    print(\"\\t\", end='') # python 2.7\uc5d0\uc120 \uc548\ub310\u001b[0m\n\u001b[1;37m                   ^\u001b[0m\n\u001b[1;31mSyntaxError\u001b[0m\u001b[1;31m:\u001b[0m invalid syntax\n"
       ]
      }
     ],
     "prompt_number": 7
    },
    {
     "cell_type": "code",
     "collapsed": false,
     "input": [
      "print_lol(movies, 0)"
     ],
     "language": "python",
     "metadata": {},
     "outputs": [
      {
       "ename": "TypeError",
       "evalue": "print_lol() takes exactly 1 argument (2 given)",
       "output_type": "pyerr",
       "traceback": [
        "\u001b[1;31m---------------------------------------------------------------------------\u001b[0m\n\u001b[1;31mTypeError\u001b[0m                                 Traceback (most recent call last)",
        "\u001b[1;32m<ipython-input-13-51365537cb9f>\u001b[0m in \u001b[0;36m<module>\u001b[1;34m()\u001b[0m\n\u001b[1;32m----> 1\u001b[1;33m \u001b[0mprint_lol\u001b[0m\u001b[1;33m(\u001b[0m\u001b[0mmovies\u001b[0m\u001b[1;33m,\u001b[0m \u001b[1;36m0\u001b[0m\u001b[1;33m)\u001b[0m\u001b[1;33m\u001b[0m\u001b[0m\n\u001b[0m",
        "\u001b[1;31mTypeError\u001b[0m: print_lol() takes exactly 1 argument (2 given)"
       ]
      }
     ],
     "prompt_number": 13
    },
    {
     "cell_type": "heading",
     "level": 1,
     "metadata": {},
     "source": [
      "3. \ud30c\uc77c\uacfc \uc608\uc678"
     ]
    },
    {
     "cell_type": "markdown",
     "metadata": {},
     "source": [
      "- python\uc5d0\uc11c \ud30c\uc77c\uc744 \uc77d\uace0 \ub2eb\ub294 \ubc29\ubc95"
     ]
    },
    {
     "cell_type": "code",
     "collapsed": false,
     "input": [
      "import os\n",
      "os.getcwd() #\ud604\uc7ac \uc791\uc5c5 \ub514\ub809\ud1a0\ub9ac"
     ],
     "language": "python",
     "metadata": {},
     "outputs": [
      {
       "metadata": {},
       "output_type": "pyout",
       "prompt_number": 18,
       "text": [
        "'E:\\\\ipython\\\\iPython'"
       ]
      }
     ],
     "prompt_number": 18
    },
    {
     "cell_type": "code",
     "collapsed": false,
     "input": [
      "os.chdir(os.path.expanduser('~\\Dropbox\\iSystems Introductory Tutorials\\Python\\HeadFirstPython\\chapter3'))#\uc791\uc5c5 \ub514\ub809\ud1a0\ub9ac\ub97c sketch.txt\uac00 \uc788\ub294 \ud3f4\ub354\ub85c \ubc14\uafc8\n",
      "os.getcwd()"
     ],
     "language": "python",
     "metadata": {},
     "outputs": [
      {
       "metadata": {},
       "output_type": "pyout",
       "prompt_number": 15,
       "text": [
        "'C:\\\\Users\\\\USER1404\\\\Dropbox\\\\iSystems Introductory Tutorials\\\\Python\\\\HeadFirstPython\\\\chapter3'"
       ]
      }
     ],
     "prompt_number": 15
    },
    {
     "cell_type": "markdown",
     "metadata": {},
     "source": [
      "- \uc774\uc81c \ub370\uc774\ud130\ub97c \uc77d\uace0 \uc704\uc5d0\uc11c \ub450\ub77c\uc778\uc744 \uc77d\uc5b4\uc11c \ud654\uba74\uc5d0 \ucd9c\ub825"
     ]
    },
    {
     "cell_type": "code",
     "collapsed": false,
     "input": [
      "data = open('sketch.txt',\"r\")\n",
      "print(data.readline())\n",
      "print(data.readline())"
     ],
     "language": "python",
     "metadata": {},
     "outputs": [
      {
       "output_type": "stream",
       "stream": "stdout",
       "text": [
        "Man: Is this the right room for an argument?\n",
        "\n",
        "Other Man: I've told you once.\n",
        "\n"
       ]
      }
     ],
     "prompt_number": 16
    },
    {
     "cell_type": "markdown",
     "metadata": {},
     "source": [
      "- \uc774\uc81c for \ub8e8\ud504\ub97c \ud1b5\ud574 \ubaa8\ub4e0 \ub77c\uc778\uc744 \ucc98\ub9ac"
     ]
    },
    {
     "cell_type": "code",
     "collapsed": false,
     "input": [
      "data.seek(0)\n",
      "for each_line in data:\n",
      "    print(each_line)"
     ],
     "language": "python",
     "metadata": {},
     "outputs": [
      {
       "output_type": "stream",
       "stream": "stdout",
       "text": [
        "Man: Is this the right room for an argument?\n",
        "\n",
        "Other Man: I've told you once.\n",
        "\n",
        "Man: No you haven't!\n",
        "\n",
        "Other Man: Yes I have.\n",
        "\n",
        "Man: When?\n",
        "\n",
        "Other Man: Just now.\n",
        "\n",
        "Man: No you didn't!\n",
        "\n",
        "Other Man: Yes I did!\n",
        "\n",
        "Man: You didn't!\n",
        "\n",
        "Other Man: I'm telling you, I did!\n",
        "\n",
        "Man: You did not!\n",
        "\n",
        "Other Man: Oh I'm sorry, is this a five minute argument, or the full half hour?\n",
        "\n",
        "Man: Ah! (taking out his wallet and paying) Just the five minutes.\n",
        "\n",
        "Other Man: Just the five minutes. Thank you.\n",
        "\n",
        "Other Man: Anyway, I did.\n",
        "\n",
        "Man: You most certainly did not!\n",
        "\n",
        "Other Man: Now let's get one thing quite clear: I most definitely told you!\n",
        "\n",
        "Man: Oh no you didn't!\n",
        "\n",
        "Other Man: Oh yes I did!\n",
        "\n",
        "Man: Oh no you didn't!\n",
        "\n",
        "Other Man: Oh yes I did!\n",
        "\n",
        "Man: Oh look, this isn't an argument!\n",
        "\n",
        "(pause)\n",
        "\n",
        "Other Man: Yes it is!\n",
        "\n",
        "Man: No it isn't!\n",
        "\n",
        "(pause)\n",
        "\n",
        "Man: It's just contradiction!\n",
        "\n",
        "Other Man: No it isn't!\n",
        "\n",
        "Man: It IS!\n",
        "\n",
        "Other Man: It is NOT!\n",
        "\n",
        "Man: You just contradicted me!\n",
        "\n",
        "Other Man: No I didn't!\n",
        "\n",
        "Man: You DID!\n",
        "\n",
        "Other Man: No no no!\n",
        "\n",
        "Man: You did just then!\n",
        "\n",
        "Other Man: Nonsense!\n",
        "\n",
        "Man: (exasperated) Oh, this is futile!!\n",
        "\n",
        "(pause)\n",
        "\n",
        "Other Man: No it isn't!\n",
        "\n",
        "Man: Yes it is!\n"
       ]
      }
     ],
     "prompt_number": 17
    },
    {
     "cell_type": "markdown",
     "metadata": {},
     "source": [
      "- close\ub97c \ud1b5\ud558\uc5ec \ub2eb\uae30"
     ]
    },
    {
     "cell_type": "code",
     "collapsed": false,
     "input": [
      "data.close()"
     ],
     "language": "python",
     "metadata": {},
     "outputs": [],
     "prompt_number": 18
    },
    {
     "cell_type": "code",
     "collapsed": false,
     "input": [
      "import sketch"
     ],
     "language": "python",
     "metadata": {},
     "outputs": [
      {
       "output_type": "stream",
       "stream": "stdout",
       "text": [
        "Man\n",
        "said:\n",
        " Is this the right room for an argument?\n",
        "\n",
        "Other Man\n",
        "said:\n",
        " I've told you once.\n",
        "\n",
        "Man\n",
        "said:\n",
        " No you haven't!\n",
        "\n",
        "Other Man\n",
        "said:\n",
        " Yes I have.\n",
        "\n",
        "Man\n",
        "said:\n",
        " When?\n",
        "\n",
        "Other Man\n",
        "said:\n",
        " Just now.\n",
        "\n",
        "Man\n",
        "said:\n",
        " No you didn't!\n",
        "\n",
        "Other Man\n",
        "said:\n",
        " Yes I did!\n",
        "\n",
        "Man\n",
        "said:\n",
        " You didn't!\n",
        "\n",
        "Other Man\n",
        "said:\n",
        " I'm telling you, I did!\n",
        "\n",
        "Man\n",
        "said:\n",
        " You did not!\n",
        "\n",
        "Other Man\n",
        "said:\n",
        " Oh I'm sorry, is this a five minute argument, or the full half hour?\n",
        "\n",
        "Man\n",
        "said:\n",
        " Ah! (taking out his wallet and paying) Just the five minutes.\n",
        "\n",
        "Other Man\n",
        "said:\n",
        " Just the five minutes. Thank you.\n",
        "\n",
        "Other Man\n",
        "said:\n",
        " Anyway, I did.\n",
        "\n",
        "Man\n",
        "said:\n",
        " You most certainly did not!\n",
        "\n",
        "Other Man\n",
        "said:\n",
        " Now let's get one thing quite clear: I most definitely told you!\n",
        "\n",
        "Man\n",
        "said:\n",
        " Oh no you didn't!\n",
        "\n",
        "Other Man\n",
        "said:\n",
        " Oh yes I did!\n",
        "\n",
        "Man\n",
        "said:\n",
        " Oh no you didn't!\n",
        "\n",
        "Other Man\n",
        "said:\n",
        " Oh yes I did!\n",
        "\n",
        "Man\n",
        "said:\n",
        " Oh look, this isn't an argument!\n",
        "\n",
        "Other Man\n",
        "said:\n",
        " Yes it is!\n",
        "\n",
        "Man\n",
        "said:\n",
        " No it isn't!\n",
        "\n",
        "Man\n",
        "said:\n",
        " It's just contradiction!\n",
        "\n",
        "Other Man\n",
        "said:\n",
        " No it isn't!\n",
        "\n",
        "Man\n",
        "said:\n",
        " It IS!\n",
        "\n",
        "Other Man\n",
        "said:\n",
        " It is NOT!\n",
        "\n",
        "Man\n",
        "said:\n",
        " You just contradicted me!\n",
        "\n",
        "Other Man\n",
        "said:\n",
        " No I didn't!\n",
        "\n",
        "Man\n",
        "said:\n",
        " You DID!\n",
        "\n",
        "Other Man\n",
        "said:\n",
        " No no no!\n",
        "\n",
        "Man\n",
        "said:\n",
        " You did just then!\n",
        "\n",
        "Other Man\n",
        "said:\n",
        " Nonsense!\n",
        "\n",
        "Man\n",
        "said:\n",
        " (exasperated) Oh, this is futile!!\n",
        "\n",
        "Other Man\n",
        "said:\n",
        " No it isn't!\n",
        "\n",
        "Man\n",
        "said:\n",
        " Yes it is!\n"
       ]
      }
     ],
     "prompt_number": 19
    },
    {
     "cell_type": "markdown",
     "metadata": {},
     "source": [
      "- split BIF\uc758 parameter\ub97c \ud578\ub4e4\ub9c1 \ud558\uc5ec \uc624\ub958\ub294 \ud574\uacb0\ud588\uc73c\ub098 \ub2e4\uc2dc \uc5d0\ub7ec\ubc1c\uc0dd\n",
      "- \uc608\uce21\ud588\ub354 \ub370\uc774\ud130\uc758 \ud3ec\ub9f7\uacfc \ub2e4\ub978 \ud3ec\ub9f7\uc774 \ub098\uc634\n",
      "- \ub450\uac00\uc9c0 \ubc29\ubc95\uc73c\ub85c \ucc98\ub9ac\n",
      "    - \ub17c\ub9ac\uc758 \ucd94\uac00\n",
      "    - trace and except"
     ]
    },
    {
     "cell_type": "code",
     "collapsed": false,
     "input": [
      "import sketch"
     ],
     "language": "python",
     "metadata": {},
     "outputs": [],
     "prompt_number": 20
    },
    {
     "cell_type": "markdown",
     "metadata": {},
     "source": [
      "- \uc791\ub3d9\uc740 \ub418\uc9c0\ub9cc \ub370\uc774\ud130 \ud30c\uc77c\uc758 \ud615\uc2dd\uc774 \ubc14\ub014 \uacbd\uc6b0 \uc870\uac74\ubb38\ub3c4 \ubc14\ub00c\uc5b4\uc57c\ud568\n",
      "- if \ubb38\uc5d0 \uc0ac\uc6a9\ub41c \uc870\uac74\ubb38\uc774 \uc774\ud574\ud558\uae30 \uc5b4\ub824\uc6c0\n",
      "- robust\ud558\uc9c0 \uc54a\uc74c"
     ]
    },
    {
     "cell_type": "markdown",
     "metadata": {},
     "source": [
      "- traceback\uc740 python\uc774 \uc608\uae30\uce58 \ubabb\ud588\ub358 \uc0c1\ud669\uc744 \uc54c\ub824\uc8fc\ub294 \ubc29\ubc95\n",
      "- \uc774\ub54c\uc758 \ub7f0\ud0c0\uc784 \uc5d0\ub7ec\ub97c exception\uc774\ub77c\uace0 \ud568\n",
      "- \ub7f0\ud0c0\uc784 \uc5d0\ub7ec\ub97c \uc81c\uc5b4\ud558\uc5ec \ucf54\ub4dc\uac00 \uc2e4\ud589\ud558\uac8c \ud560 \uc218 \uc788\uc74c"
     ]
    },
    {
     "cell_type": "code",
     "collapsed": false,
     "input": [
      "import sketch"
     ],
     "language": "python",
     "metadata": {},
     "outputs": [],
     "prompt_number": 22
    },
    {
     "cell_type": "heading",
     "level": 1,
     "metadata": {},
     "source": [
      "4. \uc601\uc18d\uc131 - \ud30c\uc77c\uc5d0 \ub370\uc774\ud130 \uc800\uc7a5\ud558\uae30"
     ]
    },
    {
     "cell_type": "markdown",
     "metadata": {},
     "source": [
      "- Python\uc5d0\uc11c \ub370\uc774\ud130\ub97c \ucc98\ub9ac\ud55c \ub4a4 \ub2e4\uc2dc \ud30c\uc77c\uc744 \uc800\uc7a5\ud558\ub294 \ubc29\ubc95"
     ]
    },
    {
     "cell_type": "code",
     "collapsed": false,
     "input": [
      "man = [] #\ube48 \ub9ac\uc2a4\ud2b8 \uc0dd\uc131\n",
      "other =[] "
     ],
     "language": "python",
     "metadata": {},
     "outputs": [],
     "prompt_number": 23
    },
    {
     "cell_type": "code",
     "collapsed": false,
     "input": [
      "try:\n",
      "    data = open('sketch.txt',\"r\")\n",
      "    for each_line in data:\n",
      "        try:\n",
      "            (role, line_spoken) = each_line.split(':',1)\n",
      "            line_spoken = line_spoken.strip() #\ubb38\uc790\uc5f4 \uc55e\ub4a4\uc758 \ubd88\ud544\uc694\ud55c \uacf5\ubc31\uc744 \uc81c\uac70\ud55c \ub4a4, \uc55e \ub4a4 \uacf5\ubc31\uc744 \uc81c\uac70\ud55c \ubb38\uc790\uc5f4\uc744 \ub2e4\uc2dc \uc5c5\ub370\uc774\ud2b8\n",
      "            if role == 'Man':\n",
      "                man.append(line_spoken)\n",
      "            elif role == 'Other Man':\n",
      "                other.append(line_spoken)\n",
      "        except ValueError:\n",
      "            pass\n",
      "    data.close()\n",
      "except IOError:\n",
      "    print('The datafile is missing!')\n",
      "print(man)\n",
      "print(other)"
     ],
     "language": "python",
     "metadata": {},
     "outputs": [
      {
       "output_type": "stream",
       "stream": "stdout",
       "text": [
        "['Is this the right room for an argument?', \"No you haven't!\", 'When?', \"No you didn't!\", \"You didn't!\", 'You did not!', 'Ah! (taking out his wallet and paying) Just the five minutes.', 'You most certainly did not!', \"Oh no you didn't!\", \"Oh no you didn't!\", \"Oh look, this isn't an argument!\", \"No it isn't!\", \"It's just contradiction!\", 'It IS!', 'You just contradicted me!', 'You DID!', 'You did just then!', '(exasperated) Oh, this is futile!!', 'Yes it is!']\n",
        "[\"I've told you once.\", 'Yes I have.', 'Just now.', 'Yes I did!', \"I'm telling you, I did!\", \"Oh I'm sorry, is this a five minute argument, or the full half hour?\", 'Just the five minutes. Thank you.', 'Anyway, I did.', \"Now let's get one thing quite clear: I most definitely told you!\", 'Oh yes I did!', 'Oh yes I did!', 'Yes it is!', \"No it isn't!\", 'It is NOT!', \"No I didn't!\", 'No no no!', 'Nonsense!', \"No it isn't!\"]\n"
       ]
      }
     ],
     "prompt_number": 24
    },
    {
     "cell_type": "markdown",
     "metadata": {},
     "source": [
      "# \uc4f0\uae30 \ubaa8\ub4dc\ub85c \ud30c\uc77c \uc5f4\uae30\n",
      "- \uc4f0\uae30 \ubaa8\ub4dc\ub294 out = open(\"data.out\",\"w\")\n",
      "- print()\ub97c \ud1b5\ud574 \ub370\uc774\ud130\ub97c \ucd9c\ub825. \ub370\uc774\ud130\ub97c \ud30c\uc77c\ub85c \ucd9c\ub825\ud558\uae30 \uc704\ud574\uc11c\ub294 file\uc548\uc5d0 \ub370\uc774\ud130 \ud30c\uc77c \uac1d\uccb4 \uc9c0\uc815\n",
      "- \ud30c\uc77c\uc744 \ub2eb\uc544\uc57c \uce90\uc2dc\uc5d0 \ub0a8\uc544\uc788\ub358 \ub370\uc774\ud130\ub3c4 \uc2e4\uc81c \ud30c\uc77c\uc5d0 \uc368\uc9d0 (flushing)"
     ]
    },
    {
     "cell_type": "code",
     "collapsed": false,
     "input": [
      "try:\n",
      "    man_file = open('man_data.txt','w')\n",
      "    other_file = open('other_data.txt','w')\n",
      "    \n",
      "    man_file.seek(0)\n",
      "    man_file.write(str(man))\n",
      "    other_file.write(str(other))\n",
      "    \n",
      "    man_file.close()\n",
      "    other_file.close()\n",
      "except IOError:\n",
      "    print(\"File error\")"
     ],
     "language": "python",
     "metadata": {},
     "outputs": [],
     "prompt_number": 25
    },
    {
     "cell_type": "markdown",
     "metadata": {},
     "source": [
      "- \uc704\uc758 \ucf54\ub4dc\ub294 man_data.txt\uc640 other_file.txt\ub77c\ub294 \ud30c\uc77c\uc744 \uc0c8\ub85c \uc0dd\uc131\ud55c \ub4a4 \uc704\uc5d0\uc11c \uc77d\uc740 sketch.txt \uc758 \ud30c\uc77c\uc744 \ucc98\ub9ac\ud558\uc5ec \uac01\uac01\uc758 \ub370\uc774\ud130\ub97c \uc800\uc7a5\ud558\ub294 \ucf54\ub4dc"
     ]
    },
    {
     "cell_type": "code",
     "collapsed": false,
     "input": [
      "os.chdir(os.path.expanduser('~\\Dropbox\\iSystems Introductory Tutorials\\Python\\images'))\n",
      "from IPython.display import Image\n",
      "Image(filename ='HFP1.jpg')"
     ],
     "language": "python",
     "metadata": {},
     "outputs": [
      {
       "jpeg": "[encoded data removed]",
       "metadata": {},
       "output_type": "pyout",
       "prompt_number": 24,
       "text": [
        "<IPython.core.display.Image at 0x83b9a20>"
       ]
      }
     ],
     "prompt_number": 24
    },
    {
     "cell_type": "markdown",
     "metadata": {},
     "source": [
      "- \uadf8\ub7ed\uc800\ub7ed \ucf54\ub4dc\ub294 \uc644\uc131\ud558\uc600\uc73c\ub098 \uc5d0\ub7ec\uac00 \ubc1c\uc0dd\ud558\uc600\uc744 \uacbd\uc6b0 Fiile Error\ub77c\ub294 \uba54\uc2dc\uc9c0 \ubc16\uc5d0 \ucd9c\ub825\ud558\uc9c0 \uc54a\uc74c...\n",
      "- \uc5b4\ub5a0\ud55c \uc5d0\ub7ec\uc778\uc9c0\ub294 \uc54c\ub824\uc8fc\uc9c0 \uc54a\uc74c \ub204\uac00 \uc774 \uc5d0\ub7ec\ub97c \uac00\ub974\uccd0 \uc904 \uc218 \uc788\uc744\uae4c?\n",
      "- python interpreter\uac00 \uc54c\uace0 \uc788\uc74c..."
     ]
    },
    {
     "cell_type": "code",
     "collapsed": false,
     "input": [
      "Image(filename='HFP2.jpg') "
     ],
     "language": "python",
     "metadata": {},
     "outputs": [
      {
       "jpeg": "[encoded data removed]",
       "metadata": {},
       "output_type": "pyout",
       "prompt_number": 25,
       "text": [
        "<IPython.core.display.Image at 0x83b97b8>"
       ]
      }
     ],
     "prompt_number": 25
    },
    {
     "cell_type": "markdown",
     "metadata": {},
     "source": [
      "- \ud30c\uc77c\uc774 \uc874\uc7ac\ud558\uc9c0 \uc54a\uc73c\ub2c8\uae4c data object\uac00 \uc0dd\uc131\ub418\uc9c0 \uc54a\uc558\uc73c\ubbc0\ub85c close() method\ub97c \ud638\ucd9c\ud560 \uc218 \uc5c6\uc74c\n",
      "- \ub530\ub77c\uc11c close() method\ub97c \ud638\ucd9c\ud558\uae30 \uc804\uc5d0 finally \uc2a4\uc704\ud2b8 \uc548\uc5d0\uc11c data \ub77c\ub294 \uc774\ub984\uc774 \uc874\uc7ac\ud558\ub294\uc9c0 \ud655\uc778\ud558\uace0 \uc788\uc744 \ub54c\ub9cc close() method\ub97c \ud638\ucd9c\ud560 \uc218 \uc788\ub3c4\ub85d \ub9cc\ub4e4\uba74 \ub420\ub4ef."
     ]
    },
    {
     "cell_type": "code",
     "collapsed": false,
     "input": [
      "Image(filename='HFP3.jpg') "
     ],
     "language": "python",
     "metadata": {},
     "outputs": [
      {
       "jpeg": "[encoded data removed]",
       "metadata": {},
       "output_type": "pyout",
       "prompt_number": 26,
       "text": [
        "<IPython.core.display.Image at 0x83b9828>"
       ]
      }
     ],
     "prompt_number": 26
    },
    {
     "cell_type": "markdown",
     "metadata": {},
     "source": [
      "- \uc5b4\ub5a0\ud55c \uc5d0\ub7ec\uac00 \ubc1c\uc0dd\ud558\uc600\ub294\uc9c0\ub294 \uc5ec\uc804\ud788 \uc54c \uc218 \uc5c6\uc74c"
     ]
    },
    {
     "cell_type": "code",
     "collapsed": false,
     "input": [
      "Image(filename='HFP4.jpg')"
     ],
     "language": "python",
     "metadata": {},
     "outputs": [
      {
       "jpeg": "[encoded data removed]",
       "metadata": {},
       "output_type": "pyout",
       "prompt_number": 27,
       "text": [
        "<IPython.core.display.Image at 0x83b9a58>"
       ]
      }
     ],
     "prompt_number": 27
    },
    {
     "cell_type": "raw",
     "metadata": {},
     "source": [
      "try:\n",
      "    data = open('missing.txt')\n",
      "    print(data.readline())\n",
      "except IOError as err: <--\uc5b4\ub5a0\ud55c \uc5d0\ub7ec\uac00 \ubc1c\uc0dd\ud588\ub294\uc9c0 err\ub85c \uc120\uc5b8\ud558\uace0\n",
      "    print('File error: ' + str(err))  <--\ucd9c\ub825\ud560 \ub54c \uadf8 \uc5d0\ub7ec\ubb38\uc744 str\uc73c\ub85c \ubc14\uafb8\uc5b4\uc11c \ucd9c\ub825\n",
      "finally:\n",
      "\tif 'data' in locals ():\n",
      "\t    data.close()"
     ]
    },
    {
     "cell_type": "markdown",
     "metadata": {},
     "source": [
      "#with\ub97c \uc0ac\uc6a9\ud574\uc11c \ud30c\uc77c \uc791\uc5c5\n",
      "- \uc77c\ubc18\uc801\uc73c\ub85c \ud30c\uc77c\uc744 \uc0ac\uc6a9\ud560 \ub54c\ub294 try/except/finally \ud328\ud134\uc774 \uc8fc\ub85c \uc0ac\uc6a9\ub428\n",
      "- with\ub97c \uc0ac\uc6a9\ud558\uba74 finally \uc2a4\uc704\ud2b8\ub97c \uc0ac\uc6a9\ud560 \ud544\uc694\uac00 \uc5c6\uc74c\n",
      "- \uc790\ub3d9\uc73c\ub85c data.close() method\ub97c \ud638\ucd9c\n",
      "- \uc544\ub798\uc758 \ub450 \ucf54\ub4dc\ub294 \uac19\uc740 \ucf54\ub4dc"
     ]
    },
    {
     "cell_type": "raw",
     "metadata": {},
     "source": [
      "try:\n",
      "    data = open('missing.txt')\n",
      "    print(data.readline())\n",
      "except IOError as err: <--\uc5b4\ub5a0\ud55c \uc5d0\ub7ec\uac00 \ubc1c\uc0dd\ud588\ub294\uc9c0 err\ub85c \uc120\uc5b8\ud558\uace0\n",
      "    print('File error: ' + str(err))  <--\ucd9c\ub825\ud560 \ub54c \uadf8 \uc5d0\ub7ec\ubb38\uc744 str\uc73c\ub85c \ubc14\uafb8\uc5b4\uc11c \ucd9c\ub825\n",
      "finally:\n",
      "\tif 'data' in locals ():\n",
      "\t    data.close()"
     ]
    },
    {
     "cell_type": "raw",
     "metadata": {},
     "source": [
      "try:\n",
      "    with open('missing.txt') as data:\n",
      "        print(data.readline())\n",
      "except IOError as err: <--\uc5b4\ub5a0\ud55c \uc5d0\ub7ec\uac00 \ubc1c\uc0dd\ud588\ub294\uc9c0 err\ub85c \uc120\uc5b8\ud558\uace0\n",
      "    print('File error: ' + str(err))  <--\ucd9c\ub825\ud560 \ub54c \uadf8 \uc5d0\ub7ec\ubb38\uc744 str\uc73c\ub85c \ubc14\uafb8\uc5b4\uc11c \ucd9c\ub825"
     ]
    },
    {
     "cell_type": "markdown",
     "metadata": {},
     "source": [
      "- code\uac00 \ud6e8\uc52c \uac04\ub2e8\ud574\uc9d0\n",
      "- \uc608\uc804\uc758 man_data.txt\uc640 other_data.txt\ub97c \uc4f0\ub294 \ud30c\uc77c\uc744 \uc218\uc815\ud574 \ubd05\uc2dc\ub2e4"
     ]
    },
    {
     "cell_type": "code",
     "collapsed": false,
     "input": [
      "try:\n",
      "    with open('man_data.txt','w') as man_file, open('other_data.txt','w') as other_file:\n",
      "\n",
      "            man_file.write(str(man))\n",
      "            other_file.write(str(other))\n",
      "\n",
      "except IOError as err:\n",
      "    print(\"File error: \" +str(err) )"
     ],
     "language": "python",
     "metadata": {},
     "outputs": [],
     "prompt_number": 54
    },
    {
     "cell_type": "code",
     "collapsed": false,
     "input": [
      "Image(filename='HFP5.jpg')"
     ],
     "language": "python",
     "metadata": {},
     "outputs": [
      {
       "jpeg": "[encoded data removed]",
       "metadata": {},
       "output_type": "pyout",
       "prompt_number": 28,
       "text": [
        "<IPython.core.display.Image at 0x83b9ac8>"
       ]
      }
     ],
     "prompt_number": 28
    },
    {
     "cell_type": "markdown",
     "metadata": {},
     "source": [
      "- \uc798 \uc791\ub3d9\ud558\ub294 \uac83\uc744 \ud655\uc778"
     ]
    },
    {
     "cell_type": "code",
     "collapsed": false,
     "input": [
      "os.chdir(os.path.expanduser('~\\Dropbox\\iSystems Introductory Tutorials\\Python\\HeadFirstPython\\chapter3'))\n",
      "import nester\n",
      "with open('man_data.txt') as mdf:\n",
      "    nester.print_lol(mdf)"
     ],
     "language": "python",
     "metadata": {},
     "outputs": [
      {
       "output_type": "stream",
       "stream": "stdout",
       "text": [
        "(lp0\n",
        "\n",
        "S'Is this the right room for an argument?'\n",
        "\n",
        "p1\n",
        "\n",
        "aS\"No you haven't!\"\n",
        "\n",
        "p2\n",
        "\n",
        "aS'When?'\n",
        "\n",
        "p3\n",
        "\n",
        "aS\"No you didn't!\"\n",
        "\n",
        "p4\n",
        "\n",
        "aS\"You didn't!\"\n",
        "\n",
        "p5\n",
        "\n",
        "aS'You did not!'\n",
        "\n",
        "p6\n",
        "\n",
        "aS'Ah! (taking out his wallet and paying) Just the five minutes.'\n",
        "\n",
        "p7\n",
        "\n",
        "aS'You most certainly did not!'\n",
        "\n",
        "p8\n",
        "\n",
        "aS\"Oh no you didn't!\"\n",
        "\n",
        "p9\n",
        "\n",
        "aS\"Oh no you didn't!\"\n",
        "\n",
        "p10\n",
        "\n",
        "aS\"Oh look, this isn't an argument!\"\n",
        "\n",
        "p11\n",
        "\n",
        "aS\"No it isn't!\"\n",
        "\n",
        "p12\n",
        "\n",
        "aS\"It's just contradiction!\"\n",
        "\n",
        "p13\n",
        "\n",
        "aS'It IS!'\n",
        "\n",
        "p14\n",
        "\n",
        "aS'You just contradicted me!'\n",
        "\n",
        "p15\n",
        "\n",
        "aS'You DID!'\n",
        "\n",
        "p16\n",
        "\n",
        "aS'You did just then!'\n",
        "\n",
        "p17\n",
        "\n",
        "aS'(exasperated) Oh, this is futile!!'\n",
        "\n",
        "p18\n",
        "\n",
        "aS'Yes it is!'\n",
        "\n",
        "p19\n",
        "\n",
        "a.\n"
       ]
      }
     ],
     "prompt_number": 30
    },
    {
     "cell_type": "markdown",
     "metadata": {},
     "source": [
      "- \uc774\ub7f4\uc218\uac00 \ub370\uc774\ud130\uac00 \ud55c\ub369\uc5b4\ub9ac\uc57c... \ub0b4\uac00 \uc6d0\ud588\ub358 \uac74 \uc774\uac8c \uc544\ub2cc\ub370...\n",
      "- ,\ub97c \uae30\uc900\uc73c\ub85c \ub370\uc774\ud130\ub97c \uc798\ub77c\ubd05\uc2dc\ub2e4\n",
      "- \uc608\uc804\uc5d0 \ub9cc\ub4e4\uc5c8\ub358 nester\ub97c \uc218\uc815\ud568 # \ub2e4\uc2dc \ud574\ubd10\uc57c\ud568"
     ]
    },
    {
     "cell_type": "code",
     "collapsed": false,
     "input": [
      "import pickle\n",
      "\n",
      "try:\n",
      "    with open('man_data.txt','wb') as man_file, open('other_data.txt','wb') as other_file:\n",
      "        pickle.dump(man, man_file)\n",
      "        pickle.dump(other, other_file)\n",
      "except IOError as err:\n",
      "    print('File error: ' + str(err))\n",
      "except pickle.PickleError as perr:\n",
      "    print('Pickling error: ', +str(perr))"
     ],
     "language": "python",
     "metadata": {},
     "outputs": [
      {
       "ename": "NameError",
       "evalue": "name 'man' is not defined",
       "output_type": "pyerr",
       "traceback": [
        "\u001b[1;31m---------------------------------------------------------------------------\u001b[0m\n\u001b[1;31mNameError\u001b[0m                                 Traceback (most recent call last)",
        "\u001b[1;32m<ipython-input-33-602012cd1ec9>\u001b[0m in \u001b[0;36m<module>\u001b[1;34m()\u001b[0m\n\u001b[0;32m      3\u001b[0m \u001b[1;32mtry\u001b[0m\u001b[1;33m:\u001b[0m\u001b[1;33m\u001b[0m\u001b[0m\n\u001b[0;32m      4\u001b[0m     \u001b[1;32mwith\u001b[0m \u001b[0mopen\u001b[0m\u001b[1;33m(\u001b[0m\u001b[1;34m'man_data.txt'\u001b[0m\u001b[1;33m,\u001b[0m\u001b[1;34m'wb'\u001b[0m\u001b[1;33m)\u001b[0m \u001b[1;32mas\u001b[0m \u001b[0mman_file\u001b[0m\u001b[1;33m,\u001b[0m \u001b[0mopen\u001b[0m\u001b[1;33m(\u001b[0m\u001b[1;34m'other_data.txt'\u001b[0m\u001b[1;33m,\u001b[0m\u001b[1;34m'wb'\u001b[0m\u001b[1;33m)\u001b[0m \u001b[1;32mas\u001b[0m \u001b[0mother_file\u001b[0m\u001b[1;33m:\u001b[0m\u001b[1;33m\u001b[0m\u001b[0m\n\u001b[1;32m----> 5\u001b[1;33m         \u001b[0mpickle\u001b[0m\u001b[1;33m.\u001b[0m\u001b[0mdump\u001b[0m\u001b[1;33m(\u001b[0m\u001b[0mman\u001b[0m\u001b[1;33m,\u001b[0m \u001b[0mman_file\u001b[0m\u001b[1;33m)\u001b[0m\u001b[1;33m\u001b[0m\u001b[0m\n\u001b[0m\u001b[0;32m      6\u001b[0m         \u001b[0mpickle\u001b[0m\u001b[1;33m.\u001b[0m\u001b[0mdump\u001b[0m\u001b[1;33m(\u001b[0m\u001b[0mother\u001b[0m\u001b[1;33m,\u001b[0m \u001b[0mother_file\u001b[0m\u001b[1;33m)\u001b[0m\u001b[1;33m\u001b[0m\u001b[0m\n\u001b[0;32m      7\u001b[0m \u001b[1;32mexcept\u001b[0m \u001b[0mIOError\u001b[0m \u001b[1;32mas\u001b[0m \u001b[0merr\u001b[0m\u001b[1;33m:\u001b[0m\u001b[1;33m\u001b[0m\u001b[0m\n",
        "\u001b[1;31mNameError\u001b[0m: name 'man' is not defined"
       ]
      }
     ],
     "prompt_number": 33
    },
    {
     "cell_type": "code",
     "collapsed": false,
     "input": [
      "with open('man_data.txt') as mdf:\n",
      "    print(mdf.readline())"
     ],
     "language": "python",
     "metadata": {},
     "outputs": [
      {
       "output_type": "stream",
       "stream": "stdout",
       "text": [
        "\n"
       ]
      }
     ],
     "prompt_number": 35
    },
    {
     "cell_type": "heading",
     "level": 1,
     "metadata": {},
     "source": [
      "5. \ub370\uc774\ud130\uc758 \uc774\ud574"
     ]
    },
    {
     "cell_type": "markdown",
     "metadata": {},
     "source": [
      "- data\ub97c \uc77d\uc5b4\uc640\uc57c \ud568"
     ]
    },
    {
     "cell_type": "code",
     "collapsed": false,
     "input": [
      "import os\n",
      "os.chdir(os.path.expanduser('~\\Dropbox\\iSystems Introductory Tutorials\\Python\\HeadFirstPython\\chapter5')) #\uacbd\ub85c \ucc3e\uae30\n",
      "\n",
      "with open('james.txt') as jaf:\n",
      "    data = jaf.readline()\n",
      "james = data.strip().split(',')\n",
      "\n",
      "with open('julie.txt') as juf:\n",
      "    data = juf.readline()\n",
      "julie = data.strip().split(',')\n",
      "\n",
      "with open('mikey.txt') as mif:\n",
      "    data = mif.readline()\n",
      "mikey = data.strip().split(',')\n",
      "\n",
      "with open('sarah.txt') as saf:\n",
      "    data = saf.readline()\n",
      "sarah = data.strip().split(',')\n",
      "\n",
      "print(james)\n",
      "print(julie)\n",
      "print(mikey)\n",
      "print(sarah)"
     ],
     "language": "python",
     "metadata": {},
     "outputs": [
      {
       "output_type": "stream",
       "stream": "stdout",
       "text": [
        "['2-34', '3:21', '2.34', '2.45', '3.01', '2:01', '2:01', '3:10', '2-22']\n",
        "['2.59', '2.11', '2:11', '2:23', '3-10', '2-23', '3:10', '3.21', '3-21']\n",
        "['2:22', '3.01', '3:01', '3.02', '3:02', '3.02', '3:22', '2.49', '2:38']\n",
        "['2:58', '2.58', '2:39', '2-25', '2-55', '2:54', '2.18', '2:55', '2:55']\n"
       ]
      }
     ],
     "prompt_number": 41
    },
    {
     "cell_type": "markdown",
     "metadata": {},
     "source": [
      "- data\ub97c \uc624\ub984\ucc28\uc21c\uc73c\ub85c \uc815\ub9ac\ud574\ubd05\uc2dc\ub2e4\n",
      "- python\uc5d0\ub294 \ub450\uac00\uc9c0 \uc815\ub82c \ubc29\ubc95\uc774 \uc788\uc74c\n",
      "        - \uc6d0\ubcf8 \uc815\ub82c\uc740 \uc6d0\ub798 \ub370\uc774\ud130\ub97c \uc190\ubcf4\ub294 \ubc29\ubc95 sort()\n",
      "        - \uc0ac\ubcf8 \uc815\ub82c\uc744 \ub370\uc774\ud130\ub97c \uce74\ud53c\ud55c \ud6c4 \uc6d0\ubcf8 \ub370\uc774\ud130\ub294 \uadf8\ub300\ub85c \ub0b4\ube44\ub450\uace0 \uc0ac\ubcf8 \uc815\ub82c\ub9cc \ub370\uc774\ud130\ub97c \uc815\ub82c sorted()"
     ]
    },
    {
     "cell_type": "code",
     "collapsed": false,
     "input": [
      "print(sorted(james))\n",
      "print(sorted(julie))\n",
      "print(sorted(mikey))\n",
      "print(sorted(sarah))"
     ],
     "language": "python",
     "metadata": {},
     "outputs": [
      {
       "output_type": "stream",
       "stream": "stdout",
       "text": [
        "['2-22', '2-34', '2.34', '2.45', '2:01', '2:01', '3.01', '3:10', '3:21']\n",
        "['2-23', '2.11', '2.59', '2:11', '2:23', '3-10', '3-21', '3.21', '3:10']\n",
        "['2.49', '2:22', '2:38', '3.01', '3.02', '3.02', '3:01', '3:02', '3:22']\n",
        "['2-25', '2-55', '2.18', '2.58', '2:39', '2:54', '2:55', '2:55', '2:58']\n"
       ]
      }
     ],
     "prompt_number": 43
    },
    {
     "cell_type": "markdown",
     "metadata": {},
     "source": [
      "- 4\ubc88\uc9f8 \ub370\uc774\ud130\ub97c \ubcf4\uba74 \ub370\uc774\ud130\uac00 \uc815\ub82c\uc774 \uc548\ub418\uc5b4 \uc788\ub294 \uac83\uc744 \ud655\uc778\ud560 \uc218 \uc788\uc74c\n",
      "- \ub370\uc774\ud130\uc758 \ud3ec\ub9f7\uc774 \ub2e4\ub984\n",
      "- \ub9ac\uc2a4\ud2b8\ub97c \uac00\uc838\uc624\ub294 sanitize() \ud568\uc218 \uc791\uc131"
     ]
    },
    {
     "cell_type": "code",
     "collapsed": false,
     "input": [
      "def sanitize(time_string):\n",
      "    if '-' in time_string:\n",
      "        splitter = '-'\n",
      "    elif ':' in time_string:\n",
      "        splitter = ':'\n",
      "    else:\n",
      "        return(time_string)\n",
      "    (mins, secs) = time_string.split(splitter)\n",
      "    return (mins + '.' + secs)"
     ],
     "language": "python",
     "metadata": {},
     "outputs": [],
     "prompt_number": 52
    },
    {
     "cell_type": "code",
     "collapsed": false,
     "input": [
      "import os\n",
      "os.chdir(os.path.expanduser('~\\Dropbox\\iSystems Introductory Tutorials\\Python\\HeadFirstPython\\chapter5')) #\uacbd\ub85c \ucc3e\uae30\n",
      "\n",
      "with open('james.txt') as jaf:\n",
      "    data = jaf.readline()\n",
      "james = data.strip().split(',')\n",
      "\n",
      "with open('julie.txt') as juf:\n",
      "    data = juf.readline()\n",
      "julie = data.strip().split(',')\n",
      "\n",
      "with open('mikey.txt') as mif:\n",
      "    data = mif.readline()\n",
      "mikey = data.strip().split(',')\n",
      "\n",
      "with open('sarah.txt') as saf:\n",
      "    data = saf.readline()\n",
      "sarah = data.strip().split(',')\n",
      "\n",
      "clean_james  =[]\n",
      "clean_julie = []\n",
      "clean_mikey = []\n",
      "clean_sarah = []\n",
      "\n",
      "for each_t in james:\n",
      "    clean_james.append(sanitize(each_t))\n",
      "for each_t in julie:\n",
      "    clean_julie.append(sanitize(each_t))\n",
      "for each_t in mikey:\n",
      "    clean_mikey.append(sanitize(each_t))\n",
      "for each_t in sarah:\n",
      "    clean_sarah.append(sanitize(each_t))\n",
      "    \n",
      "print(sorted(clean_james))\n",
      "print(sorted(clean_julie))\n",
      "print(sorted(clean_mikey))\n",
      "print(sorted(clean_sarah))"
     ],
     "language": "python",
     "metadata": {},
     "outputs": [
      {
       "output_type": "stream",
       "stream": "stdout",
       "text": [
        "['2.01', '2.01', '2.22', '2.34', '2.34', '2.45', '3.01', '3.10', '3.21']\n",
        "['2.11', '2.11', '2.23', '2.23', '2.59', '3.10', '3.10', '3.21', '3.21']\n",
        "['2.22', '2.38', '2.49', '3.01', '3.01', '3.02', '3.02', '3.02', '3.22']\n",
        "['2.18', '2.25', '2.39', '2.54', '2.55', '2.55', '2.55', '2.58', '2.58']\n"
       ]
      }
     ],
     "prompt_number": 72
    },
    {
     "cell_type": "markdown",
     "metadata": {},
     "source": [
      "- \uc774\uc81c \ub370\uc774\ud130\uac00 \uc81c\ub300\ub85c \uc815\ub82c\ub41c \uac83\uc744 \ud655\uc778\ud560 \uc218 \uc788\uc74c\n",
      "- \ucf54\ub4dc\uc5d0 \uc911\ubcf5\ub418\ub294 \ubd80\ubd84\uc774 \ub9ce\uc74c \uac1c\uc120\uc758 \uc5ec\uc9c0\uac00 \uc788\uc74c\n",
      "- \uc9c0\ub2a5\ud615 \ub9ac\uc2a4\ud2b8\uc758 \ud544\uc694\uc131\n",
      "- \uc9c0\ub2a5\ud615 \ub9ac\uc2a4\ud2b8 \uc608\uc81c"
     ]
    },
    {
     "cell_type": "code",
     "collapsed": false,
     "input": [
      "clean_james = [sanitize(each_t) for each_t in james]\n",
      "clean_julie = [sanitize(each_t) for each_t in julie]\n",
      "clean_mikey = [sanitize(each_t) for each_t in mikey]\n",
      "clean_sarah = [sanitize(each_t) for each_t in sarah]\n",
      "print(sorted(clean_james))\n",
      "print(sorted(clean_julie))\n",
      "print(sorted(clean_mikey))\n",
      "print(sorted(clean_sarah))"
     ],
     "language": "python",
     "metadata": {},
     "outputs": [
      {
       "output_type": "stream",
       "stream": "stdout",
       "text": [
        "['2.01', '2.01', '2.22', '2.34', '2.34', '2.45', '3.01', '3.10', '3.21']\n",
        "['2.11', '2.11', '2.23', '2.23', '2.59', '3.10', '3.10', '3.21', '3.21']\n",
        "['2.22', '2.38', '2.49', '3.01', '3.01', '3.02', '3.02', '3.02', '3.22']\n",
        "['2.18', '2.25', '2.39', '2.54', '2.55', '2.55', '2.55', '2.58', '2.58']\n"
       ]
      }
     ],
     "prompt_number": 74
    },
    {
     "cell_type": "code",
     "collapsed": false,
     "input": [
      "mins = [1, 2, 3]\n",
      "secs = [ m*60 for m in mins]\n",
      "secs"
     ],
     "language": "python",
     "metadata": {},
     "outputs": [
      {
       "metadata": {},
       "output_type": "pyout",
       "prompt_number": 62,
       "text": [
        "[60, 120, 180]"
       ]
      }
     ],
     "prompt_number": 62
    },
    {
     "cell_type": "code",
     "collapsed": false,
     "input": [
      "meters = [1, 10 , 3]\n",
      "feet = [m*3.281 for m in meters]\n",
      "feet"
     ],
     "language": "python",
     "metadata": {},
     "outputs": [
      {
       "metadata": {},
       "output_type": "pyout",
       "prompt_number": 64,
       "text": [
        "[3.281, 32.81, 9.843]"
       ]
      }
     ],
     "prompt_number": 64
    },
    {
     "cell_type": "code",
     "collapsed": false,
     "input": [
      "lower = [\"I\", \"don't\",\"like\", \"spam\"]\n",
      "upper = [s.upper() for s in lower]\n",
      "upper"
     ],
     "language": "python",
     "metadata": {},
     "outputs": [
      {
       "metadata": {},
       "output_type": "pyout",
       "prompt_number": 66,
       "text": [
        "['I', \"DON'T\", 'LIKE', 'SPAM']"
       ]
      }
     ],
     "prompt_number": 66
    },
    {
     "cell_type": "code",
     "collapsed": false,
     "input": [
      "dirty = ['2-22', '2:22', '2.22']\n",
      "clean = [sanitize(t) for t in dirty]\n",
      "clean"
     ],
     "language": "python",
     "metadata": {},
     "outputs": [
      {
       "metadata": {},
       "output_type": "pyout",
       "prompt_number": 68,
       "text": [
        "['2.22', '2.22', '2.22']"
       ]
      }
     ],
     "prompt_number": 68
    },
    {
     "cell_type": "code",
     "collapsed": false,
     "input": [
      "clean = [float(s) for s in clean]\n",
      "clean"
     ],
     "language": "python",
     "metadata": {},
     "outputs": [
      {
       "metadata": {},
       "output_type": "pyout",
       "prompt_number": 70,
       "text": [
        "[2.22, 2.22, 2.22]"
       ]
      }
     ],
     "prompt_number": 70
    },
    {
     "cell_type": "code",
     "collapsed": false,
     "input": [
      "clean = [ float(sanitize(t)) for t in ['2-22', '3:33', '4.44']]\n",
      "clean"
     ],
     "language": "python",
     "metadata": {},
     "outputs": [
      {
       "metadata": {},
       "output_type": "pyout",
       "prompt_number": 71,
       "text": [
        "[2.22, 3.33, 4.44]"
       ]
      }
     ],
     "prompt_number": 71
    },
    {
     "cell_type": "markdown",
     "metadata": {},
     "source": [
      "- \ub2e8\uc9c0 \ub9ac\uc2a4\ud2b8\uc758 \ub098\uc5f4\ubfd0\ub9cc\uc774 \uc544\ub2c8\ub77c \uc0c1\uc704 3\uac1c\uc758 \uac12\uc744 \uac00\uc838\uc640\uc57c\ud568"
     ]
    },
    {
     "cell_type": "code",
     "collapsed": false,
     "input": [
      "james =sorted([sanitize(t) for t in james])\n",
      "julie =sorted([sanitize(t) for t in julie])\n",
      "mikey =sorted([sanitize(t) for t in mikey])\n",
      "sarah =sorted([sanitize(t) for t in sarah])\n",
      "\n",
      "unique_james = []\n",
      "for each_t in james:\n",
      "    if each_t not in unique_james:\n",
      "        unique_james.append(each_t)\n",
      "print(unique_james[0:3])\n",
      "\n",
      "unique_julie = []\n",
      "for each_t in james:\n",
      "    if each_t not in unique_julie:\n",
      "        unique_julie.append(each_t)\n",
      "print(unique_julie[0:3])\n",
      "\n",
      "unique_mikey = []\n",
      "for each_t in mikey:\n",
      "    if each_t not in unique_mikey:\n",
      "        unique_mikey.append(each_t)\n",
      "print(unique_mikey[0:3])\n",
      "\n",
      "unique_sarah = []\n",
      "for each_t in sarah:\n",
      "    if each_t not in unique_sarah:\n",
      "        unique_sarah.append(each_t)\n",
      "print(unique_sarah[0:3])\n"
     ],
     "language": "python",
     "metadata": {},
     "outputs": [
      {
       "output_type": "stream",
       "stream": "stdout",
       "text": [
        "['2.01', '2.22', '2.34']\n",
        "['2.01', '2.22', '2.34']\n",
        "['2.22', '2.38', '2.49']\n",
        "['2.18', '2.25', '2.39']\n"
       ]
      }
     ],
     "prompt_number": 81
    },
    {
     "cell_type": "markdown",
     "metadata": {},
     "source": [
      "- \uc644\uc131\ub418\uc5c8\uc9c0\ub9cc \uc5ec\uc804\ud788 \uc911\ubcf5\ub418\uc5b4\uc788\ub294 \ub370\uc774\ud130\ub97c \uc81c\uac70\ud558\ub294 \ucf54\ub4dc\uac00 \uc911\ubcf5\ub418\uc5b4 \uc788\uc74c\n",
      "- \uc9d1\ud569\uc744 \uc0ac\uc6a9\ud574\uc11c \uc911\ubcf5\ub41c \ub370\uc774\ud130\ub97c \uc81c\uac70\ud558\uc790\n",
      "- set()\uc740 \ud329\ud1a0\ub9ac \ud568\uc218\ub85c \uc790\ub3d9\uc73c\ub85c \uc911\ubcf5\ub41c \uc778\uc790\ub97c \uc81c\uac70\ud568"
     ]
    },
    {
     "cell_type": "code",
     "collapsed": false,
     "input": [
      "distnaces = set()\n",
      "distances = {10.6, 11, 8, 10.6, 'two',7}\n",
      "distances"
     ],
     "language": "python",
     "metadata": {},
     "outputs": [
      {
       "metadata": {},
       "output_type": "pyout",
       "prompt_number": 86,
       "text": [
        "{7, 8, 10.6, 11, 'two'}"
       ]
      }
     ],
     "prompt_number": 86
    },
    {
     "cell_type": "code",
     "collapsed": false,
     "input": [
      "with open('james.txt') as jaf:\n",
      "    data = jaf.readline()\n",
      "james = data.strip().split(',')\n",
      "\n",
      "with open('julie.txt') as juf:\n",
      "    data = juf.readline()\n",
      "julie = data.strip().split(',')\n",
      "\n",
      "with open('mikey.txt') as mif:\n",
      "    data = mif.readline()\n",
      "mikey = data.strip().split(',')\n",
      "\n",
      "with open('sarah.txt') as saf:\n",
      "    data = saf.readline()\n",
      "sarah = data.strip().split(',')\n",
      "\n",
      "def get_coach_data(filename):\n",
      "    try:\n",
      "        with open(filename) as f:\n",
      "            data = f.readline()\n",
      "        return(data.strip().split(','))\n",
      "    except IOError as ioerr:\n",
      "        print('File error:' + str(ioerr))\n",
      "        return(None)\n",
      "    \n",
      "sarah = get_coach_data('sarah.txt')\n",
      "print(sorted(set([sanitize(t) for t in sarah]))[0:3])"
     ],
     "language": "python",
     "metadata": {},
     "outputs": [
      {
       "output_type": "stream",
       "stream": "stdout",
       "text": [
        "['2.18', '2.25', '2.39']\n"
       ]
      }
     ],
     "prompt_number": 89
    },
    {
     "cell_type": "heading",
     "level": 1,
     "metadata": {},
     "source": [
      "6. \uc0ac\uc6a9\uc790 \uc815\uc758 \ub370\uc774\ud130 \uac1d\uccb4"
     ]
    },
    {
     "cell_type": "markdown",
     "metadata": {},
     "source": [
      "- \ub370\uc774\ud130 \ud30c\uc77c\uc5d0 \uc120\uc218\uc5d0 \ub300\ud55c \uc815\ubcf4\ub97c \ucd94\uac00\ud574 \ubc84\ub9bc\n",
      "- split() \ub0b4\uc7a5 \ud568\uc218\ub97c \uc0ac\uc6a9\ud574\uc11c \uc0ac\ub77c\uc758 \ub370\uc774\ud130\ub97c \ucd94\ucd9c\ud558\uc5ec \ub9ac\uc2a4\ud2b8\uc5d0 \ub123\uace0 \uccab\ubc88\uc9f8 \ub370\uc774\ud130 \ud56d\ubaa9\uc740 \uc0ac\ub77c\uc758 \uc774\ub984, \ub450\ubc88\uc9f8\ub294 \uc0dd\ub144\uc6d4\uc77c, \ub098\uba38\uc9c0\ub294 \uc0ac\ub77c\uc758 \uc2dc\uac04 \ub370\uc774\ud130\ub85c \ucc98\ub9ac"
     ]
    },
    {
     "cell_type": "code",
     "collapsed": false,
     "input": [
      "os.chdir(os.path.expanduser('~\\Dropbox\\iSystems Introductory Tutorials\\Python\\HeadFirstPython\\chapter6')) #\uacbd\ub85c \ucc3e\uae30\n",
      "\n",
      "def sanitize(time_string):\n",
      "    if '-' in time_string:\n",
      "        splitter = '-'\n",
      "    elif ':' in time_string:\n",
      "        splitter = ':'\n",
      "    else:\n",
      "        return(time_string)\n",
      "    (mins, secs) = time_string.split(splitter)\n",
      "    return (mins + '.' + secs)\n",
      "\n",
      "def get_coach_data(filename):\n",
      "    try:\n",
      "        with open(filename) as f:\n",
      "            data = f.readline()\n",
      "        return(data.strip().split(','))\n",
      "    except IOError as ioerr:\n",
      "        print('File error:' + str(ioerr))\n",
      "        return(None)\n",
      "\n",
      "sarah = get_coach_data('sarah2.txt')\n",
      "(sarah_name, sarah_dob) = sarah.pop(0), sarah.pop(0)\n",
      "print(sarah_name + \"'s fastest times are: \" + str(sorted(set([sanitize(t) for t in sarah]))[0:3]))"
     ],
     "language": "python",
     "metadata": {},
     "outputs": [
      {
       "output_type": "stream",
       "stream": "stdout",
       "text": [
        "Sarah Sweeney's fastest times are: ['2.18', '2.21', '2.22']\n"
       ]
      }
     ],
     "prompt_number": 93
    },
    {
     "cell_type": "markdown",
     "metadata": {},
     "source": [
      "- \uc0ac\ub77c\uc640 \uad00\ub828\ub41c \ubcc0\uc218\ub97c \uc138 \uac1c\ub098 \ub9cc\ub4e4\uc5b4\uc57c \ud568\n",
      "- \ub370\uc774\ud130\uac00 \ub9ce\uc544\uc9c8 \uacbd\uc6b0 \ubcc0\uc218\ub294 \uae30\ud558\uae09\uc218\uc801\uc73c\ub85c \uc99d\uac00"
     ]
    },
    {
     "cell_type": "raw",
     "metadata": {},
     "source": [
      "Sarah Sweeney,2002-6-17,2:58,2.58,2:39,2-25,2-55,2:54,2.18,2:55,2:55,2:22,2-21,2.22"
     ]
    },
    {
     "cell_type": "markdown",
     "metadata": {},
     "source": [
      "- \uc774 \ub370\uc774\ud130\uc5d0\ub294 \uad6c\uc870\uac00 \uc788\uc74c\n",
      "- \ud55c \uc120\uc218\uc5d0 \ub300\ud55c \ub370\uc774\ud130\ub97c \ubaa8\ub450 \ud558\ub098\uc758 \ubcc0\uc218\ub85c \uc800\uc7a5\ud558\uace0, \uc2dc\uac04 \ub370\uc774\ud130\ub294 \ub354 \ud070 \ub370\uc774\ud130 \uad6c\uc870\uc758 \uc77c\ubd80\uac00 \ub418\ub3c4\ub85d \ubcc0\uacbd\n",
      "- python\uc758 dictinoary\ub97c \uc0ac\uc6a9 (mapping, hash, \uc5f0\uad00 \ubc30\uc5f4\ub4f1\ub4f1\uc73c\ub85c\ub3c4 \ubd88\ub9bc)\n",
      "    - \ub370\uc774\ud130\ub97c \uc0c9\uc778 \ubc88\ud638\uac00 \uc544\ub2cc \ud0a4\uc5d0 \uc5f0\uacb0\ud560 \uc218 \uc788\ub3c4\ub85d \ud558\ub294 \ubc29\ubc95"
     ]
    },
    {
     "cell_type": "raw",
     "metadata": {},
     "source": [
      "dictinoary\uc758 \uad6c\uc870\n",
      "\n",
      "'key'\n",
      "    Name \"Sarah Sweeny\"\n",
      "    DOB \"2002-6-17\"\n",
      "    TIMES \"2:58,2.58,2:39,2-25,2-55,2:54,2.18,2:55,2:55,2:22,2-21,2.22\""
     ]
    },
    {
     "cell_type": "code",
     "collapsed": false,
     "input": [
      "# dictinoary example\n",
      "cleese = {}\n",
      "palin = dict()\n",
      "type(cleese)\n",
      "type(palin)"
     ],
     "language": "python",
     "metadata": {},
     "outputs": [
      {
       "metadata": {},
       "output_type": "pyout",
       "prompt_number": 123,
       "text": [
        "dict"
       ]
      }
     ],
     "prompt_number": 123
    },
    {
     "cell_type": "code",
     "collapsed": false,
     "input": [
      "cleese['Name'] = 'John Cleese'\n",
      "cleese['Occupations'] = ['actor', 'comedian', 'writer', 'film producer']\n",
      "palin = {'Name': 'Michael Palin', 'Occupations' : ['actor', 'comedian', 'writer', 'tv']}"
     ],
     "language": "python",
     "metadata": {},
     "outputs": [],
     "prompt_number": 125
    },
    {
     "cell_type": "code",
     "collapsed": false,
     "input": [
      "palin['Name']"
     ],
     "language": "python",
     "metadata": {},
     "outputs": [
      {
       "metadata": {},
       "output_type": "pyout",
       "prompt_number": 106,
       "text": [
        "'Michael Palin'"
       ]
      }
     ],
     "prompt_number": 106
    },
    {
     "cell_type": "code",
     "collapsed": false,
     "input": [
      "cleese['Occupations'][1]"
     ],
     "language": "python",
     "metadata": {},
     "outputs": [
      {
       "metadata": {},
       "output_type": "pyout",
       "prompt_number": 126,
       "text": [
        "'comedian'"
       ]
      }
     ],
     "prompt_number": 126
    },
    {
     "cell_type": "code",
     "collapsed": false,
     "input": [
      "palin['Birthplace'] = \"Broomhill, Sheffield, England\"\n",
      "cleese['Birthplace'] = \"Weston-super-Mare, North Somerset, England\""
     ],
     "language": "python",
     "metadata": {},
     "outputs": [],
     "prompt_number": 127
    },
    {
     "cell_type": "code",
     "collapsed": false,
     "input": [
      "palin"
     ],
     "language": "python",
     "metadata": {},
     "outputs": [
      {
       "metadata": {},
       "output_type": "pyout",
       "prompt_number": 128,
       "text": [
        "{'Birthplace': 'Broomhill, Sheffield, England',\n",
        " 'Name': 'Michael Palin',\n",
        " 'Occupations': ['actor', 'comedian', 'writer', 'tv']}"
       ]
      }
     ],
     "prompt_number": 128
    },
    {
     "cell_type": "code",
     "collapsed": false,
     "input": [
      "del cleese['Name'] #specific clear"
     ],
     "language": "python",
     "metadata": {},
     "outputs": [
      {
       "ename": "KeyError",
       "evalue": "'Name'",
       "output_type": "pyerr",
       "traceback": [
        "\u001b[1;31m---------------------------------------------------------------------------\u001b[0m\n\u001b[1;31mKeyError\u001b[0m                                  Traceback (most recent call last)",
        "\u001b[1;32m<ipython-input-136-4396f2487e5a>\u001b[0m in \u001b[0;36m<module>\u001b[1;34m()\u001b[0m\n\u001b[1;32m----> 1\u001b[1;33m \u001b[1;32mdel\u001b[0m \u001b[0mcleese\u001b[0m\u001b[1;33m[\u001b[0m\u001b[1;34m'Name'\u001b[0m\u001b[1;33m]\u001b[0m\u001b[1;33m\u001b[0m\u001b[0m\n\u001b[0m",
        "\u001b[1;31mKeyError\u001b[0m: 'Name'"
       ]
      }
     ],
     "prompt_number": 136
    },
    {
     "cell_type": "code",
     "collapsed": false,
     "input": [
      "cleese"
     ],
     "language": "python",
     "metadata": {},
     "outputs": [
      {
       "metadata": {},
       "output_type": "pyout",
       "prompt_number": 138,
       "text": [
        "{'Birthplace': 'Weston-super-Mare, North Somerset, England',\n",
        " 'Occupations': ['actor', 'comedian', 'writer', 'film producer']}"
       ]
      }
     ],
     "prompt_number": 138
    },
    {
     "cell_type": "markdown",
     "metadata": {},
     "source": [
      "- dictionary\ub97c \uc0ac\uc6a9\ud558\uc5ec \ucf54\ub4dc\ub97c \uac1c\uc120\ud574\ubd05\uc2dc\ub2e4"
     ]
    },
    {
     "cell_type": "code",
     "collapsed": false,
     "input": [
      "sarah = get_coach_data('sarah2.txt')\n",
      "(sarah_name, sarah_dob) = sarah.pop(0), sarah.pop(0)\n",
      "print(sarah_name + \"'s fastest times are: \" + str(sorted(set([sanitize(t) for t in sarah]))[0:3]))\n",
      "\n",
      "sarah = get_coach_data('sarah2.txt')\n",
      "\n",
      "sarah_data = {}\n",
      "sarah_data['Name'] = sarah.pop(0)\n",
      "sarah_data['DOB'] = sarah.pop(0)\n",
      "sarah_data['Times'] = sarah\n",
      "print(sarah_data['Name'] + \"'s fastest times are: \" + str(sorted(set([sanitize(t) for t in sarah_data['Times']]))[0:3]))"
     ],
     "language": "python",
     "metadata": {},
     "outputs": [
      {
       "output_type": "stream",
       "stream": "stdout",
       "text": [
        "Sarah Sweeney's fastest times are: ['2.18', '2.21', '2.22']\n",
        "Sarah Sweeney's fastest times are: ['2.18', '2.21', '2.22']\n"
       ]
      }
     ],
     "prompt_number": 140
    },
    {
     "cell_type": "markdown",
     "metadata": {},
     "source": [
      "- \uad81\uadf9\uc801\uc778 \ucf54\ub4dc\uc758 \uac1c\uc120\n",
      "    1. \uace7\ubc14\ub85c dictionary\ub97c \ub9cc\ub4e0\ub2e4\n",
      "    2. dictionary\ub97c \ub9cc\ub4dc\ub294 \ucf54\ub4dc\ub97c get_coach_data()\ud568\uc218 \uc548\uc73c\ub85c \uc774\ub3d9\ud558\uace0. \ub9ac\uc2a4\ud2b8 \ub300\uc2e0 dictionary\ub97c \ubc18\ud658\n",
      "    3. \uc0c1\uc704 3\uac1c\uc758 \uae30\ub85d\uc744 \ucc3e\ub294 \ucf54\ub4dc\ub97c get_coach_data() \ud568\uc218\ub97c \uc0ac\uc6a9\ud558\uc5ec \uc218\uc815"
     ]
    },
    {
     "cell_type": "code",
     "collapsed": false,
     "input": [
      "os.chdir(os.path.expanduser('~\\Dropbox\\iSystems Introductory Tutorials\\Python\\HeadFirstPython\\chapter6')) #\uacbd\ub85c \ucc3e\uae30\n",
      "\n",
      "def sanitize(time_string):\n",
      "    if '-' in time_string:\n",
      "        splitter = '-'\n",
      "    elif ':' in time_string:\n",
      "        splitter = ':'\n",
      "    else:\n",
      "        return(time_string)\n",
      "    (mins, secs) = time_string.split(splitter)\n",
      "    return (mins + '.' + secs)\n",
      "\n",
      "def get_coach_data(filename):\n",
      "    try:\n",
      "        with open(filename) as f:\n",
      "            data = f.readline()\n",
      "        templ = data.strip().split(',') #dictionary\ub97c \ub9cc\ub4e4\uae30\uc804 \uc784\uc2dc\ub85c \ub370\uc774\ud130\ub97c \ubcf4\uad00\ud560 \ub9ac\uc2a4\ud2b8\n",
      "        return({'Name':templ.pop(0), #dictionary\ub97c \ub9cc\ub4dc\ub294 \ucf54\ub4dc\uac00 \ud568\uc218\uc758 \uc77c\ubd80\ubd84\n",
      "                'DOB':templ.pop(0),\n",
      "                'Times':str(sorted(set([sanitize(t) for t in templ]))[0:3])}) #\uc0c1\uc704\uc758 \uc138 \uae30\ub85d\uc744 \uacb0\uc815\ud558\ub294 \ucf54\ub4dc\ub3c4 \ud568\uc218\uc5d0 \ud3ec\ud568\n",
      "    except IOError as ioerr:\n",
      "        print('File error:' + str(ioerr))\n",
      "        return(None)\n",
      "\n",
      "james = get_coach_data('james2.txt')\n",
      "julie = get_coach_data('julie2.txt')\n",
      "mikey = get_coach_data('mikey2.txt')\n",
      "sarah = get_coach_data('sarah2.txt')\n",
      "\n",
      "print(james['Name'] + \"'s fastest times are: \" + james['Times'])\n",
      "print(julie['Name'] + \"'s fastest times are: \" + julie['Times'])\n",
      "print(mikey['Name'] + \"'s fastest times are: \" + mikey['Times'])\n",
      "print(sarah['Name'] + \"'s fastest times are: \" + sarah['Times'])\n"
     ],
     "language": "python",
     "metadata": {},
     "outputs": [
      {
       "output_type": "stream",
       "stream": "stdout",
       "text": [
        "James Lee's fastest times are: ['2.01', '2.16', '2.22']\n",
        "Julie Jones's fastest times are: ['2.11', '2.23', '2.59']\n",
        "Mikey McManus's fastest times are: ['2.22', '2.31', '2.38']\n",
        "Sarah Sweeney's fastest times are: ['2.18', '2.21', '2.22']\n"
       ]
      }
     ],
     "prompt_number": 147
    },
    {
     "cell_type": "markdown",
     "metadata": {},
     "source": [
      "- \ucf54\ub4dc\uc640 \uad00\ub828\ub41c \ub370\uc774\ud130\ub294 \ud55c\ub370 \ubaa8\uc544\uc57c\ud568\n",
      "- \ud568\uc218\ub294 \ud574\ub2f9 \ub370\uc774\ud130\ub97c \uc704\ud55c \uac83\uc774\uc9c0 \ubc94\uc6a9\uc774 \uc544\ub2d8\n",
      "- \ud074\ub798\uc2a4\ub294 \ucf54\ub4dc\uc640 \ub370\uc774\ud130\ub97c \ud55c\ub370 \ubb36\uc74c"
     ]
    },
    {
     "cell_type": "markdown",
     "metadata": {},
     "source": [
      "# \ud074\ub798\uc2a4\uc758 \uc815\uc758\n",
      "- \ud074\ub798\uc2a4\ub97c \uc815\uc758\ud558\uace0 \ub09c \ub4a4 \ud074\ub798\uc2a4\ub97c \uc0ac\uc6a9\ud558\uc5ec \ub370\uc774\ud130 \uac1d\uccb4(\uc778\uc2a4\ud134\uc2a4)\ub97c \ub9cc\ub4e4 \uc218 \uc788\uc74c\n",
      "- \ub370\uc774\ud130 \uac1d\uccb4\ub294 \uc790\uc2e0\uc758 \ud2b9\uc9d5\uc744 \ud074\ub798\uc2a4\uc5d0\uc11c \uac00\uc838\uc634\n",
      "- OOP\n",
      "    -code-> method\n",
      "    -data-> attribute\n",
      "    -object data-> instance"
     ]
    },
    {
     "cell_type": "code",
     "collapsed": false,
     "input": [
      "class Athlete: #class\uc758 \uc815\uc758\n",
      "    def __init__(self): #__init__\uc740 \uac1d\uccb4\ub97c \ub9cc\ub4dc\ub294 \ubc29\ubc95\uc744 \ud1b5\uc81c\n",
      "        #The code to initialize an \"Athelete\" object."
     ],
     "language": "python",
     "metadata": {},
     "outputs": [
      {
       "ename": "IndentationError",
       "evalue": "expected an indented block (<ipython-input-153-8df0fda925e3>, line 3)",
       "output_type": "pyerr",
       "traceback": [
        "\u001b[1;36m  File \u001b[1;32m\"<ipython-input-153-8df0fda925e3>\"\u001b[1;36m, line \u001b[1;32m3\u001b[0m\n\u001b[1;33m    #The code to initialize an \"Athelete\" object.\u001b[0m\n\u001b[1;37m                                                 ^\u001b[0m\n\u001b[1;31mIndentationError\u001b[0m\u001b[1;31m:\u001b[0m expected an indented block\n"
       ]
      }
     ],
     "prompt_number": 153
    },
    {
     "cell_type": "markdown",
     "metadata": {},
     "source": [
      "- \ud074\ub798\uc2a4\ub97c \uc815\uc758\ud55c\ub2e4\ub294 \uac83\uc740 \uc0ac\uc2e4\uc0c1 \uc0ac\uc6a9\uc790 \uc815\uc758 \ud329\ud1a0\ub9ac \ud568\uc218\ub97c \uc815\uc758\ud558\ub294 \uac83\uacfc \uac19\uc74c. \uc774 \ud568\uc218\ub97c \ud1b5\ud574 \uac1d\uccb4\ub97c \uc0dd\uc131"
     ]
    },
    {
     "cell_type": "raw",
     "metadata": {},
     "source": [
      "a = Athlete()"
     ]
    },
    {
     "cell_type": "markdown",
     "metadata": {},
     "source": [
      "- a\ub294 \uac1d\uccb4\uc5d0 \ub300\ud55c \ud3ec\uc778\ud130, \ud074\ub798\uc2a4\ub294 \uc0ac\uc6a9\uc790 \uc815\uc758 \ud329\ud1a0\ub9ac \ud568\uc218\ub97c \ud638\ucd9c"
     ]
    },
    {
     "cell_type": "raw",
     "metadata": {},
     "source": [
      "Athelete.__init__(a)\n",
      "\ud074\ub798\uc2a4     \uba54\uc11c\ub4dc  \ud3ec\uc778\ud130\n",
      "\n",
      "\uc608\uc81c \ud655\uc7a5\uc744 \ud1b5\ud574 \uc0b4\ud3b4\ubd05\uc2dc\ub2e4."
     ]
    },
    {
     "cell_type": "code",
     "collapsed": false,
     "input": [
      "class Athlete:\n",
      "    def __init__(self, value = 0):\n",
      "        self.thing = value\n",
      "    def how_big(self):\n",
      "        return(len(self.thing))"
     ],
     "language": "python",
     "metadata": {},
     "outputs": [],
     "prompt_number": 157
    },
    {
     "cell_type": "markdown",
     "metadata": {},
     "source": [
      "- self\ub97c \ud1b5\ud574 python\uc740 method \ud638\ucd9c\uc744 \uc5b4\ub5a0\ud55c \uac1d\uccb4\uc5d0 \uc801\uc6a9\ud560\uc9c0 \ud310\ub2e8\ud568."
     ]
    },
    {
     "cell_type": "code",
     "collapsed": false,
     "input": [
      "d = Athlete(\"Holy Grail\")\n",
      "d\n",
      "d.how_big()"
     ],
     "language": "python",
     "metadata": {},
     "outputs": [
      {
       "metadata": {},
       "output_type": "pyout",
       "prompt_number": 161,
       "text": [
        "10"
       ]
      }
     ],
     "prompt_number": 161
    },
    {
     "cell_type": "code",
     "collapsed": false,
     "input": [
      "class Athlete:\n",
      "    def __init__(self, a_name, a_dob =None, a_times = []): #a_dob\uc640 a_times\uc758 \uae30\ubcf8\uac12\uc744 \ud30c\uc545\n",
      "        self.name = a_name\n",
      "        self.dob = a_dob\n",
      "        self.times = a_times #3 \uc18d\uc131\uc5d0 \ucd08\uae30\ud654method\uac00 \ubc1b\uc740 \uc138 \uc778\uc790\uc758 \uac12\uc744 \ub300\uc785\ud568\n",
      "        "
     ],
     "language": "python",
     "metadata": {},
     "outputs": [],
     "prompt_number": 163
    },
    {
     "cell_type": "code",
     "collapsed": false,
     "input": [
      "sarah = Athlete('Sarah Sweeny', '2002-6-17', ['2:58', '2.58', '1.56'])\n",
      "james = Athlete('James Jones')\n",
      "type(sarah)"
     ],
     "language": "python",
     "metadata": {},
     "outputs": [
      {
       "metadata": {},
       "output_type": "pyout",
       "prompt_number": 165,
       "text": [
        "instance"
       ]
      }
     ],
     "prompt_number": 165
    },
    {
     "cell_type": "code",
     "collapsed": false,
     "input": [
      "type(james)"
     ],
     "language": "python",
     "metadata": {},
     "outputs": [
      {
       "metadata": {},
       "output_type": "pyout",
       "prompt_number": 167,
       "text": [
        "instance"
       ]
      }
     ],
     "prompt_number": 167
    },
    {
     "cell_type": "code",
     "collapsed": false,
     "input": [
      "sarah"
     ],
     "language": "python",
     "metadata": {},
     "outputs": [
      {
       "metadata": {},
       "output_type": "pyout",
       "prompt_number": 168,
       "text": [
        "<__main__.Athlete instance at 0x0000000008415D08>"
       ]
      }
     ],
     "prompt_number": 168
    },
    {
     "cell_type": "code",
     "collapsed": false,
     "input": [
      "james"
     ],
     "language": "python",
     "metadata": {},
     "outputs": [
      {
       "metadata": {},
       "output_type": "pyout",
       "prompt_number": 169,
       "text": [
        "<__main__.Athlete instance at 0x0000000008443A88>"
       ]
      }
     ],
     "prompt_number": 169
    },
    {
     "cell_type": "markdown",
     "metadata": {},
     "source": [
      "- \ub450 \uac1c\uc758 \uac1d\uccb4\uac00 \uc11c\ub85c \ub2e4\ub978 \uba54\ubaa8\ub9ac \uc8fc\uc18c\uc5d0 \uc800\uc7a5\ub418\uc5b4 \uc788\ub294 \uac83\uc5d0 \uc8fc\ubaa9"
     ]
    },
    {
     "cell_type": "code",
     "collapsed": false,
     "input": [
      "sarah.name"
     ],
     "language": "python",
     "metadata": {},
     "outputs": [
      {
       "metadata": {},
       "output_type": "pyout",
       "prompt_number": 170,
       "text": [
        "'Sarah Sweeny'"
       ]
      }
     ],
     "prompt_number": 170
    },
    {
     "cell_type": "code",
     "collapsed": false,
     "input": [
      "james.name"
     ],
     "language": "python",
     "metadata": {},
     "outputs": [
      {
       "metadata": {},
       "output_type": "pyout",
       "prompt_number": 171,
       "text": [
        "'James Jones'"
       ]
      }
     ],
     "prompt_number": 171
    },
    {
     "cell_type": "code",
     "collapsed": false,
     "input": [
      "sarah.dob"
     ],
     "language": "python",
     "metadata": {},
     "outputs": [
      {
       "metadata": {},
       "output_type": "pyout",
       "prompt_number": 172,
       "text": [
        "'2002-6-17'"
       ]
      }
     ],
     "prompt_number": 172
    },
    {
     "cell_type": "code",
     "collapsed": false,
     "input": [
      "james.dob"
     ],
     "language": "python",
     "metadata": {},
     "outputs": [],
     "prompt_number": 173
    },
    {
     "cell_type": "code",
     "collapsed": false,
     "input": [
      "sarah.times"
     ],
     "language": "python",
     "metadata": {},
     "outputs": [
      {
       "metadata": {},
       "output_type": "pyout",
       "prompt_number": 174,
       "text": [
        "['2:58', '2.58', '1.56']"
       ]
      }
     ],
     "prompt_number": 174
    },
    {
     "cell_type": "code",
     "collapsed": false,
     "input": [
      "james.times"
     ],
     "language": "python",
     "metadata": {},
     "outputs": [
      {
       "metadata": {},
       "output_type": "pyout",
       "prompt_number": 175,
       "text": [
        "[]"
       ]
      }
     ],
     "prompt_number": 175
    },
    {
     "cell_type": "markdown",
     "metadata": {},
     "source": [
      "- \uc9c0\ub2a5\ud615 \ub9ac\uc2a4\ud2b8\ub97c \ud074\ub798\uc2a4\ub85c \ubc14\uafd4\ubd05\uc2dc\ub2e4"
     ]
    },
    {
     "cell_type": "code",
     "collapsed": false,
     "input": [
      "class Athlete:\n",
      "    def __init__(self, a_name, a_dob =None, a_times = []): #a_dob\uc640 a_times\uc758 \uae30\ubcf8\uac12\uc744 \ud30c\uc545\n",
      "        self.name = a_name\n",
      "        self.dob = a_dob\n",
      "        self.times = a_times #3 \uc18d\uc131\uc5d0 \ucd08\uae30\ud654method\uac00 \ubc1b\uc740 \uc138 \uc778\uc790\uc758 \uac12\uc744 \ub300\uc785\ud568\n",
      "    \n",
      "    def top3(self):\n",
      "        return(sorted(set([sanitize(t) for t in self.times]))[0:3])\n",
      "\n",
      "def get_coach_data(filename):\n",
      "    try:\n",
      "        with open(filename) as f:\n",
      "            data = f.readline()\n",
      "        templ = data.strip().split(',') #dictionary\ub97c \ub9cc\ub4e4\uae30\uc804 \uc784\uc2dc\ub85c \ub370\uc774\ud130\ub97c \ubcf4\uad00\ud560 \ub9ac\uc2a4\ud2b8\n",
      "        return(Athlete(templ.pop(0),templ.pop(0),templ)) #\uc0c1\uc704\uc758 \uc138 \uae30\ub85d\uc744 \uacb0\uc815\ud558\ub294 \ucf54\ub4dc\ub3c4 \ud568\uc218\uc5d0 \ud3ec\ud568\n",
      "    except IOError as ioerr:\n",
      "        print('File error:' + str(ioerr))\n",
      "        return(None)\n",
      "\n",
      "\n",
      "james = get_coach_data('james2.txt')\n",
      "julie = get_coach_data('julie2.txt')\n",
      "mikey = get_coach_data('mikey2.txt')\n",
      "sarah = get_coach_data('sarah2.txt')\n",
      "\n",
      "print(james.name + \"'s fastest times are: \" + str(james.top3()))\n",
      "print(julie.name + \"'s fastest times are: \" + str(julie.top3()))\n",
      "print(mikey.name + \"'s fastest times are: \" + str(mikey.top3()))\n",
      "print(sarah.name + \"'s fastest times are: \" + str(sarah.top3()))"
     ],
     "language": "python",
     "metadata": {},
     "outputs": [
      {
       "output_type": "stream",
       "stream": "stdout",
       "text": [
        "James Lee's fastest times are: ['2.01', '2.16', '2.22']\n",
        "Julie Jones's fastest times are: ['2.11', '2.23', '2.59']\n",
        "Mikey McManus's fastest times are: ['2.22', '2.31', '2.38']\n",
        "Sarah Sweeney's fastest times are: ['2.18', '2.21', '2.22']\n"
       ]
      }
     ],
     "prompt_number": 182
    },
    {
     "cell_type": "code",
     "collapsed": false,
     "input": [
      "class Athlete:\n",
      "    def __init__(self, a_name, a_dob =None, a_times = []): #a_dob\uc640 a_times\uc758 \uae30\ubcf8\uac12\uc744 \ud30c\uc545\n",
      "        self.name = a_name\n",
      "        self.dob = a_dob\n",
      "        self.times = a_times #3 \uc18d\uc131\uc5d0 \ucd08\uae30\ud654method\uac00 \ubc1b\uc740 \uc138 \uc778\uc790\uc758 \uac12\uc744 \ub300\uc785\ud568\n",
      "    \n",
      "    def top3(self):\n",
      "        return(sorted(set([sanitize(t) for t in self.times]))[0:3])\n",
      "\n",
      "    def add_time(self,time_value):\n",
      "        self.times.append(time_value)\n",
      "        \n",
      "    def add_times(self,list_of_times):\n",
      "        self.times.extend(list_of_times)\n",
      "\n",
      "vera = Athlete('Vera Vi')\n",
      "vera.add_time('1.31')\n",
      "print(vera.top3())\n",
      "vera.add_times(['2.22', '1-21', '2:22'])\n",
      "print(vera.top3())\n"
     ],
     "language": "python",
     "metadata": {},
     "outputs": [
      {
       "output_type": "stream",
       "stream": "stdout",
       "text": [
        "['1.31']\n",
        "['1.21', '1.31', '2.22']\n"
       ]
      }
     ],
     "prompt_number": 184
    },
    {
     "cell_type": "markdown",
     "metadata": {},
     "source": [
      "# Python \ub0b4\uc7a5 \ub9ac\uc2a4\ud2b8\uc5d0\uc11c \uc0c1\uc18d\ubc1b\uae30"
     ]
    },
    {
     "cell_type": "code",
     "collapsed": false,
     "input": [
      "class NamedList(list): #\uc0c1\uc18d\ubc1b\uc744 \ud074\ub798\uc2a4 \uc774\ub984\uc744 \uc9c0\uc815\n",
      "    def __init__(self, a_name):\n",
      "        list.__init__([])\n",
      "        self.name = a_name"
     ],
     "language": "python",
     "metadata": {},
     "outputs": [],
     "prompt_number": 185
    },
    {
     "cell_type": "code",
     "collapsed": false,
     "input": [
      "johnny = NamedList(\"John Paul Jones\")\n",
      "type(johnny)"
     ],
     "language": "python",
     "metadata": {},
     "outputs": [
      {
       "metadata": {},
       "output_type": "pyout",
       "prompt_number": 187,
       "text": [
        "__main__.NamedList"
       ]
      }
     ],
     "prompt_number": 187
    },
    {
     "cell_type": "code",
     "collapsed": false,
     "input": [
      "dir(johnny) #johhnny\uac00 \uc0ac\uc6a9\ud560 \uc218 \uc788\ub294 method"
     ],
     "language": "python",
     "metadata": {},
     "outputs": [
      {
       "metadata": {},
       "output_type": "pyout",
       "prompt_number": 189,
       "text": [
        "['__add__',\n",
        " '__class__',\n",
        " '__contains__',\n",
        " '__delattr__',\n",
        " '__delitem__',\n",
        " '__delslice__',\n",
        " '__dict__',\n",
        " '__doc__',\n",
        " '__eq__',\n",
        " '__format__',\n",
        " '__ge__',\n",
        " '__getattribute__',\n",
        " '__getitem__',\n",
        " '__getslice__',\n",
        " '__gt__',\n",
        " '__hash__',\n",
        " '__iadd__',\n",
        " '__imul__',\n",
        " '__init__',\n",
        " '__iter__',\n",
        " '__le__',\n",
        " '__len__',\n",
        " '__lt__',\n",
        " '__module__',\n",
        " '__mul__',\n",
        " '__ne__',\n",
        " '__new__',\n",
        " '__reduce__',\n",
        " '__reduce_ex__',\n",
        " '__repr__',\n",
        " '__reversed__',\n",
        " '__rmul__',\n",
        " '__setattr__',\n",
        " '__setitem__',\n",
        " '__setslice__',\n",
        " '__sizeof__',\n",
        " '__str__',\n",
        " '__subclasshook__',\n",
        " '__weakref__',\n",
        " 'append',\n",
        " 'count',\n",
        " 'extend',\n",
        " 'index',\n",
        " 'insert',\n",
        " 'name',\n",
        " 'pop',\n",
        " 'remove',\n",
        " 'reverse',\n",
        " 'sort']"
       ]
      }
     ],
     "prompt_number": 189
    },
    {
     "cell_type": "code",
     "collapsed": false,
     "input": [
      "johnny.append(\"Bass Player\")\n",
      "johnny.extend(['Composer', 'Arranger', 'Musician'])\n",
      "johnny"
     ],
     "language": "python",
     "metadata": {},
     "outputs": [
      {
       "metadata": {},
       "output_type": "pyout",
       "prompt_number": 194,
       "text": [
        "['Bass Player',\n",
        " 'Composer',\n",
        " 'Arranger',\n",
        " 'Musician',\n",
        " 'Bass Player',\n",
        " 'Composer',\n",
        " 'Arranger',\n",
        " 'Musician',\n",
        " 'Bass Player',\n",
        " 'Composer',\n",
        " 'Arranger',\n",
        " 'Musician',\n",
        " 'Bass Player',\n",
        " 'Composer',\n",
        " 'Arranger',\n",
        " 'Musician']"
       ]
      }
     ],
     "prompt_number": 194
    },
    {
     "cell_type": "code",
     "collapsed": false,
     "input": [
      "johnny.name"
     ],
     "language": "python",
     "metadata": {},
     "outputs": [
      {
       "metadata": {},
       "output_type": "pyout",
       "prompt_number": 196,
       "text": [
        "'John Paul Jones'"
       ]
      }
     ],
     "prompt_number": 196
    },
    {
     "cell_type": "code",
     "collapsed": false,
     "input": [
      "for attr in johnny:\n",
      "    print(johnny.name + \" is a \" + attr + \".\")"
     ],
     "language": "python",
     "metadata": {},
     "outputs": [
      {
       "output_type": "stream",
       "stream": "stdout",
       "text": [
        "John Paul Jones is a Bass Player.\n",
        "John Paul Jones is a Composer.\n",
        "John Paul Jones is a Arranger.\n",
        "John Paul Jones is a Musician.\n",
        "John Paul Jones is a Bass Player.\n",
        "John Paul Jones is a Composer.\n",
        "John Paul Jones is a Arranger.\n",
        "John Paul Jones is a Musician.\n",
        "John Paul Jones is a Bass Player.\n",
        "John Paul Jones is a Composer.\n",
        "John Paul Jones is a Arranger.\n",
        "John Paul Jones is a Musician.\n",
        "John Paul Jones is a Bass Player.\n",
        "John Paul Jones is a Composer.\n",
        "John Paul Jones is a Arranger.\n",
        "John Paul Jones is a Musician.\n"
       ]
      }
     ],
     "prompt_number": 200
    },
    {
     "cell_type": "code",
     "collapsed": false,
     "input": [
      "class Athlete:\n",
      "    def __init__(self, a_name, a_dob =None, a_times = []): #a_dob\uc640 a_times\uc758 \uae30\ubcf8\uac12\uc744 \ud30c\uc545\n",
      "        self.name = a_name\n",
      "        self.dob = a_dob\n",
      "        self = a_times #3 \uc18d\uc131\uc5d0 \ucd08\uae30\ud654method\uac00 \ubc1b\uc740 \uc138 \uc778\uc790\uc758 \uac12\uc744 \ub300\uc785\ud568\n",
      "    \n",
      "    def top3(self):\n",
      "        return(sorted(set([sanitize(t) for t in self]))[0:3])\n",
      "\n",
      "class AthleteList(list):\n",
      "    def __init__(self, a_name, a_dob = None, a_times = []):\n",
      "        list.__init__([])\n",
      "        self.name = a_name\n",
      "        self.dob = a_dob\n",
      "        self.extend(a_times)\n",
      "    def top3(self):\n",
      "        return(sorted(set([sanitize(t) for t in self]))[0:3])\n",
      "\n",
      "vera = AthleteList('Vera Vi')\n",
      "vera.append('1.31')\n",
      "print(vera.top3())\n",
      "vera.extend(['2.22', '1-21', '2:22'])\n",
      "print(vera.top3())\n"
     ],
     "language": "python",
     "metadata": {},
     "outputs": [
      {
       "output_type": "stream",
       "stream": "stdout",
       "text": [
        "['1.31']\n",
        "['1.21', '1.31', '2.22']\n"
       ]
      }
     ],
     "prompt_number": 202
    }
   ],
   "metadata": {}
  }
 ]
}