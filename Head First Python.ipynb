{
 "metadata": {
  "name": "",
  "signature": "sha256:c49ed202eab06b32fb6baf91bba754dde7a338d83c292e57ec771bda8d38fdf0"
 },
 "nbformat": 3,
 "nbformat_minor": 0,
 "worksheets": [
  {
   "cells": [
    {
     "cell_type": "heading",
     "level": 1,
     "metadata": {},
     "source": [
      "Head First Python \uc815\ub9ac"
     ]
    },
    {
     "cell_type": "heading",
     "level": 1,
     "metadata": {},
     "source": [
      "1. List \ub9cc\ub4e4\uae30"
     ]
    },
    {
     "cell_type": "markdown",
     "metadata": {},
     "source": [
      "- \ubcf5\uc7a1\ud55c \ub370\uc774\ud130\ub97c List Data\ub97c \ud1b5\ud558\uc5ec \uad6c\uc870\ud654\ud558\uba74 \uac04\ub2e8\ud558\uac8c \ucc98\ub9ac\ud560 \uc218 \uc788\uc74c\n",
      "- \uc608\uc81c\n",
      "    - 'The Holy Grail', 'The Life of Brian', 'The Meaning' \ub97c \uc815\ub9ac\ud574\ubd05\uc2dc\ub2e4\n",
      "- \ucc38\uace0\ub85c Python\uc740 \ub370\uc774\ud130 Type\uc744 \ubbf8\ub9ac \uc120\uc5b8\ud560 \ud544\uc694 \uc5c6\uc74c"
     ]
    },
    {
     "cell_type": "markdown",
     "metadata": {},
     "source": [
      "1. \ub370\uc774\ud130\ub97c String\uc73c\ub85c \ubcc0\ud658\n",
      "2. List\ub97c Comma Separated Value\ub85c \ubd84\ub9ac\n",
      "3. \uc804\uccb4 \ub9ac\uc2a4\ud2b8\ub97c \ub300\uad04\ud638\ub85c \ub458\ub7ec\uc2f8\uae30\n",
      "4. = \uc744 \ud1b5\ud558\uc5ec \ub9ac\uc2a4\ud2b8 \uc120\uc5b8"
     ]
    },
    {
     "cell_type": "code",
     "collapsed": false,
     "input": [
      "movies = [\"The Holy Grail\", \"The Life of Brian\", \"The Meaning\"]"
     ],
     "language": "python",
     "metadata": {},
     "outputs": [],
     "prompt_number": 3
    },
    {
     "cell_type": "code",
     "collapsed": false,
     "input": [
      "print(movies[1]) #- Python\uc740 index\uac00 0\ubd80\ud130 \uc2dc\uc791"
     ],
     "language": "python",
     "metadata": {},
     "outputs": [
      {
       "output_type": "stream",
       "stream": "stdout",
       "text": [
        "The Life of Brian\n"
       ]
      }
     ],
     "prompt_number": 6
    },
    {
     "cell_type": "markdown",
     "metadata": {},
     "source": [
      "#List Method -> Method\ub294 \ub098\uc911\uc5d0 \uc124\uba85"
     ]
    },
    {
     "cell_type": "code",
     "collapsed": false,
     "input": [
      "cast = [\"Cleese\", 'Palin', 'Jones', \"Idle\"]\n",
      "print(cast)"
     ],
     "language": "python",
     "metadata": {},
     "outputs": [
      {
       "output_type": "stream",
       "stream": "stdout",
       "text": [
        "['Cleese', 'Palin', 'Jones', 'Idle']\n"
       ]
      }
     ],
     "prompt_number": 23
    },
    {
     "cell_type": "code",
     "collapsed": false,
     "input": [
      "print(len(cast)) #len\uc740 list\uc758 \uae38\uc774\ub97c"
     ],
     "language": "python",
     "metadata": {},
     "outputs": [
      {
       "output_type": "stream",
       "stream": "stdout",
       "text": [
        "4\n"
       ]
      }
     ],
     "prompt_number": 11
    },
    {
     "cell_type": "code",
     "collapsed": false,
     "input": [
      "print(cast(1)) #list\uc5d0\uc11c \uc6d0\ud558\ub294 index\ub97c \ubd88\ub7ec\uc624\ub824\uba74 ()\uac00 \uc544\ub2cc []"
     ],
     "language": "python",
     "metadata": {},
     "outputs": [
      {
       "ename": "TypeError",
       "evalue": "'list' object is not callable",
       "output_type": "pyerr",
       "traceback": [
        "\u001b[1;31m---------------------------------------------------------------------------\u001b[0m\n\u001b[1;31mTypeError\u001b[0m                                 Traceback (most recent call last)",
        "\u001b[1;32m<ipython-input-13-7b1ed4935807>\u001b[0m in \u001b[0;36m<module>\u001b[1;34m()\u001b[0m\n\u001b[1;32m----> 1\u001b[1;33m \u001b[1;32mprint\u001b[0m\u001b[1;33m(\u001b[0m\u001b[0mcast\u001b[0m\u001b[1;33m(\u001b[0m\u001b[1;36m1\u001b[0m\u001b[1;33m)\u001b[0m\u001b[1;33m)\u001b[0m \u001b[1;31m#List\uc5d0\uc11c \uc6d0\ud558\ub294 index\ub97c \ubd88\ub7ec\uc624\ub824\uba74 ()\uac00 \uc544\ub2cc []\u001b[0m\u001b[1;33m\u001b[0m\u001b[0m\n\u001b[0m",
        "\u001b[1;31mTypeError\u001b[0m: 'list' object is not callable"
       ]
      }
     ],
     "prompt_number": 13
    },
    {
     "cell_type": "code",
     "collapsed": false,
     "input": [
      "print(cast[1])"
     ],
     "language": "python",
     "metadata": {},
     "outputs": [
      {
       "output_type": "stream",
       "stream": "stdout",
       "text": [
        "Palin\n"
       ]
      }
     ],
     "prompt_number": 15
    },
    {
     "cell_type": "code",
     "collapsed": false,
     "input": [
      "cast.append(\"Gilliam\") #.\uc744 \ud1b5\ud574 method \ud638\ucd9c, append\ub294 list\uc758 \ub9c8\uc9c0\ub9c9\uc5d0 \ub370\uc774\ud130 \ucd94\uac00\n",
      "print(cast)"
     ],
     "language": "python",
     "metadata": {},
     "outputs": [
      {
       "output_type": "stream",
       "stream": "stdout",
       "text": [
        "['Cleese', 'Palin', 'Jones', 'Idle', 'Gilliam', 'Gilliam']\n"
       ]
      }
     ],
     "prompt_number": 25
    },
    {
     "cell_type": "code",
     "collapsed": false,
     "input": [
      "cast.pop() #pop\ub97c \ud1b5\ud558\uc5ec list \ub9c8\uc9c0\ub9c9\uc758 \ub370\uc774\ud130 \uc9c0\uc6c0"
     ],
     "language": "python",
     "metadata": {},
     "outputs": [
      {
       "metadata": {},
       "output_type": "pyout",
       "prompt_number": 28,
       "text": [
        "'Gilliam'"
       ]
      }
     ],
     "prompt_number": 28
    },
    {
     "cell_type": "code",
     "collapsed": false,
     "input": [
      "print(cast)"
     ],
     "language": "python",
     "metadata": {},
     "outputs": [
      {
       "output_type": "stream",
       "stream": "stdout",
       "text": [
        "['Cleese', 'Palin', 'Jones', 'Idle']\n"
       ]
      }
     ],
     "prompt_number": 29
    },
    {
     "cell_type": "code",
     "collapsed": false,
     "input": [
      "cast.extend([\"Gilliam\", \"Chapman\"]) #extend\ub85c \ubcf5\uc218\uc758 \ub370\uc774\ud130\ub97c  \uc0bc\uc785\n",
      "print(cast)"
     ],
     "language": "python",
     "metadata": {},
     "outputs": [
      {
       "output_type": "stream",
       "stream": "stdout",
       "text": [
        "['Cleese', 'Palin', 'Jones', 'Idle', 'Gilliam', 'Gilliam', 'Chapman']\n"
       ]
      }
     ],
     "prompt_number": 34
    },
    {
     "cell_type": "code",
     "collapsed": false,
     "input": [
      "cast.remove(\"Chapman\") #remove\ub85c \ud2b9\uc815 \ub370\uc774\ud130 \ud56d\ubaa9 \ucc3e\uc544 \uc81c\uac70\n",
      "print(cast)"
     ],
     "language": "python",
     "metadata": {},
     "outputs": [
      {
       "output_type": "stream",
       "stream": "stdout",
       "text": [
        "['Cleese', 'Palin', 'Jones', 'Idle', 'Gilliam', 'Gilliam']\n"
       ]
      }
     ],
     "prompt_number": 35
    },
    {
     "cell_type": "code",
     "collapsed": false,
     "input": [
      "cast.insert(0, \"Chapman\") #insert\ub97c \ud1b5\ud558\uc5ec \ud2b9\uc815 index\uc5d0 \ub370\uc774\ud130 \uc0bc\uc785\n",
      "print(cast)"
     ],
     "language": "python",
     "metadata": {},
     "outputs": [
      {
       "output_type": "stream",
       "stream": "stdout",
       "text": [
        "['Chapman', 'Chapman', 'Cleese', 'Palin', 'Jones', 'Idle', 'Gilliam', 'Gilliam']\n"
       ]
      }
     ],
     "prompt_number": 37
    },
    {
     "cell_type": "markdown",
     "metadata": {},
     "source": [
      "#\uc5c5\ub370\uc774\ud2b8 \ub418\ub294 list \ucc98\ub9ac\ud558\uae30"
     ]
    },
    {
     "cell_type": "code",
     "collapsed": false,
     "input": [
      "fav_movies = [\"The Holy Grail\", \"The Life of Brian\"]\n",
      "\n",
      "print(fav_movies[0])\n",
      "print(fav_movies[1])"
     ],
     "language": "python",
     "metadata": {},
     "outputs": [
      {
       "output_type": "stream",
       "stream": "stdout",
       "text": [
        "The Holy Grail\n",
        "The Life of Brian\n"
       ]
      }
     ],
     "prompt_number": 40
    },
    {
     "cell_type": "markdown",
     "metadata": {},
     "source": [
      "- \ub370\uc774\ud130\uac00 \uc801\uc744\ub54c\ub294 print\ub97c \ucd94\uac00\ub9cc \ud574\uc8fc\uba74 \ub420\ud150\ub370... \ub9cc\uc77c \ub370\uc774\ud130\uac00 100\uac1c\uc529 \uc5c5\ub370\uc774\ud2b8 \ub41c\ub2e4\uba74 \uc5b4\uca4c\ub098\n",
      "- for \ub8e8\ud504\ub97c \uc0ac\uc6a9\ud558\uba74 \ub428"
     ]
    },
    {
     "cell_type": "code",
     "collapsed": false,
     "input": [
      "fav_movies = [\"The Holy Grail\", \"The Life of Brian\"]\n",
      "\n",
      "for each_flick in fav_movies: #each_flick\uc740 target identifier\ub85c\uc368 \uc124\uba85\uc740 \uc544\ub798\uc5d0.\n",
      "    print(each_flick)"
     ],
     "language": "python",
     "metadata": {},
     "outputs": [
      {
       "output_type": "stream",
       "stream": "stdout",
       "text": [
        "The Holy Grail\n",
        "The Life of Brian\n"
       ]
      }
     ],
     "prompt_number": 49
    },
    {
     "cell_type": "markdown",
     "metadata": {},
     "source": [
      "- for \ud0a4\uc6cc\ub4dc\ub294 \ub8e8\ud504\uc758 \uc2dc\uc791\uc744 \uc54c\ub9bc\n",
      "- target identifier\uc5d0 list\uc758 \uac01 \ud56d\ubaa9 \uac12\uc774 \ucc28\ub840\ucc28\ub840 \ub300\uc784\ub428. \ub8e8\ud504\uac00 \uc21c\ud658\ud558\uba74\uc11c \uadf8 \uac12\uc774 target identifier\uc5d0 \ub300\uc785\ub418\ub294 \uac83.\n",
      "- while\ub8e8\ud504\uc640 for \ub8e8\ud504\ub294 \ub3d9\uc77c\ud55c \uc5ed\ud560\uc744 \ud560 \uc218 \uc788\uc74c"
     ]
    },
    {
     "cell_type": "code",
     "collapsed": false,
     "input": [
      "count = 0\n",
      "while count < len(movies):\n",
      "    print(movies[count])\n",
      "    count = count + 1"
     ],
     "language": "python",
     "metadata": {},
     "outputs": [
      {
       "output_type": "stream",
       "stream": "stdout",
       "text": [
        "The Holy Grail\n",
        "The Life of Brian\n",
        "The Meaning\n"
       ]
      }
     ],
     "prompt_number": 53
    },
    {
     "cell_type": "code",
     "collapsed": false,
     "input": [
      "for each_item in movies:\n",
      "    print(each_item)"
     ],
     "language": "python",
     "metadata": {},
     "outputs": [
      {
       "output_type": "stream",
       "stream": "stdout",
       "text": [
        "The Holy Grail\n",
        "The Life of Brian\n",
        "The Meaning\n"
       ]
      }
     ],
     "prompt_number": 56
    },
    {
     "cell_type": "markdown",
     "metadata": {},
     "source": [
      "# list\uc548\uc5d0 list \ub123\uae30"
     ]
    },
    {
     "cell_type": "markdown",
     "metadata": {},
     "source": [
      "- \uac04\ub2e8\ud558\uac8c list\uc548\uc5d0 list\ub97c \ub07c\uc5b4 \ub123\uc73c\uba74 \ub428\n",
      "- \ub2e4\uc74c\uacfc \uac19\uc740 list\ub97c python\uc73c\ub85c \ub9cc\ub4e4\uc5b4 \ubcfc\uae4c\n",
      "\n",
      "\n",
      "    The Holy Grail, 1975, Terry jones; Terry Gilliam, 91 mins\n",
      "        Graham Chapman\n",
      "            Michael Palin, Cleese, Terry Gilliam, Eric Idle; Terry Jones"
     ]
    },
    {
     "cell_type": "code",
     "collapsed": false,
     "input": [
      "movies = [\"The Holy Grail\", 1975, \"Terry Jones & Terry Gilliam\", 91,\n",
      "          [\"Graham Chapman\",\n",
      "           [\"Michael Palin\", \"Cleese\", \"Terry Gilliam\", \"Eric Idle\", \"Terry Jones\"]]]\n",
      "print(movies[4][1][3])"
     ],
     "language": "python",
     "metadata": {},
     "outputs": [
      {
       "output_type": "stream",
       "stream": "stdout",
       "text": [
        "Eric Idle\n"
       ]
      }
     ],
     "prompt_number": 8
    },
    {
     "cell_type": "markdown",
     "metadata": {},
     "source": [
      "- list\uc548\uc758 list\ub97c for\ub8e8\ud504\ub85c \ucc98\ub9ac\ud560\ub54c\ub294 \uc5b4\ub5bb\uac8c \ud574\uc57c\ud560\uae4c?"
     ]
    },
    {
     "cell_type": "code",
     "collapsed": false,
     "input": [
      "for each_item in movies:\n",
      "    print(each_item)"
     ],
     "language": "python",
     "metadata": {},
     "outputs": [
      {
       "output_type": "stream",
       "stream": "stdout",
       "text": [
        "The Holy Grail\n",
        "1975\n",
        "Terry Jones & Terry Gilliam\n",
        "91\n",
        "['Graham Chapman', ['Michael Palin', 'Cleese', 'Terry Gilliam', 'Eric Idle', 'Terry Jones']]\n"
       ]
      }
     ],
     "prompt_number": 16
    },
    {
     "cell_type": "markdown",
     "metadata": {},
     "source": [
      "- \ucd5c\uc0c1\uc704\uc5d0 list\uc5d0 \uc788\ub294 \ud56d\ubaa9\ub4e4\ub9cc \ucd9c\ub825\n",
      "- list\uac00 list\uc778\uc9c0 \ud655\uc778\ud560 \uc218 \uc788\ub294 if \ubb38\uc774 \ud544\uc694\ud568"
     ]
    },
    {
     "cell_type": "code",
     "collapsed": false,
     "input": [
      "names = ['GG', 'HH']\n",
      "isinstance(names, list)"
     ],
     "language": "python",
     "metadata": {},
     "outputs": [
      {
       "metadata": {},
       "output_type": "pyout",
       "prompt_number": 2,
       "text": [
        "True"
       ]
      }
     ],
     "prompt_number": 2
    },
    {
     "cell_type": "code",
     "collapsed": false,
     "input": [
      "num_names = len(names)\n",
      "isinstance(num_names,list)"
     ],
     "language": "python",
     "metadata": {},
     "outputs": [
      {
       "metadata": {},
       "output_type": "pyout",
       "prompt_number": 5,
       "text": [
        "False"
       ]
      }
     ],
     "prompt_number": 5
    },
    {
     "cell_type": "markdown",
     "metadata": {},
     "source": [
      "- isinstance\ub294 parameter\uac00 \uc5b4\ub5a0\ud55c \ub370\uc774\ud130 \ud0c0\uc785\uc778\uc9c0\uc5d0 \ub530\ub77c boolean \ub370\uc774\ud130\ub97c \ubcf4\uc5ec\uc90c"
     ]
    },
    {
     "cell_type": "code",
     "collapsed": false,
     "input": [
      "for each_item in movies:\n",
      "    if isinstance(each_item, list):\n",
      "        for nested_item in each_item:\n",
      "            print(nested_item) #\uc774\ubd80\ubd84\uc758 \ub370\uc774\ud130 \ucc98\ub9ac\uac00 \uc5b4\uc0c9\n",
      "            \n",
      "    else:\n",
      "        print(each_item) "
     ],
     "language": "python",
     "metadata": {},
     "outputs": [
      {
       "output_type": "stream",
       "stream": "stdout",
       "text": [
        "The Holy Grail\n",
        "1975\n",
        "Terry Jones & Terry Gilliam\n",
        "91\n",
        "Graham Chapman\n",
        "['Michael Palin', 'Cleese', 'Terry Gilliam', 'Eric Idle', 'Terry Jones']\n"
       ]
      }
     ],
     "prompt_number": 21
    },
    {
     "cell_type": "markdown",
     "metadata": {},
     "source": [
      "- \uc870\uc5f0 \ubc30\uc6b0\ub4e4\uc758 \ub9ac\uc2a4\ud2b8\ub97c \ucc98\ub9ac\ub97c \ubabb\ud558\uace0 \uc788\uc73c\ub2c8 for \ub8e8\ud504\ub97c \ud55c \ubc88\ub354 "
     ]
    },
    {
     "cell_type": "code",
     "collapsed": false,
     "input": [
      "for each_item in movies:\n",
      "    if isinstance(each_item, list):\n",
      "        for nested_item in each_item:\n",
      "                if isinstance(nested_item, list):\n",
      "                    for deeper_item in nested_item:\n",
      "                        print(deeper_item)\n",
      "                else:\n",
      "                    print(nested_item)\n",
      "            \n",
      "    else:\n",
      "        print(each_item) "
     ],
     "language": "python",
     "metadata": {},
     "outputs": [
      {
       "output_type": "stream",
       "stream": "stdout",
       "text": [
        "The Holy Grail\n",
        "1975\n",
        "Terry Jones & Terry Gilliam\n",
        "91\n",
        "Graham Chapman\n",
        "Michael Palin\n",
        "Cleese\n",
        "Terry Gilliam\n",
        "Eric Idle\n",
        "Terry Jones\n"
       ]
      }
     ],
     "prompt_number": 24
    },
    {
     "cell_type": "markdown",
     "metadata": {},
     "source": [
      "- \uc81c\ub300\ub85c \uc791\ub3d9\ud558\uae30\ub294 \ud558\ub294\ub370 Code\uac00 robust\ud558\uc9c0 \uc54a\uc74c (case dependent)\n",
      "- \uadf8\ub7ec\uc9c0 \ub9d0\uace0 \ud568\uc218\ub97c \ub9cc\ub4ed\uc2dc\ub2e4."
     ]
    },
    {
     "cell_type": "markdown",
     "metadata": {},
     "source": [
      "#\ud568\uc218\ub97c \ub9cc\ub4e4\uc790"
     ]
    }
   ],
   "metadata": {}
  }
 ]
}