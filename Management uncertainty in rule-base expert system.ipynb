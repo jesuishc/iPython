{
 "metadata": {
  "name": "",
  "signature": "sha256:45df592a2abc0ed9534483b9e3b9bab8b63c1731b9f8571b09feea1ffbb7741d"
 },
 "nbformat": 3,
 "nbformat_minor": 0,
 "worksheets": [
  {
   "cells": [
    {
     "cell_type": "heading",
     "level": 1,
     "metadata": {},
     "source": [
      "\uaddc\uce59\uae30\ubc18 \uc804\ubb38\uac00 \uc2dc\uc2a4\ud15c\uc5d0\uc11c \ubd88\ud655\uc2e4\uc131 \ub2e4\ub8e8\uae30\n",
      "(Uncertainty management in rule-based expert systems)"
     ]
    },
    {
     "cell_type": "heading",
     "level": 2,
     "metadata": {},
     "source": [
      "1. \ubd88\ud655\uc2e4\uc131\uc774\ub780?"
     ]
    },
    {
     "cell_type": "markdown",
     "metadata": {},
     "source": [
      "\uc815\ubcf4\uc758 \ud2b9\uc9d5 \uc911 \ud558\ub098\ub294 \ubd88\uc644\uc804\uc131\uc73c\ub85c\uc368, \ubd88\uc644\uc804, \ubaa8\uc21c \ud639\uc740 \ubd88\ud655\uc2e4 3\uac00\uc9c0\uc758 \ud2b9\uc131\uc744 \uac00\uc9c0\uace0 \uc788\uc74c. \uc8fc\uc5b4\uc9c4 \uc815\ubcf4\ub97c \ud1b5\ud574 \uc774\ub04c\uc5b4\ub0b8 \uacb0\ub860\uc774 \ud2c0\ub9b4 \uc218 \ub3c4 \uc788\uae30 \ub54c\ubb38\uc5d0 \ubd88\ud655\uc2e4\uc131\uc744 \uc798 \ub2e4\ub8e8\uc5b4 \ud0c0\ub2f9\ud55c \uacb0\ub860\uc744 \ub3c4\ucd9c\ud560 \uc218 \uc788\uc5b4\uc57c\ud568"
     ]
    },
    {
     "cell_type": "markdown",
     "metadata": {},
     "source": [
      "__\uc804\ubb38\uac00 \uc2dc\uc2a4\ud15c\uc5d0\uc11c\uc758 \ubd88\ud655\uc2e4\uc131__"
     ]
    },
    {
     "cell_type": "markdown",
     "metadata": {},
     "source": [
      "\ubd88\ud655\uc2e4\uc131(uncertainty)\ub780 \ud655\uc2e4\ud558\uac8c \ubbff\uc744 \ub9cc\ud55c \uacb0\ub860\uc5d0 \ub3c4\ub2ec\ud558\uae30 \uc704\ud55c \uc815\ubcf4\uc758 \ubd80\uc871. \ub300\ubd80\ubd84\uc758 \uc2e4\uc138\uacc4\uc758 \uc815\ubcf4\ub4e4\uc774 \ubd88\ud655\uc2e4\ud568"
     ]
    },
    {
     "cell_type": "markdown",
     "metadata": {},
     "source": [
      "__\uc804\ubb38\uac00 \uc2dc\uc2a4\ud15c\uc5d0\uc11c \uc9c0\uc2dd\uc774 \ubd88\ud655\uc2e4\ud574\uc9c0\ub294 \uc774\uc720__"
     ]
    },
    {
     "cell_type": "markdown",
     "metadata": {},
     "source": [
      "1. \uc0c1\uad00\uad00\uacc4\uac00 \ucde8\uc57d\ud55c \ud568\ucd95: IF\uc640 THEN\uc0ac\uc774\uc758 \uc0c1\uad00\uad00\uacc4\uac00 \uc57d\ud560 \uc218\ub3c4 \uc788\uae30 \ub54c\ubb38\uc5d0 \uc774\ub97c \uc218\uce58\ud654\ud558\uc5ec \uc0c1\uad00\uad00\uacc4 \uc815\ub3c4\ub97c \ud30c\uc545\ud558\uace0\uc790\ud568\n",
      "2. \ubd80\uc815\ud655\ud55c \uc5b8\uc5b4: \uc790\uc5f0\uc5b4(natural language)\ub294 \ubcf8\uc9c8\uc801\uc744 \ubaa8\ud638\ud558\uace0 \ubd80\uc815\ud655\ud558\uba70, \uc77c\ubc18 \uc9c0\uc2dd\uc740 \uc885\uc885(often), \ub54c\ub54c\ub85c(sometimes), \uc790\uc8fc(frequently), \uac70\uc758 \ud558\uc9c0 \uc54a\ub294(hardly ever)\ub4f1\uc73c\ub85c \ud45c\ud604\ub418\uba70 IF-THEN\uc73c\ub85c \ud45c\uc2dc\ud558 \uae30 \ud798\ub4e4 \ub54c\uac00 \uc788\uc74c\n",
      "3. \uc54c\ub824\uc9c0\uc9c0 \uc54a\uc740 \ub370\uc774\ud130: \ub370\uc774\ud130\uac00 \uc5c6\uc744 \uacbd\uc6b0\uc5d0 \uadf8\uc5d0 \uadfc\uc0ac\ud55c \ucd94\ub860\uc744 \ub3c4\ucd9c\ud574\uc57c\ud568\n",
      "4. \uc5ec\ub7ec \uc804\ubb38\uac00\uc758 \uad00\uc810\ud1b5\ud569: \ud604\uc0c1\uc5d0 \ub300\ud55c \uc804\ubb38\uac00\ub4e4\uc758 \uc9c0\uc2dd\uc774 \uc804\ubd80 \ub2e4\ub97c \uc218 \uc788\uae30 \ub54c\ubb38\uc5d0 \uc774\ub97c \ud1b5\ud569\ud558\ub294 \uacfc\uc815\uc5d0\uc11c \ubb38\uc81c\uac00 \ubc1c\uc0dd\ud560 \uc218 \uc788\uc74c"
     ]
    },
    {
     "cell_type": "heading",
     "level": 2,
     "metadata": {},
     "source": [
      "2. \ud655\ub960 \uc774\ub860"
     ]
    },
    {
     "cell_type": "markdown",
     "metadata": {},
     "source": [
      "__\uc870\uac74\ubd80 \ud655\ub960__"
     ]
    },
    {
     "cell_type": "markdown",
     "metadata": {},
     "source": [
      "\uc0ac\uac74 A\uc640 B\uac00 \uc0c1\ud638 \ubc30\ud0c0\uc801\uc774\uc9c0 \uc54a\uc744 \ub54c, \uc0ac\uac74 B\uac00 \ubc1c\uc0dd\ud588\uc744 \ub54c \uc0ac\uac74 A\uac00 \ubc1c\uc0dd\ud560 \ud655\ub960"
     ]
    },
    {
     "cell_type": "markdown",
     "metadata": {},
     "source": [
      "$${\\begin{array} ( P(A|B) = \\frac{B \\quad \\text{happens}}{A \\quad \\text{and} \\quad B \\text{happens}}\n",
      "\\end{array}}$$"
     ]
    },
    {
     "cell_type": "markdown",
     "metadata": {},
     "source": [
      "A\uc640 B\uac00 \ub3d9\uc2dc\uc5d0 \ubc1c\uc0dd\ud560 \ud655\ub960\uc744 A\uc640 B\uc758 __\uacb0\ud569 \ud655\ub960 (joint probability)__\ub85c \uc815\uc758"
     ]
    },
    {
     "cell_type": "markdown",
     "metadata": {},
     "source": [
      "$${\\begin{array} (P(A|B) = \\frac{P(A \\cap B)}{P(B)}\n",
      "\\end{array}}$$"
     ]
    },
    {
     "cell_type": "markdown",
     "metadata": {},
     "source": [
      "\uc774\uc640 \uc720\uc0ac\ud558\uac8c, \uc0ac\uac74 A\uac00 \ubc1c\uc0dd\ud588\uc744 \ub54c \uc0ac\uac74 B\uac00 \ubc1c\uc0dd\ud560 \uc870\uac74\ubd80 \ud655\ub960\uc740 \ub2e4\uc74c\uacfc \uac19\ub2e4"
     ]
    },
    {
     "cell_type": "markdown",
     "metadata": {},
     "source": [
      "$${\\begin{array} (P(B|A) = \\frac{P(B \\cap A)}{P(A)}\n",
      "\\end{array}}$$"
     ]
    },
    {
     "cell_type": "markdown",
     "metadata": {},
     "source": [
      "\ub530\ub77c\uc11c \ub2e4\uc74c\uacfc \uac19\uc740 \uc2dd\uc774 \uc131\ub9bd\ud55c\ub2e4"
     ]
    },
    {
     "cell_type": "markdown",
     "metadata": {},
     "source": [
      "$${\\begin{array} (P(B \\cap A)  =  P(B|A) \\times P(A)\n",
      "\\end{array}}$$"
     ]
    },
    {
     "cell_type": "markdown",
     "metadata": {},
     "source": [
      "\uad50\ud658 \ubc95\uce59\uc5d0 \uc758\ud574,"
     ]
    },
    {
     "cell_type": "markdown",
     "metadata": {},
     "source": [
      "$${\\begin{array} (P(A \\cap B)  =  P(B \\cap A)\n",
      "\\end{array}}$$"
     ]
    },
    {
     "cell_type": "markdown",
     "metadata": {},
     "source": [
      "\uad81\uadf9\uc801\uc73c\ub85c \ub2e4\uc74c\uacfc \uac19\uc740 \uc2dd\uc744 \uc5bb\uc744 \uc218 \uc788\ub2e4"
     ]
    },
    {
     "cell_type": "markdown",
     "metadata": {},
     "source": [
      "$${\\begin{array} (P(A|B) = \\frac{P(B|A) \\times P(A)}{P(B)}\n",
      "\\end{array}}$$"
     ]
    },
    {
     "cell_type": "markdown",
     "metadata": {},
     "source": [
      "P(A|B) \ub294 \uc0ac\uac74 B\uac00 \ubc1c\uc0dd\ud588\uc744 \ub54c, \uc0ac\uac74 A\uac00 \ubc1c\uc0dd\ud560 \uc870\uac74\ubd80 \ud655\ub960\uc774\uace0, P(B|A)\ub294 \uc0ac\uac74 A\uac00 \ubc1c\uc0dd\ud588\uc744 \ub54c \uc0ac\uac74 B\uac00 \ubc1c\uc0dd\ud560 \uc870\uac74\ubd80 \ud655\ub960"
     ]
    },
    {
     "cell_type": "markdown",
     "metadata": {},
     "source": [
      "__\ubca0\uc774\uc988 \uaddc\uce59(Bayesian rule)__ \uc744 \ud1b5\ud558\uc5ec \uc5ec\ub7ec \uc0c1\ud638 \ubc30\ud0c0\uc801\uc778 \uc0ac\uac74\ub4e4\uc744 *B*<sub>1</sub>, *B*<sub>2</sub>, *B*<sub>3</sub>,..., *B*<sub>n</sub>\uc5d0 \uc885\uc18d\uc801\uc778 \uc0ac\uac74 A\ub85c \ud655\uc7a5\ud560 \uc218 \uc788\uc74c"
     ]
    },
    {
     "cell_type": "markdown",
     "metadata": {},
     "source": [
      "$${\\begin{array}  ( \\sum_{i=1}^nP(A \\cap B_i)  =  \\sum_{i=1}^nP(A|B_i) \\times P(B_i)\n",
      "\\end{array}}$$"
     ]
    },
    {
     "cell_type": "code",
     "collapsed": false,
     "input": [
      "import os\n",
      "os.chdir(os.path.expanduser('~\\Dropbox\\iSystems Introductory Tutorials\\Python\\images'))\n",
      "from IPython.display import Image\n",
      "Image(filename ='rulebase7.jpg')"
     ],
     "language": "python",
     "metadata": {},
     "outputs": [
      {
       "jpeg": "[encoded data removed]",
       "metadata": {},
       "output_type": "pyout",
       "prompt_number": 1,
       "text": [
        "<IPython.core.display.Image at 0x7e84470>"
       ]
      }
     ],
     "prompt_number": 1
    },
    {
     "cell_type": "markdown",
     "metadata": {},
     "source": [
      "\uc704\uc758 \uadf8\ub9bc\uacfc \uac19\uc774 *B*<sub>i</sub>\uac00 \ube60\uc9d0\uc5c6\uc774 \ubaa8\ub450 \ub9dd\ub77c\ub418\uc5b4 \uc788\ub2e4\uba74 \ub2e4\uc74c\uacfc \uac19\uc740 \uc2dd\uc744 \uc5bb\uc744 \uc218 \uc788\uc74c"
     ]
    },
    {
     "cell_type": "markdown",
     "metadata": {},
     "source": [
      "$${\\begin{array}  ( \\sum_{i=1}^nP(A \\cap B_i)  =  P(A)\n",
      "\\end{array}}$$"
     ]
    },
    {
     "cell_type": "markdown",
     "metadata": {},
     "source": [
      "\uc774\ub97c \uc870\uac74\ubd80 \ud655\ub960\uc2dd\uc73c\ub85c \ubc14\uafb8\uba74,"
     ]
    },
    {
     "cell_type": "markdown",
     "metadata": {},
     "source": [
      "$${\\begin{array}  ( P(A)  =  \\sum_{i=1}^nP(A|B_i) \\times P(B_i)\n",
      "\\end{array}}$$"
     ]
    },
    {
     "cell_type": "markdown",
     "metadata": {},
     "source": [
      "\uc0ac\uac74 A\uac00 \uc624\uc9c1 \uc0c1\ud638 \ubc30\ud0c0\uc801\uc778 \ub450 \uc0ac\uac74(\uc989 \uc0ac\uac74 B\uc640 B\uac00 \uc544\ub2cc \uc0ac\uac74) \uc5d0\ub9cc \uc885\uc18d\uc801\uc73c\ub85c \ubc1c\uc0dd\ud55c\ub2e4\uba74 \ub2e4\uc74c\ucc98\ub7fc \uc2dd\uc744 \ubc14\uafc0 \uc218 \uc788\uc74c"
     ]
    },
    {
     "cell_type": "markdown",
     "metadata": {},
     "source": [
      "$${\\begin{array}  ( P(A)  =  P(A|B) \\times P(B) + P(A|B^c) \\times P(B^c)\n",
      "\\end{array}}$$"
     ]
    },
    {
     "cell_type": "markdown",
     "metadata": {},
     "source": [
      "B\ub3c4 \ub9c8\ucc2c\uac00\uc9c0\ub85c,"
     ]
    },
    {
     "cell_type": "markdown",
     "metadata": {},
     "source": [
      "$${\\begin{array}  ( P(B)  =  P(B|A) \\times P(A) + P(B|A^c) \\times P(A^c)\n",
      "\\end{array}}$$"
     ]
    },
    {
     "cell_type": "markdown",
     "metadata": {},
     "source": [
      "\uc774\ub97c \ubca0\uc774\uc988 \uaddc\uce59\uc5d0 \ub300\uc785\ud558\uba74,"
     ]
    },
    {
     "cell_type": "markdown",
     "metadata": {},
     "source": [
      "$${\\begin{array}  ( P(A|B)  =  \\frac{P(B|A) \\times P(A)}{P(B|A) \\times P(A) + P(B|A^c) \\times P(A^c)}\n",
      "\\end{array}}$$"
     ]
    },
    {
     "cell_type": "heading",
     "level": 2,
     "metadata": {},
     "source": [
      "3. \ubca0\uc774\uc988 \ucd94\ub860"
     ]
    },
    {
     "cell_type": "markdown",
     "metadata": {},
     "source": [
      "\uae30\ubc18 \uc9c0\uc2dd\uc5d0 \uc788\ub294 \ubaa8\ub4e0 \uaddc\uce59\uc744 \ub2e4\uc74c\uacfc \uac19\uc740 \ud615\ud0dc\ub85c \ubc14\uafd4\uc11c \ud45c\ud604 \ud55c\ub2e4\uace0 \uac00\uc815"
     ]
    },
    {
     "cell_type": "raw",
     "metadata": {},
     "source": [
      "IF E\uac00 \ucc38\uc774\ub2e4\n",
      "THEN H\ub294 {\ud655\ub960 P\ub85c} \ucc38\uc774\ub2e4"
     ]
    },
    {
     "cell_type": "markdown",
     "metadata": {},
     "source": [
      "\uc774 \uaddc\uce59\uc740 \uc0ac\uac74 E -> H\uac00 p\uc758 \ud655\ub960\ub85c \ubc1c\uc0dd\ud55c\ub2e4\ub294 \uac83\uc744 \uc758\ubbf8"
     ]
    },
    {
     "cell_type": "markdown",
     "metadata": {},
     "source": [
      "__\uc0ac\uac74 E\uac00 \ubc1c\uc0dd\ud588\uc9c0\ub9cc \uc0ac\uac74 H\uac00 \ubc1c\uc0dd\ud588\ub294\uc9c0 \uc54c\uc9c0 \ubabb\ud55c\ub2e4\uba74?__"
     ]
    },
    {
     "cell_type": "markdown",
     "metadata": {},
     "source": [
      "__\uc0ac\uac74 H\uac00 \ubc1c\uc0dd\ud560 \ud655\ub960\uc744 \uacc4\uc0b0\ud560 \uc218 \uc788\uc744\uae4c?__"
     ]
    },
    {
     "cell_type": "markdown",
     "metadata": {},
     "source": [
      "\ubca0\uc774\uc988 \uaddc\uce59\uc5d0 \uae30\ubc18\ud558\uc5ec \uacc4\uc0b0\ud560 \uc218 \uc788\ub294\ub370, \uc804\ubb38\uac00 \uc2dc\uc2a4\ud15c\uc5d0\uc120 H\uc640 E\ub97c \uc0ac\uc6a9\ud568"
     ]
    },
    {
     "cell_type": "markdown",
     "metadata": {},
     "source": [
      "H\ub294 \ubcf4\ud1b5 \uac00\uc124(hypothesis)\uc744 \ub098\ud0c0\ub0b4\uace0, E\ub294 \uac00\uc124\uc744 \uc9c0\uc9c0\ud558\ub294 \uc99d\uac70(evidence)\ub85c \ub098\ud0c0\ub0bc \uc218 \uc788\uc74c, \ub530\ub77c\uc11c \ubca0\uc774\uc988 \uaddc\uce59\uc744 \ub2e4\uc2dc \ubc14\uafd4\uc4f8 \uc218 \uc788\uc74c"
     ]
    },
    {
     "cell_type": "markdown",
     "metadata": {},
     "source": [
      "$${\\begin{array}  ( P(H|E)  =  \\frac{P(E|H) \\times P(H)}{P(E|H) \\times P(H) + P(E|H^c) \\times P(H^c)}\n",
      "\\end{array}}$$"
     ]
    },
    {
     "cell_type": "markdown",
     "metadata": {},
     "source": [
      "- P(H): \uac00\uc124 H\uac00 \ucc38\uc77c \uc0ac\uc804 \ud655\ub960\n",
      "- P(E|H): \uac00\uc124 H\uac00 \ucc38\uc77c \ub54c \uc99d\uac70 E\ub97c \ub04c\uc5b4\ub0bc \ud655\ub960\n",
      "- P(H<sup>c</sup>): \uac00\uc124 H\uac00 \uac70\uc9d3\uc77c \uc0ac\uc804 \ud655\ub960\n",
      "- P(E|H<sup>c</sup>): \uac00\uc124 H\uac00 \uac70\uc9d3\uc784\uc5d0\ub3c4 \ubd88\uad6c\ud558\uace0 \uc99d\uac70 E\ub97c \ub04c\uc5b4\ub0bc \ud655\ub960"
     ]
    },
    {
     "cell_type": "markdown",
     "metadata": {},
     "source": [
      "\uac00\uc124 H\uc758 \ud655\ub960 P(H)\ub97c \uc5b4\ub5a4 \uc99d\uac70\uac00 \uad00\ucc30\ub418\uae30 \uc804\uc5d0 \uc815\uc758\ud574\uc57c \ud568\uc744 \ub098\ud0c0\ub0c4, \ub530\ub77c\uc11c \uc804\ubb38\uac00 \uc2dc\uc2a4\ud15c\uc5d0\uc11c \ubb38\uc81c\ub97c \ud480\ub824\uba74 \uc804\ubb38\uac00\ub4e4\uc774 \ud544\uc694\ud55c \ud655\ub960 \uac12\uc744 \uc81c\uacf5\ud574\uc57c\ud568"
     ]
    },
    {
     "cell_type": "markdown",
     "metadata": {},
     "source": [
      "\uc804\ubb38\uac00\ub294 \uac00\ub2a5\ud55c \uac00\uc124 __P(H) \uc640 P(H<sup>c</sup>)__ \uc5d0 \ub300\ud55c __\uc0ac\uc804 \ud655\ub960(prior probability)__\uc744 \uacb0\uc815\ud558\uace0, \uac00\uc124 H\uac00 \ucc38\uc77c \ub54c \uc99d\uac70 E\ub97c \uad00\ucc30\ud560 \uc870\uac74\ubd80 \ud655\ub960 P(E|H)\uc640 \uac00\uc124 H\uac00 \uac70\uc9d3\uc778 \uacbd\uc6b0\uc5d0 \ub300\ud55c \uc870\uac74\ubd80 \ud655\ub960P(E|H<sup>c</sup>)\uc744 \uacb0\uc815\ud568"
     ]
    },
    {
     "cell_type": "markdown",
     "metadata": {},
     "source": [
      "\uc0ac\uc6a9\uc790\ub294 \uad00\ucc30\ud55c \uc99d\uac70\uc5d0 \ub300\ud55c \uc815\ubcf4\ub97c \uc81c\uacf5\ud558\uace0, \uc804\ubb38\uac00 \uc2dc\uc2a4\ud15c\uc740 \uc0ac\uc6a9\uc790\uac00 \uc81c\uacf5\ud55c \uc99d\uac70 E\uc758 \uad00\uc810\uc5d0\uc11c \uac00\uc124 H\uc5d0 \ub300\ud55c \ud655\ub960 P(H|E)\ub97c \uacc4\uc0b0\ud568, \ud655\ub960 P(H|E)\ub294 \uc99d\uac70 E\ub97c \uad00\ucc30\ud588\uc744 \ub54c \uac00\uc124 H\uc758 __\uc0ac\ud6c4 \ud655\ub960(posterior probability)__\uc774\ub77c\uace0 \ud568"
     ]
    },
    {
     "cell_type": "markdown",
     "metadata": {},
     "source": [
      "\ub2e8\uc77c \uc99d\uac70 E\uc5d0 \uae30\ubc18\uc744 \ub454 \uc804\ubb38\uac00\uac00 __\ub2e8\uc77c \uac00\uc124\uc774 \uc544\ub2cc \uac00\uc124 H<sub>1</sub>, H<sub>2</sub>, ... ,H<sub>m</sub>__\uc744 \uc120\ud0dd\ud55c\ub2e4\uba74? \ud639\uc740 __\uc99d\uac70 E<sub>1</sub>, E<sub>2</sub>, ... , E<sub>m</sub>__ \uc774 \uc8fc\uc5b4\uc9c4\ub2e4\uba74 \uc774\ub97c \uae30\ubc18\uc73c\ub85c \uc5ec\ub7ec \uac00\uc124\uc744 \ub9cc\ub4e4 \uc218 \uc788\uc744\uae4c?"
     ]
    },
    {
     "cell_type": "markdown",
     "metadata": {},
     "source": [
      "\ub2e8\uc77c \uc99d\uac70 E\uc640 \uac00\uc124 H<sub>1</sub>, H<sub>2</sub>, ... ,H<sub>m</sub> \uc5d0 \uad00\ud55c \uc2dd\uc740 \ub2e4\uc74c\uacfc \uac19\ub2e4\uc74c"
     ]
    },
    {
     "cell_type": "markdown",
     "metadata": {},
     "source": [
      "$${\\begin{array}  ( P(H_i|E)  =  \\frac{P(E|H_i) \\times P(H_i)}{\\sum_{k=1} ^m P(E|H_k) \\times P(H_k)}\n",
      "\\end{array}}$$"
     ]
    },
    {
     "cell_type": "markdown",
     "metadata": {},
     "source": [
      "E<sub>1</sub>, E<sub>2</sub>, ... ,E<sub>m</sub> \uacfc \uac00\uc124 H<sub>1</sub>, H<sub>2</sub>, ... ,H<sub>m</sub> \uc5d0 \uad00\ud55c \uc2dd\uc740 \ub2e4\uc74c\uacfc \uac19\uc74c"
     ]
    },
    {
     "cell_type": "markdown",
     "metadata": {},
     "source": [
      "$${\\begin{array}  ( P(H_i|E_1E_2...E_n)  =  \\frac{P(E_1E_2...E_n|H_i) \\times P(H_i)}{\\sum_{k=1} ^m P(E_1E_2...E_n|H_k) \\times P(H_k)}\n",
      "\\end{array}}$$"
     ]
    },
    {
     "cell_type": "markdown",
     "metadata": {},
     "source": [
      "- \uc774\ub97c \uc801\uc6a9\ud558\uae30 \uc704\ud574\uc11c\ub294 \ubaa8\ub4e0 \uac00\uc124\uc5d0 \ub300\ud574 \ubaa8\ub4e0 \uc99d\uac70 \uc870\ud569\uc758 \uc870\uac74\ubd80 \ud655\ub960\uc744 \uc54c\uc544\uc57c\ud568 -> \uc804\ubb38\uac00\uc5d0\uac8c\ub294 \uac70\uc758 \ubd88\uac00\ub2a5\ud55c \uc77c\n",
      "- \uc774\ub97c \ud53c\ud558\uae30 \uc704\ud574 \ub2e4\ub978 \uc99d\uac70 \uac04\uc758 __\uc870\uac74\ubd80 \ub3c5\ub9bd\uc131\uc744 \ub760\uac8c \ud574\uc57c\ud568__\n",
      "- \ub530\ub77c\uc11c \ub2e4\uc74c \uc2dd\uc744 \uc801\uc6a9\ud568"
     ]
    },
    {
     "cell_type": "markdown",
     "metadata": {},
     "source": [
      "$${\\begin{array}  ( P(H_i|E_1E_2...E_n)  =  \\frac{P(E_1|H_i) \\times  P(E_2|H_i) \\times ... \\times P(E_n|H_i)\\times P(H_i)}{\\sum_{k=1} ^m P(E_1|H_k) \\times  P(E_2|H_k) \\times ... \\times P(E_n|H_k)) \\times P(H_k)}\n",
      "\\end{array}}$$"
     ]
    },
    {
     "cell_type": "markdown",
     "metadata": {},
     "source": [
      "__\uc0ac\ud6c4 \ud655\ub960\uc744 \uacc4\uc0b0\ud558\uace0, \uc7a0\uc815\uc801\uc73c\ub85c \ucc38\uc778 \uac00\uc124\uc5d0 \uc21c\uc704\ub97c \uba54\uae30\ub294 \ubc29\ubc95__"
     ]
    },
    {
     "cell_type": "markdown",
     "metadata": {},
     "source": [
      "\uc138 \uac1c\uc758 \uc870\uac74\ubd80 \ub3c5\ub9bd\uc778 \uc99d\uac70 E<sub>1</sub>, E<sub>2</sub>, E<sub>3</sub> \uc8fc\uc5b4\uc9c0\uba74 \uc804\ubb38\uac00\ub294 \uc774\uc5d0 \uae30\ubc18\ud558\uc5ec \uc0c1\ud638 \ubc30\ud0c0\uc801\uc774\uace0 \ucd1d \ub9dd\ub77c\ub41c \uac00\uc124 H<sub>1</sub>, H<sub>2</sub>, H<sub>3</sub>\ub97c \ub9cc\ub4e4\uace0 \uc774 \uac00\uc124\uc5d0 \ub300\ud55c \uc0ac\uc804 \ud655\ub960 P(H<sub>1</sub>), P(H<sub>2</sub>), P(H<sub>3</sub>)\ub97c \uc81c\uacf5\ud55c\ub2e4 \uac00\uc815. \ub610\ud55c \uac00\ub2a5\ud55c \ubaa8\ub4e0 \uac00\uc124\uc5d0 \ub300\ud574 \uc99d\uac70\ub97c \uad00\ucc30\ud560 \uc870\uac74\ubd80 \ud655\ub960\uc744 \uc81c\uacf5\ud568"
     ]
    },
    {
     "cell_type": "code",
     "collapsed": false,
     "input": [
      "Image(filename ='rulebase8.jpg')"
     ],
     "language": "python",
     "metadata": {},
     "outputs": [
      {
       "jpeg": "[encoded data removed]",
       "metadata": {},
       "output_type": "pyout",
       "prompt_number": 2,
       "text": [
        "<IPython.core.display.Image at 0x7e84160>"
       ]
      }
     ],
     "prompt_number": 2
    },
    {
     "cell_type": "markdown",
     "metadata": {},
     "source": [
      "\uc99d\uac70 E<sub>3</sub>\uc744 \uad00\ucc30\ud588\ub2e4\uace0 \uac00\uc815\ud55c\ub2e4\uba74, \ubaa8\ub4e0 \uac00\uc124\uc5d0 \ub300\ud574 \uc0ac\ud6c4 \ud655\ub960\uc744 \uacc4\uc0b0"
     ]
    },
    {
     "cell_type": "markdown",
     "metadata": {},
     "source": [
      "$${\\begin{array}  ( P(H_i|E_3)  =  \\frac{P(E_3|H_i) \\times P(H_i)}{\\sum_{k=1} ^3 P(E_3|H_k) \\times P(H_k)} \\quad i = 1, 2, 3\n",
      "\\end{array}}$$"
     ]
    },
    {
     "cell_type": "markdown",
     "metadata": {},
     "source": [
      "$${\\begin{array}  ( P(H_1|E_3)  =  \\frac{0.6 \\times 0.4 }{0.6 \\times 0.4 + 0.7 \\times 0.35 + 0.9 \\times 0.25}\n",
      " = 0.34,\n",
      " \\\\  P(H_2|E_3)  =  \\frac{0.7 \\times 0.35 }{0.6 \\times 0.4 + 0.7 \\times 0.35 + 0.9 \\times 0.25}\n",
      " = 0.34,\n",
      " \\\\ P(H_3|E_3)  =  \\frac{0.9 \\times 0.25 }{0.6 \\times 0.4 + 0.7 \\times 0.35 + 0.9 \\times 0.25}\n",
      " = 0.32\n",
      " \\end{array}}$$"
     ]
    },
    {
     "cell_type": "markdown",
     "metadata": {},
     "source": [
      "\uc99d\uac70 E<sub>1</sub>\uc744 \uad00\ucc30\ud588\ub2e4\uace0 \uac00\uc815\ud55c\ub2e4\uba74, \ubaa8\ub4e0 \uac00\uc124\uc5d0 \ub300\ud574 \uc0ac\ud6c4 \ud655\ub960\uc744 \uacc4\uc0b0"
     ]
    },
    {
     "cell_type": "markdown",
     "metadata": {},
     "source": [
      "$${\\begin{array}  ( P(H_i|E_1E_3)  =  \\frac{P(E_3|H_i) \\times  P(E_1|H_i) \\ \\times P(H_i)}{\\sum_{k=1} ^3 P(E_1|H_k) \\times P(E_3|H_k) \\times P(H_k)} \\quad i = 1, 2, 3\n",
      "\\end{array}}$$"
     ]
    },
    {
     "cell_type": "markdown",
     "metadata": {},
     "source": [
      "$${\\begin{array}  ( P(H_1|E_1E_3)  =  \\frac{0.3 \\times 0.6 \\times 0.4 }{0.3 \\times 0.6 \\times 0.4 + 0.8 \\times 0.7 \\times 0.35 + 0.5 \\times 0.9 \\times 0.25}\n",
      " = 0.19,\n",
      " \\\\  P(H_2|E_1E_3)  =  \\frac{0.8 \\times 0.7 \\times 0.35 }{0.3 \\times 0.6 \\times 0.4 + 0.8 \\times 0.7 \\times 0.35 + 0.5 \\times 0.9 \\times 0.25}\n",
      " = 0.52,\n",
      " \\\\ P(H_3|E_1E_3)  =  \\frac{0.5 \\times 0.9 \\times 0.25 }{ 0.3 \\times 0.6 \\times 0.4 + 0.8 \\times 0.7 \\times 0.35 + 0.5 \\times 0.9 \\times 0.25}\n",
      " = 0.29\n",
      " \\end{array}}$$"
     ]
    },
    {
     "cell_type": "markdown",
     "metadata": {},
     "source": [
      "\uc774\uc81c \uac00\uc124 H<sub>2</sub>\uac00 \uac00\uc7a5 \uc2e0\ub8b0\ub3c4\uac00 \ub192\uc544\ubcf4\uc774\uace0, \uac00\uc124 H<sub>1</sub>\uc5d0 \ub300\ud55c \uc2e0\ub8b0\ub294 \uac10\uc18c\ud588\ub2e4. \ub9c8\ucc2c\uac00\uc9c0\ub85c \uc99d\uac70 E<sub>2</sub>\ub97c \uad00\ucc30\ud55c \ub4a4\uc5d0 \ubaa8\ub4e0 \uac00\uc124\uc5d0 \ub300\ud55c \uc0ac\ud6c4 \ud655\ub960\uc744 \uacc4\uc0b0\ud568"
     ]
    },
    {
     "cell_type": "markdown",
     "metadata": {},
     "source": [
      "$${\\begin{array}  ( P(H_i|E_1E_2E_3)  =  \\frac{P(E_3|H_i) \\times P(E_2|H_i) \\times  P(E_1|H_i) \\ \\times P(H_i)}{\\sum_{k=1} ^3 P(E_1|H_k) \\times P(E_2|H_K) \\times P(E_3|H_k) \\times P(H_k)} \\quad i = 1, 2, 3\n",
      "\\end{array}}$$"
     ]
    },
    {
     "cell_type": "markdown",
     "metadata": {},
     "source": [
      "$${\\begin{array}  ( P(H_1|E_1E_2E_3)  =  \\frac{0.3 \\times 0.9 \\times 0.6 \\times 0.4 }{ 0.3 \\times 0.9 \\times 0.6 \\times 0.4 + 0.8 \\times 0.0 \\times 0.7 \\times 0.35 + 0.5 \\times 0.7 \\times 0.9 \\times 0.25}\n",
      " = 0.45,\n",
      " \\\\  P(H_2|E_1E_2E_3)  =  \\frac{0.8 \\times 0.0 \\times0.7 \\times 0.35 }{0.3 \\times 0.9 \\times 0.6 \\times 0.4 + 0.8 \\times 0.0 \n",
      " \\times 0.7 \\times 0.35 + 0.5 \\times 0.7 \\times 0.9 \\times 0.25}\n",
      " = 0.0,\n",
      " \\\\ P(H_3|E_1E_2E_3)  =  \\frac{0.5 \\times 0.7 \\times 0.9 \\times 0.25 }{ 0.3 \\times 0.9 \\times 0.6 \\times 0.4 + 0.8 \\times 0.0 \\times 0.7 \\times 0.35 + 0.5 \\times 0.7 \\times 0.9 \\times 0.25}\n",
      " = 0.55\n",
      " \\end{array}}$$"
     ]
    },
    {
     "cell_type": "markdown",
     "metadata": {},
     "source": [
      "\ucd5c\uc885\uc801\uc73c\ub85c \uac00\uc124 H<sub>2</sub>\ub294 \ud655\ub960\uc774 0\uc774\uace0, H<sub>3</sub>\uc774 \uac00\uc7a5 \uc720\ub825\ud55c \uac00\uc124\ub85c \uc120\ud0dd\ub420 \uac83\uc774\ub2e4"
     ]
    },
    {
     "cell_type": "heading",
     "level": 2,
     "metadata": {},
     "source": [
      "4. Forecast: \ubca0\uc774\uc988 \uc99d\uac70 \ucd95\uc801"
     ]
    },
    {
     "cell_type": "markdown",
     "metadata": {},
     "source": [
      "1982\ub144 3\uc6d4\uc758 \ub7f0\ub358 \ub0a0\uc528 \ub370\uc774\ud130\uc5d0 \uae30\ubc18\ud55c \uc77c\uae30\uc608\ubcf4 \uc2dc\uc2a4\ud15c\uc744 \uad6c\ucd95"
     ]
    },
    {
     "cell_type": "markdown",
     "metadata": {},
     "source": [
      "\uc774 \uc804\ubb38\uac00 \uc2dc\uc2a4\ud15c\uc740 __\ub0b4\uc77c\uc740 \ube44\uac00\uc628\ub2e4__\uc640 __\ub0b4\uc77c\uc740 \ub9d1\ub2e4__\ub77c\ub294 \ub450\uac1c\uc758 \uacb0\uacfc\ub97c \ub0b4\ub193\uace0, \uadf8 \ud655\ub960\uc744 \uc81c\uacf5\ud574\uc57c\ud568, \uc989 __\ub0b4\uc77c\uc740 \ube44\uac00 \uc628\ub2e4__ __\ub0b4\uc77c\uc740 \ub9d1\ub2e4__, \uc774 \uac00\uc815 \ub450\uac00\uc9c0\uc5d0 \ub300\ud55c \uc870\uac74\ubd80 \ud655\ub960\uc744 \uc815\ud574\uc57c\ud558"
     ]
    },
    {
     "cell_type": "raw",
     "metadata": {},
     "source": [
      "\uaddc\uce59 1\n",
      "IF \uc624\ub298\uc740 \ube44\uac00 \uc628\ub2e4\n",
      "THEN \ub0b4\uc77c\uc740 \ube44\uac00 \uc628\ub2e4\n",
      "\n",
      "\uaddc\uce592\n",
      "IF \uc624\ub298\uc740 \ub9d1\ub2e4\n",
      "THEN \ub0b4\uc77c\uc740 \ub9d1\ub2e4"
     ]
    },
    {
     "cell_type": "markdown",
     "metadata": {},
     "source": [
      "\ud558\uc9c0\ub9cc \uc774 \uaddc\uce59\uc744 \uc0ac\uc6a9\ud560 \uacbd\uc6b0 \ube44\uc624\ub294 \ub0a0\uc528\uac00 \ub9d1\uc740 \ub0a0\uc528 \ubc14\ub85c \uc55e\uc5d0 \uc788\uac70\ub098, \ub9d1\uc740 \ub0a0\uc528\uac00 \ube44\uc624\ub294 \ub0a0\uc528 \uc55e\uc5d0 \uc788\uc744 \ub54c\ub9c8\ub2e4 \uc624\ub958\ub97c \ubc94\ud560 \uac83, \ub530\ub77c\uc11c \ub450\uac1c\uc758 \uac00\uc815 \ubaa8\ub450\uc5d0 \ub300\ud574 0.5\uc758 \uc0ac\uc804 \ud655\ub960\uc744 \uc8fc\uc5b4 \uc704 \uaddc\uce59\uc744 \ub2e4\uc74c \ud615\uc2dd\uc73c\ub85c \ub2e4\uc2dc \uc4f8 \uc218 \uc788\uc74c"
     ]
    },
    {
     "cell_type": "raw",
     "metadata": {},
     "source": [
      "\uaddc\uce59 1\n",
      "IF \uc624\ub298\uc740 \ube44\uac00 \uc628\ub2e4 {LS 2.5 LN 0.6}\n",
      "THEN \ub0b4\uc77c\uc740 \ube44\uac00 \uc628\ub2e4 {\uc0ac\uc804 0.5}\n",
      "\n",
      "\uaddc\uce592\n",
      "IF \uc624\ub298\uc740 \ub9d1\ub2e4 {LS 1.6 LN 0.4}\n",
      "THEN \ub0b4\uc77c\uc740 \ub9d1\ub2e4 {\uc0ac\uc804 0.5}"
     ]
    },
    {
     "cell_type": "markdown",
     "metadata": {},
     "source": [
      "__*LS*(likelihood of SUfficiency)__ \uac12\uc740 \uc99d\uac70 E\uac00 \uc788\uc744 \ub54c \uc804\ubb38\uac00\uac00 \uac00\uc124 H\ub97c \uc2e0\ub8b0\ud558\ub294 \uc815\ub3c4\ub97c \uc758\ubbf8\ud558\ub294\ub370 \uc774\ub97c __\ucda9\ubd84 \uac00\ub2a5\uc131__\uc774\ub77c\uace0 \ud568. \ucda9\ubd84 \uac00\ub2a5\uc131\uc740 P(E|H<sup>C</sup>)\uc5d0 \ub300\ud55c P(E|H)\uc758 \ube44\uc728\ub85c \uc815\uc758\ud568"
     ]
    },
    {
     "cell_type": "markdown",
     "metadata": {},
     "source": [
      "$${\\begin{array}  ( LS = \\frac{P(E|H)}{P(E|H^c)}\n",
      "\\end{array}}$$"
     ]
    },
    {
     "cell_type": "markdown",
     "metadata": {},
     "source": [
      "\uc704\uc758 \uacbd\uc6b0\uc5d0 __LS__\ub294 \ub0b4\uc77c \ube44\uac00 \uc628\ub2e4\uba74 \uc624\ub298 \ube44\uac00 \uc62c \ud655\ub960\uc744 \ub0b4\uc77c \ube44\uac00 \uc624\uc9c0 \uc54a\ub294\ub2e4\uba74 \uc624\ub298 \ube44\uac00 \uc62c \ud655\ub960\ub85c \ub098\ub208 \uac83"
     ]
    },
    {
     "cell_type": "markdown",
     "metadata": {},
     "source": [
      "__LN(Likelihood of Necessity)__ \uac12\uc740 \uc99d\uac70 E\uac00 \uc5c6\uc744 \ub54c \uac00\uc124 H\uc5d0 \ub300\ud55c \ubd88\uc2e0\uc758 \uc815\ub3c4\uc774\uba70, __\ud544\uc694 \uac00\ub2a5\uc131__\uc774\ub77c\uace0 \ud568"
     ]
    },
    {
     "cell_type": "markdown",
     "metadata": {},
     "source": [
      "$${\\begin{array}  ( LN = \\frac{P(E^c|H)}{P(E^c|H^c)}\n",
      "\\end{array}}$$"
     ]
    },
    {
     "cell_type": "markdown",
     "metadata": {},
     "source": [
      "LS\ub85c \ubd80\ud130 LN\uc744 \uc720\ub3c4\ud560 \uc218 \uc5c6\uae30 \ub54c\ubb38\uc5d0, \uc804\ubb38\uac00\ub294 \ub450 \uac00\uc9c0 \uac12\uc774 \uc81c\uacf5\ub418\uc5b4\uc57c \ud568\uc744 \uba85\uc2dc\ud574\uc57c \ud568"
     ]
    },
    {
     "cell_type": "markdown",
     "metadata": {},
     "source": [
      "__\uc8fc\uc81c \uc804\ubb38\uac00\ub294 \ucda9\ubd84 \uac00\ub2a5\uc131\uacfc \ud544\uc694 \uac00\ub2a5\uc131\uc758 \uac12\uc744 \uc5b4\ub5bb\uac8c \uacb0\uc815\ud574\uc57c \ud558\ub294\uc9c0, \uc804\ubb38\uac00\uac00 \uc870\uac74\ubd80 \ud655\ub960\uc744 \ub2e4\ub8e8\uc5b4\uc57c \ud558\ub294\uac00?__"
     ]
    },
    {
     "cell_type": "markdown",
     "metadata": {},
     "source": [
      "LS\uc640 LN\uac12\uc744 \uba85\uc2dc\ud558\uae30 \uc704\ud574\uc11c __\uad73\uc774 \uc815\ud655\ud55c \uac12\uc774 \ud544\uc694\ud55c \uac83\uc740 \uc544\ub2d8__. \uc804\ubb38\uac00\ub294 \uac00\ub2a5\uc131\uc758 \uc815\ub3c4\ub9cc \uacb0\uc815 \ud558\uba74 \ub428"
     ]
    },
    {
     "cell_type": "markdown",
     "metadata": {},
     "source": [
      "$${\\begin{array}  ( \\text{IF LS value is high} LS > 1, \\text{the evidence strongly supports hypothesis}\n",
      "\\\\ \\text{IF LN value is low} 0 < LN < 1, \\text{the evidence strongly denies hypothesis}\n",
      "\\end{array}}$$"
     ]
    },
    {
     "cell_type": "markdown",
     "metadata": {},
     "source": [
      "\uc870\uac74\ubd80 \ud655\ub960\uc740 LS\uc640 LN\uac12\uc73c\ub85c \uacc4\uc0b0 \uac00\ub2a5\ud558\uae30 \ub54c\ubb38\uc5d0, \uc774\ub97c \uc99d\uac70\ub97c \uc804\ud30c\ud560 \ubca0\uc774\uc988 \uaddc\uce59\uc73c\ub85c \uc0ac\uc6a9\ud560 \uc218 \uc788\uc74c"
     ]
    },
    {
     "cell_type": "markdown",
     "metadata": {},
     "source": [
      "\uc704\uc758 \uc804\uc220\ud55c \uaddc\uce59\uc758 \uad00\uc810\uc5d0\uc11c \ubcf8\ub2e4\uba74, \uaddc\uce59 1\uc740 \uc624\ub298 \ub9d1\uc73c\uba74 \ub0b4\uc77c \ub9d1\uc744 \ud655\ub960\ub3c4 \ub192\ub2e4 (LS = 1.6), \ud558\uc9c0\uba74 \uc624\ub298 \ube44\uac00 \uc624\uace0 \uc788\ub2e4\uba74 \ub0b4\uc77c \ube44\uac00 \uc62c \ud655\ub960\uc774 \ub0b4\n",
      "\uc77c \ub9d1\uc744 \ud655\ub960\ubcf4\ub2e4 \ub192\ub2e4 (LS = 2.5)"
     ]
    },
    {
     "cell_type": "markdown",
     "metadata": {},
     "source": [
      "__\uc804\ubb38\uac00 \uc2dc\uc2a4\ud15c\uc740 \ub0b4\uc77c \ube44\uac00 \uc624\uac70\ub098 \ub9d1\ub2e4\ub294 \uac83\uc5d0 \ub300\ud55c \uc804\ubc18\uc801\uc778 \ud655\ub960\uc744 \uc5b4\ub5bb\uac8c \uc5bb\ub294\uac00__"
     ]
    },
    {
     "cell_type": "markdown",
     "metadata": {},
     "source": [
      "\ud6c4\uac74(THEN \ubd80\ubd84)\uc758 \uc0ac\uc804 \ud655\ub960 P(H)\ub97c __\uc0ac\uc804 \uac00\ub2a5\uc131(prior odds)__ \uc73c\ub85c \ubcc0\ud658 \ud560 \uc218 \uc788\uc74c"
     ]
    },
    {
     "cell_type": "markdown",
     "metadata": {},
     "source": [
      "$${\\begin{array}  ( O(H) = \\frac{P(H)}{1-P(H)}\n",
      "\\end{array}}$$"
     ]
    },
    {
     "cell_type": "markdown",
     "metadata": {},
     "source": [
      "\uc0ac\uc804 \ud655\ub960\uc740 \ud6c4\uac74\uc758 \ubd88\ud655\uc2e4\uc131\uc774 \ucd5c\ucd08\ub85c \uc801\uc6a9\ub420 \ub54c\ub9cc \uc4f0\uc774\uace0, \uadf8\ub7f0 \ud6c4\uc5d0 \ucc28\ub840\ub85c \uc0ac\ud6c4 \uac00\ub2a5\uc131\uc744 \uad6c\ud574\uc57c \ud558\ub294\ub370 \uaddc\uce59\uc758 \uc804\uac74(IF \ubd80\ubd84)\uc774 \ucc38\uc77c \ub54c\ub294 LS\ub97c\n",
      "\uc774\uc6a9\ud574\uc11c, \uc804\uac74\uc774 \uac70\uc9d3\uc77c \uacbd\uc6b0\uc5d0\ub294 LN\uc744 \uc774\uc6a9\ud574\uc11c \uc0ac\uc804 \uac00\ub2a5\uc131\uc744 \uac31\uc2e0\ud568 "
     ]
    },
    {
     "cell_type": "markdown",
     "metadata": {},
     "source": [
      "$${\\begin{array}  ( O(H|E) = LS \\times O(H)\n",
      "\\\\ O(H|E^c) = LN \\times O(H)\n",
      "\\end{array}}$$"
     ]
    },
    {
     "cell_type": "markdown",
     "metadata": {},
     "source": [
      "\uc774\ub294 \uc0ac\ud6c4 \ud655\ub960\uc744 \uad6c\ud560 \ub54c \uc4f0\uc784"
     ]
    },
    {
     "cell_type": "markdown",
     "metadata": {},
     "source": [
      "$${\\begin{array}  ( P(H|E) = \\frac{O(H|E)}{1+O(H|E)}\n",
      "\\\\ P(H|E^c) = \\frac{O(H|E^c)}{1+O(H|E^c)}\n",
      "\\end{array}}$$"
     ]
    },
    {
     "cell_type": "markdown",
     "metadata": {},
     "source": [
      "\uc774\ub97c \ub7f0\ub358 \ub0a0\uc528\uc758 \uc608\uc5d0 \uc801\uc6a9\ud558\uba74, \uc0ac\uc6a9\uc790\uac00 __\uc624\ub298 \ube44\uac00 \uc628\ub2e4__ \ub77c\uace0 \uc785\ub825\ud588\ub2e4\uace0 \uac00\uc815\ud558\uba74, \uaddc\uce59 1\uc774 \uc810\ud654\ub418\uace0 __\ub0b4\uc77c\uc740 \ube44\uac00 \uc628\ub2e4__\uc758 \uc0ac\uc804\ud655\ub960\ub85c\n",
      "\ubcc0\ud658\ub428"
     ]
    },
    {
     "cell_type": "markdown",
     "metadata": {},
     "source": [
      "$${\\begin{array}  ( O( \\text{Tomorrow is rainy day}) = \\frac{0.5}{1-0.5} = 1.0\n",
      "\\end{array}}$$"
     ]
    },
    {
     "cell_type": "markdown",
     "metadata": {},
     "source": [
      "__\uc624\ub298\uc740 \ube44\uac00 \uc628\ub2e4__\ub294 \uc99d\uac70\ub294 \uadf8 \uac00\ub2a5\uc131\uc744 2.5\ub9cc\ud07c \uc99d\uac00\uc2dc\ud0a4\uae30\uace0, \uadf8\ub85c \uc778\ud574 \ud655\ub960\uc740 0.5\uc5d0 0.71\ub85c \ub192\uc544\uc9d0"
     ]
    },
    {
     "cell_type": "markdown",
     "metadata": {},
     "source": [
      "$${\\begin{array}  ( O( \\text{Tomorrow is rainy day}|\\text{Today is rainy day}) = 2.5 \\times 1.0 = 2.5\n",
      "\\\\ P( \\text{Tomorrow is rainy day}|\\text{Today is rainy day}) = \\frac{2.5}{1+2.5} = 0.71\n",
      "\\end{array}}$$"
     ]
    },
    {
     "cell_type": "markdown",
     "metadata": {},
     "source": [
      "\uaddc\uce59 2 \ub610\ud55c \uc810\ud654\ub41c\ub2e4. __\ub0b4\uc77c\uc740 \ub9d1\ub2e4__\uc758 \uc0ac\uc804 \ud655\ub960\uc774 \uc0ac\uc804 \uac00\ub2a5\uc131\uc73c\ub85c \ubc14\ub00c\uc9c0\ub9cc, __\uc624\ub298\uc740 \ube44\uac00 \uc628\ub2e4__\ub294 \uc99d\uac70\uac00 \uadf8 \uac00\ub2a5\uc131\uc744 0.4\ub9cc\ud07c \ub0ae\ucda4. \uc774\ub85c \n",
      "\uc778\ud574 __\ub0b4\uc77c\uc740 \ub9d1\ub2e4__\uc758 \ud655\ub960\uc774 0.5\uc5d0\uc11c 0.29\ub85c \uc904\uc5b4\ub4e6"
     ]
    },
    {
     "cell_type": "markdown",
     "metadata": {},
     "source": [
      "$${\\begin{array}  ( O( \\text{Tomorrow is sunny day}) = \\frac{0.5}{1-0.5} = 1.0\n",
      "\\\\ O( \\text{Tomorrow is sunny day}|\\text{Today is rainy day}) = 0.4 \\times \\ 1.0 = 0.4\n",
      "\\\\ P( \\text{Tomorrow is sunny day}|\\text{Today is rainy day}) = \\frac{0.4}{1+0.4} = 0.29\n",
      "\\end{array}}$$"
     ]
    },
    {
     "cell_type": "markdown",
     "metadata": {},
     "source": [
      "- \ub530\ub77c\uc11c \ub0b4\uc77c \ube44\uac00 \uc62c \ud655\ub960\uc740 71%\uc774\uace0 \ub9d1\uc744 \ud655\ub960\uc740 0.29\n",
      "- \uc0ac\uc6a9\uc790\uac00 __\uc624\ub298\uc740 \ub9d1\ub2e4__\ub77c\uace0 \uc785\ub825\ud588\ub2e4\uace0 \ud588\uc744\ub370, \ub3d9\uc77c\ud55c \uacc4\uc0b0\uc744 \uac70\uce58\uba74 \ub0b4\uc77c \ub9d1\uc744 \ud655\ub960\uc740 62%\uc774\uace0 38%"
     ]
    },
    {
     "cell_type": "heading",
     "level": 2,
     "metadata": {},
     "source": [
      "5. \ubca0\uc774\uc988 \ubc29\ubc95\uc758 \uce58\uc6b0\uce68(bias)"
     ]
    },
    {
     "cell_type": "markdown",
     "metadata": {},
     "source": [
      "\ubca0\uc774\uc988 \ucd94\ub860\uc758 \uc8fc\uc694 \uc785\ub825\uc5d0\ub294 \ud655\ub960 \uac12\uc774 \ub4e4\uc5b4\uac00\uc57c\ud558\ub294\ub370, \uc778\uac04\uc740 \ubca0\uc774\uc988 \uaddc\uce59\uacfc \ubaa8\uc21c\ub418\uc9c0 \uc54a\ub294 \ud655\ub960\uac12\uc744 \uc81c\ub300\ub85c \ub3c4\ucd9c\ud558\ub294 \uac83\uc774 \ud798\ub4ec"
     ]
    },
    {
     "cell_type": "raw",
     "metadata": {},
     "source": [
      "IF \uc99d\uc0c1\uc740 '\uc774\uc0c1\ud55c \uc18c\ub9ac'\ub2e4\n",
      "THEN \uc2dc\ub3d9 \uc7a5\uce58\uac00 \uace0\uc7a5 \ub0ac\ub2e4{\ud655\ub9600.7}"
     ]
    },
    {
     "cell_type": "markdown",
     "metadata": {},
     "source": [
      "\ucc28\uac00 \uc774\uc0c1\ud55c \uc18c\ub9ac\ub97c \ub0b4\ub294\ub370\ub3c4 \uc2dc\ub3d9 \uc7a5\uce58\uac00 \uace0\uc7a5\ub098\uc9c0 \uc54a\uc744 \uc870\uac74\ubd80 \ud655\ub960\uc740 \ub2e4\uc74c\uacfc \uac19\ub2e4."
     ]
    },
    {
     "cell_type": "markdown",
     "metadata": {},
     "source": [
      "$${\\begin{array}  ( P( \\text{Car's starting gear is not broken}| \\text{Strong sound}) = P( \\text{Car's starting gear is working well}| \\text{Strong sound}) = 1.0 - 0.7 = 0.3\n",
      "\\end{array}}$$"
     ]
    },
    {
     "cell_type": "markdown",
     "metadata": {},
     "source": [
      "\ub530\ub77c\uc11c \ub2e4\uc74c\uc758 \ub300\uc751 \uaddc\uce59\uc744 \uc5bb\ub294\ub2e4"
     ]
    },
    {
     "cell_type": "raw",
     "metadata": {},
     "source": [
      "IF \uc99d\uc0c1\uc740 '\uc774\uc0c1\ud55c \uc18c\ub9ac'\ub2e4\n",
      "THEN \uc2dc\ub3d9 \uc7a5\uce58\uac00 \uc815\uc0c1\uc774\ub2e4{\ud655\ub9600.3}"
     ]
    },
    {
     "cell_type": "markdown",
     "metadata": {},
     "source": [
      "\uc804\ubb38\uac00\ub294 \uc870\uac74\ubd80 \ud655\ub960\uc744 \ucde8\uae09\ud558\uc9c0 \uc54a\uc73c\uba70, \ub300\uac1c __\uc228\uaca8\uc9c4 \ub0b4\uc7ac \ud655\ub960(hidden implicit probability)__\ub97c \uace0\ub824\ud558\uc9c0 \uc54a\ub294\ub2e4"
     ]
    },
    {
     "cell_type": "markdown",
     "metadata": {},
     "source": [
      "\uc55e\uc758 \uc608\uc5d0\uc11c, \uc720\ud6a8\ud55c \ud1b5\uacc4 \uc815\ubcf4\uc640 \uacbd\ud5d8\uc801 \uc5f0\uad6c\ub97c \uadfc\uac70\ub85c \ub2e4\uc74c\uacfc \uac19\uc740 \uaddc\uce59 \ub450 \uac1c\ub97c \uc774\ub04c\uc5b4 \ub0bc \uc218 \uc788\uc74c"
     ]
    },
    {
     "cell_type": "raw",
     "metadata": {},
     "source": [
      "IF \uc2dc\ub3d9 \uc7a5\uce58\uac00 \uace0\uc7a5\ub0ac\ub2e4\n",
      "THEN \uc99d\uc0c1\uc740 '\uc774\uc0c1\ud55c \uc18c\ub9ac'\ub2e4 {\ud655\ub960 0.85}\n",
      "\n",
      "IF \uc2dc\ub3d9 \uc7a5\uce58\uac00 \uace0\uc7a5 \ub0ac\ub2e4\n",
      "THEN \uc99d\uc0c1\uc740 '\uc774\uc0c1\ud55c \uc18c\ub9ac'\uac00 \uc544\ub2c8\ub2e4{\ud655\ub960 0.15}"
     ]
    },
    {
     "cell_type": "markdown",
     "metadata": {},
     "source": [
      "\ubca0\uc774\uc988 \uaddc\uce59\uc744 \uc0ac\uc6a9\ud558\uae30 \uc704\ud574\uc120 \uc0ac\uc804 \ud655\ub960, \uc989 \ucc28\uac00 \ucd9c\ubc1c\ud558\uc9c0 \uc54a\uc744 \ub54c \uc2dc\ub3d9 \uc7a5\uce58\uac00 \uace0\uc7a5 \ub0ac\uc744 \ud655\ub960\uc774 \ud544\uc694\ud568. \ub9cc\uc77c \uc804\ubb38\uac00\uac00 5%\uc758 \uac12\uc744 \uc81c\uacf5\ud588\ub2e4\uace0 \uac00\uc815\ud588\uc744 \ub54c \ubca0\uc774\uc988 \uaddc\uce59\uc744 \uc801\uc6a9\ud558\uba74 \uadf8 \uac12\uc740 \ub2e4\uc74c\uacfc \uac19\uc74c"
     ]
    },
    {
     "cell_type": "markdown",
     "metadata": {},
     "source": [
      "$${\\begin{array}  ( P( \\text{Car's starting gear is broken}| \\text{Strong sound}) = \\frac{0.85 \\times 0.05}{0.85 \\times 0.05 + 0.15 \\times 0.95} = 0.23\n",
      "\\end{array}}$$"
     ]
    },
    {
     "cell_type": "markdown",
     "metadata": {},
     "source": [
      "\uc774 \uac12\uc740 \ucc98\uc74c\uc758 \uac12 0.7\ubcf4\ub2e4 \ud6e8\uc52c \ub0ae\ub2e4"
     ]
    },
    {
     "cell_type": "markdown",
     "metadata": {},
     "source": [
      "__\uc65c \uc774\ub7f0 \ubb38\uc81c\uac00 \ubc1c\uc0dd\ud558\ub294\uac00__"
     ]
    },
    {
     "cell_type": "markdown",
     "metadata": {},
     "source": [
      "\uadf8 \uc774\uc720\ub294 \uc804\ubb38\uac00\uac00 \uc870\uac74\ubd80 \ud655\ub960\uacfc \uc0ac\uc804 \ud655\ub960\uc744 \uc815\ud560 \ub54c \uac01\uac01 \ub2e4\ub978 \uac00\uc815\uc744 \ud588\uae30 \ub54c\ubb38. \uc0ac\ud6c4 \ud655\ub960P(\uc2dc\ub3d9 \uc7a5\uce58\uac00 \uace0\uc7a5\ub0ac\ub2e4|\uc774\uc0c1\ud55c \uc18c\ub9ac)\uc5d0\uc11c \ubd80\ud130\n",
      "\uc0ac\uc804 \ud655\ub960 P(\uc2dc\ub3d9 \uc7a5\uce58\uac00 \uace0\uc7a5\ub0ac\ub2e4)\uae4c\uc9c0 \uac70\uafb8\ub85c \uc0dd\uac01\ud574\ubcf4\uba74 \uc774\ub97c \uc870\uc0ac\ud560 \uc218 \uc788\ub2e4"
     ]
    },
    {
     "cell_type": "markdown",
     "metadata": {},
     "source": [
      "$${\\begin{array}  ( P( \\text{Car's starting gear is working well}) = 1.0-P( \\text{Car's starting gear is broken})\n",
      "\\end{array}}$$"
     ]
    },
    {
     "cell_type": "markdown",
     "metadata": {},
     "source": [
      "\uc5ec\uae30\uc5d0 \ubca0\uc774\uc988 \uaddc\uce59\uc744 \uc801\uc6a9\ud558\uba74 \ub2e4\uc74c\uacfc \uac19\uc74c"
     ]
    },
    {
     "cell_type": "markdown",
     "metadata": {},
     "source": [
      "$${\\begin{array}  ( P(H) = \\frac{P(H|E) \\times P(E|H^c)}{P(H|E) \\times P(E|H^c) + P(E|H)[1 - P(H|E)]}\n",
      "\\end{array}}$$"
     ]
    },
    {
     "cell_type": "markdown",
     "metadata": {},
     "source": [
      "\uac01\uac01\uc758 \ud655\ub960\uc740 \ub2e4\uc74c\uacfc \uac19\uc74c"
     ]
    },
    {
     "cell_type": "markdown",
     "metadata": {},
     "source": [
      "$${\\begin{array}  ( P(H) = P(\\text{Car's starting gear is broken})\n",
      "\\\\ P(H|E) = P(\\text{Car's starting gear is broken}|\\text{Strong sound})\n",
      "\\\\ P(E|H) = P(\\text{Strong sound}|\\text{Car's starting gear is broken})\n",
      "\\\\ P(E|H^c) = P(\\text{Strong sound}|\\text{Car's starting gear is working well})\n",
      "\\end{array}}$$"
     ]
    },
    {
     "cell_type": "markdown",
     "metadata": {},
     "source": [
      "\ub9cc\uc77c P(\uc2dc\ub3d9 \uc7a5\uce58\uac00 \uace0\uc7a5 \ub0ac\ub2e4| \uc774\uc0c1\ud55c \uc18c\ub9ac)\uc758 \ud655\ub960\uc744 \uc804\ubb38\uac00\uac00 \uc81c\uacf5\ud55c 0.7\ub85c \uace0\uce58\uba74 \uc0ac\uc804 \ud655\ub960 P(\uc2dc\ub3d9 \uc7a5\uce58\uac00 \uace0\uc7a5 \ub0ac\ub2e4)\uc758 \uac12\uc740 \ub2e4\uc74c\uacfc \uac19\uc774 \ub428"
     ]
    },
    {
     "cell_type": "markdown",
     "metadata": {},
     "source": [
      "$${\\begin{array}  ( P(H) = \\frac{0.75 \\times 0.15}{0.7 \\times 0.15 + 0.85 \\times(1-0.7)} = 0.29\n",
      "\\end{array}}$$"
     ]
    },
    {
     "cell_type": "markdown",
     "metadata": {},
     "source": [
      "\uc774 \uac12\uc740 \uc804\ubb38\uac00\uac00 \uc81c\uc2dc\ud55c 5%\ubcf4\ub2e4 \uac70\uc758 6\ubc30 \ud06c\ub2e4, \ub530\ub77c\uc11c \uc804\ubb38\uac00\ub294 \uc0ac\uc804 \ud655\ub960\uacfc \uc870\uac74\ubd80 \ud638\uac00\ub960\uc5d0 \ub300\ud574 \ub9e4\uc6b0 \ub2e4\ub978 \ucd94\uc815\uc744 \ud55c\uac83\n",
      "\ub530\ub77c\uc11c \uc2e4\uc81c\ub85c \ubca0\uc774\uc988 \uc811\uadfc\ubc95\uc744 \uc0ac\uc6a9\ud558\ub824\uba74 \uc5b4\ub5a4 \uac00\uc815\uacfc \ubd80\uc815 \ud558\uc5d0\uc11c \uc99d\uac70\uc758 \uc870\uac74\ubd80 \ub3c5\ub9bd\uc744 \ud3ec\ud568\ud558\uc5ec \ub9ce\uc740 \uac00\uc815\uc744 \ucda9\uc871 \ud574\uc57c\ud568"
     ]
    }
   ],
   "metadata": {}
  }
 ]
}