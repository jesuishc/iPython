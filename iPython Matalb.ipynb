{
 "metadata": {
  "name": "",
  "signature": "sha256:e9bd01db37cd1595e5d0e3a1c27449bf8d3457e94c1a442ad4f4c9c34c6ff235"
 },
 "nbformat": 3,
 "nbformat_minor": 0,
 "worksheets": [
  {
   "cells": [
    {
     "cell_type": "heading",
     "level": 1,
     "metadata": {},
     "source": [
      "Matlab \uacfc iPython \uc5f0\ub3d9\ud558\uae30"
     ]
    },
    {
     "cell_type": "markdown",
     "metadata": {},
     "source": [
      "- \uc900\ube44\ubb3c: zmq, pyzmq, pymatbridge library\n",
      "- zmq\ub791 pyzmq\uac00\uc9c0\uace0 dynamic loader path\ub97c \uc124\uc815, pointing the binary at the right place\uae4c\uc9c0\n",
      "- Canopy\uae54\uba74 zmq\ub791 pyzmq\ub294 \uae54\ub824 \uc788\uc73c\ub2c8\uae4c dynamic loader path \uc124\uc815\uc548\ud558\uace0pymatbridge\ub97c \uc131\uacf5\ud558\uc9c0 \uc54a\uc744\uae4c? -- \ub0b4 idea\n",
      "- \ud55c\ubc88 \uadf8\ub0e5 magic matlab \ubd88\ub7ec\ubcfc\uae4c?"
     ]
    },
    {
     "cell_type": "code",
     "collapsed": false,
     "input": [
      "mlab = Matlab()"
     ],
     "language": "python",
     "metadata": {},
     "outputs": [
      {
       "ename": "NameError",
       "evalue": "name 'Matlab' is not defined",
       "output_type": "pyerr",
       "traceback": [
        "\u001b[1;31m---------------------------------------------------------------------------\u001b[0m\n\u001b[1;31mNameError\u001b[0m                                 Traceback (most recent call last)",
        "\u001b[1;32m<ipython-input-2-903c0b1abd31>\u001b[0m in \u001b[0;36m<module>\u001b[1;34m()\u001b[0m\n\u001b[1;32m----> 1\u001b[1;33m \u001b[0mmlab\u001b[0m \u001b[1;33m=\u001b[0m \u001b[0mMatlab\u001b[0m\u001b[1;33m(\u001b[0m\u001b[1;33m)\u001b[0m\u001b[1;33m\u001b[0m\u001b[0m\n\u001b[0m",
        "\u001b[1;31mNameError\u001b[0m: name 'Matlab' is not defined"
       ]
      }
     ],
     "prompt_number": 2
    },
    {
     "cell_type": "markdown",
     "metadata": {},
     "source": [
      "- \ub2f9\uc5f0\ud788 \uc548\ub418\ub294\uad70\n",
      "    - \uc54c\uac8c\ub41c \uc810: 1. Canopy\uc758 path library\ub97c \uc5ec\uae30\uc5d0\ub2e4 \uae54\uc544\uc57c\ud558\ub124 2. iPython\uc758 magic line \uc4f8\ub824\uba74 \ub9ce\uc740 \ubaa8\ub4c8\uc774 \ud544\uc694\ud558\uad70\n",
      "    - pymatbridge\ub97c Canopy\uc758 path\uc5d0 \uae54\uace0 \uc2dc\ub3c4\ud574 \ubcf4\uaca0\uc74c\n",
      "- \uc2e4\ud328"
     ]
    },
    {
     "cell_type": "heading",
     "level": 1,
     "metadata": {},
     "source": [
      "Matlab\uacfc iPython\uacfc Python matlab bridge\uc758 \ubb38\uc81c\uc810"
     ]
    },
    {
     "cell_type": "markdown",
     "metadata": {},
     "source": [
      "- zmq, pyzmq, pymatbridge library\uac00 \ud604\uc7ac \uc5c5\ub370\uc774\ud2b8\uac00 \ub418\uace0 \uc788\uc9c0 \uc54a\uc74c\n",
      "- \uc774\uac74 Canopy\uc640\uc758 \ubb38\uc81c\uc778\ub370 Canopy\ub97c \ud1b5\ud574\uc11c \ud604\uc7ac iPython\uc744 \uad6c\ub3d9\ud558\uace0 \uc788\uae30 \ub54c\ubb38\uc5d0 python\ud504\ub85c\uadf8\ub7a8\uc758 \ub514\ub809\ud1a0\ub9ac\ub4e4\uc774 \uc804\ubd80 \uaf2c\uc5ec\uc788\uc74c (Canopy\uac1c\ubc1c\ud55c\ub370\uc11c \uc124\uc815\ud55c \uacf3\uc73c\ub85c). \ubb38\uc81c\ub294 python matlab bridge\ub97c \uc124\uce58\ud558\uae30 \uc704\ud574\uc11c\ub294 iPython\uc774 \ub514\ud3f4\ud2b8 \ub514\ub809\ud1a0\ub9ac\uc5d0 \uc788\uc5b4\uc57c \ud558\ub294\ub370 \uc774\uac8c \uaf2c\uc5ec\uc788\uc5b4\uc11c \uacc4\uc18d \uc5d0\ub7ec\uac00 \ubc1c\uc0dd\n",
      "- \ud604\uc7ac \uc6b0\ub9ac\uac00 \uad6c\ub3d9\ud558\uace0 \uc788\ub294 OS\uac00 python-matlab-bridge \uac1c\ubc1c\ud55c \uc0ac\ub78c\uacfc OS\uac00 \ub2e4\ub984 (\uc598\ub294 \uc6b0\ubd84\ud22c) \uc124\uc815\uac12\uc774 \ub2ec\ub77c\uc11c \uadf8\ub7f0\uc9c0 \ud648\ud398\uc774\uc9c0\uc5d0 \ub098\uc640\uc788\ub294\ub370\ub85c \uc2e4\ud589\ud574\ub3c4 \uc548\ub428.\n",
      "- \uc2ec\uc9c0\uc5b4 \uc598\uac00 \uac1c\ubc1c\ud55c \ub9e4\ud2b8\ub7a9 \ubc84\uc804\uc740 2011.b \uc6b0\ub9ac\uaec0 2013.b\n",
      "- **\uacb0\ub860\uc801\uc73c\ub85c \uc598\uae30\ud558\uc790\uba74 python matlab bridge\uc640 iPython \ubaa8\ub4c8\uc744 \uc5f0\ub3d9\ud558\ub824\uba74 \uc774 \uac1c\ubc1c\uc790\uac00 \uac1c\ubc1c\ud55c \ud658\uacbd\uacfc \ub611\uac19\uc774 \uc138\ud305\ud574\uc57c \ud560\ub4ef**\n",
      "- \uc54c\uc544\ub0b8 \uc810 \uba87\uac00\uc9c0\n",
      "-%load_ext pymatbridge \ub85c \ub9e4\uc9c1 \ub9e4\ud2b8\ub7a9\uc744 \ucf5c\ud558\uba74 \ub2e4\uc74c\uacfc \uac19\uc740 \ud654\uba74\uc774 \ub738\n",
      "<img src=\"https://scontent-a-pao.xx.fbcdn.net/hphotos-xpa1/t31.0-8/10847701_746245912121715_5612734904264205899_o.jpg\" />\n",
      "- \uc989 Matlab \uc11c\ubc84\ub97c \ubd88\ub7ec\uc640\uc11c \uc704\uc758 \uadf8\ub9bc\uacfc \uac19\uc740 Matlab Headless mode\ub97c \ubd88\ub7ec\uc628 \ub4a4 messenger \ub77c\ub294 \uac83\uc744 \uc774\uc6a9\ud574 (\uc774\uac74 \ubb34\uc5c7\uc778\uc9c0 \uc798 \ubaa8\ub974\uaca0\uc74c) iPython\uacfc Matlab headless mode\uac04\uc758 \ud1b5\uc2e0\uc744 \ud1b5\ud558\uc5ec iPython\uc5d0 \uad6c\ud604\ub418\ub294 '\uac83' \ucc98\ub7fc \ubcf4\uc774\uac8c \ud558\ub294 \uac83.\n",
      "- \ub2e4\ub9cc \ud604\uc7ac \uadf8\ub9bc\ucc98\ub7fc messenger\ub77c\ub294 \ud568\uc218\ub97c \uc5f0\uacb0\ud574 \uc8fc\uc9c0 \ubabb\ud574\uc11c \uc560\ub97c \uba39\ub294 \uac83 \uac19\uc740\ub370,\n",
      "    - zmq library\uac00 \uac1c\ubc1c\uc790\ub791 \ubc84\uc83c\uc774 \ub2e4\ub984\n",
      "    - \ub514\ub809\ud1a0\ub9ac\ub3c4 \ub2e4\ub984\n",
      "    - OS\ub3c4 \ub2ec\ub77c\uc11c zmq library\uc758 path\ub97c \uc124\uc815\ud558\ub294 \uac83\ub3c4 \uc560\ub97c \uba39\uace0 \uc788\uc74c\n",
      "- \ub4f1\uc758 \uc774\uc720\ub85c \uc2e4\ud328\ud55c\ub4ef.\n",
      "- \ub9cc\uc77c \uc800 messenger function\uc758 \ubb38\uc81c\ub9cc \ud574\uacb0\ud560 \uc218 \uc788\ub2e4\uba74 \uac00\ub2a5\ud560\uc9c0\ub3c4 \ubaa8\ub974\uaca0\uc74c.\n",
      "- \ucc38\uace0\ub85c \uc800 Matlab Headless mode\uc5d0\uc11c\ub294 Matlab\uc5d0 \uc874\uc7ac\ud558\ub294 \ubaa8\ub4e0 \ud568\uc218 \uc804\ubd80 \ub2e4 \uc0ac\uc6a9 \uac00\ub2a5 (\ud14c\uc2a4\ud2b8 \ud574\ubd04)."
     ]
    }
   ],
   "metadata": {}
  }
 ]
}