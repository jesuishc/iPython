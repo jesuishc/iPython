{
 "metadata": {
  "name": "",
  "signature": "sha256:81a109d5a7cebdf46fc11b0bb8ac5a2491b4a424a7e5f37da25669371303624e"
 },
 "nbformat": 3,
 "nbformat_minor": 0,
 "worksheets": [
  {
   "cells": [
    {
     "cell_type": "heading",
     "level": 1,
     "metadata": {},
     "source": [
      "iSystems iPython Manual 0.1v -by hyungcheol"
     ]
    },
    {
     "cell_type": "markdown",
     "metadata": {},
     "source": [
      "hierarchy\ub791 \uc21c\uc11c\ub294 \ub0b4\ub9d8\ub300\ub85c \uc815\ud568 (Interactive programming by RICE \uac15\uc758 \uc21c\uc11c\ub530\ub77c)"
     ]
    },
    {
     "cell_type": "heading",
     "level": 1,
     "metadata": {},
     "source": [
      "RICE University"
     ]
    },
    {
     "cell_type": "heading",
     "level": 2,
     "metadata": {},
     "source": [
      "1. Arithmetic expression"
     ]
    },
    {
     "cell_type": "markdown",
     "metadata": {},
     "source": [
      "- Arithmetic expressions - \uc22b\uc790, \uc5f0\uc0b0\uc790, expressions\n",
      "- \uc22b\uc790 - integer (\uc815\uc218) \uc544\ub2c8\uba74 decimal\n",
      "- type()\uc744 \uc0ac\uc6a9\ud558\uc5ec \uc22b\uc790\ub4e4\uc774 \uc5b4\ub5a4 \ub370\uc774\ud130 \ud0c0\uc785\uc778\uc9c0 \uc54c \uc218 \uc788\uc74c\n",
      "- \uc815\uc218\ub294 int(), decimal\uc740 float()"
     ]
    },
    {
     "cell_type": "code",
     "collapsed": false,
     "input": [
      "print 3, -1, 3.14159, -2.8"
     ],
     "language": "python",
     "metadata": {},
     "outputs": [
      {
       "output_type": "stream",
       "stream": "stdout",
       "text": [
        "3 -1 3.14159 -2.8\n"
       ]
      }
     ],
     "prompt_number": 3
    },
    {
     "cell_type": "code",
     "collapsed": false,
     "input": [
      "type(3.1) , type(2)"
     ],
     "language": "python",
     "metadata": {},
     "outputs": [
      {
       "metadata": {},
       "output_type": "pyout",
       "prompt_number": 5,
       "text": [
        "(float, int)"
       ]
      }
     ],
     "prompt_number": 5
    },
    {
     "cell_type": "markdown",
     "metadata": {},
     "source": [
      "- \uac15\uc81c\ub85c decimal -> integer, integer -> decimal\ub3c4 \uac00\ub2a5 int(), float()\n",
      "- int()\ub294 \uc22b\uc790\uc758 \uc815\uc218\ubd80\ubd84\ub9cc \uac00\uc838\uc634 (\ubc18\uc62c\ub9bc, \uc62c\ub9bc\uc774 \uc544\ub2cc \ub0b4\ub9bc\uc758 \uac1c\ub150)\n",
      "- float()\ub97c \uc815\uc218\uc778\uc5d0 \ud55c\ud14c \ubd99\uc774\uba74...?"
     ]
    },
    {
     "cell_type": "code",
     "collapsed": false,
     "input": [
      "print int(3.1), int(3.7), int(-3.1), int(-3.7)\n",
      "print float(3), float(-7)"
     ],
     "language": "python",
     "metadata": {},
     "outputs": [
      {
       "output_type": "stream",
       "stream": "stdout",
       "text": [
        "3 3 -3 -3\n",
        "3.0 -7.0\n"
       ]
      }
     ],
     "prompt_number": 2
    },
    {
     "cell_type": "markdown",
     "metadata": {},
     "source": [
      "- \uc54c \uc218\ub3c4 \uc788\uaca0\uc9c0\ub9cc \uc18c\uc218 15\ubc88\uc9f8\uc790\ub9ac \uae4c\uc9c0\ub9cc \ud45c\uc2dc\ub428 (python\uc740)\n",
      "- iPython\uc740 10\ubc88\uc9f8\uc790\ub9ac\uae4c\uc9c0\ub9cc \ud45c\uc2dc\ub418\ub294\ub4ef... \ub098\uc911\uc5d0 \ub370\uc774\ud130 \ud45c\uc2dc \uc124\uc815\uc744 \uac74\ub4dc\ub9ac\uba74 \ub420\ub4ef"
     ]
    },
    {
     "cell_type": "markdown",
     "metadata": {},
     "source": [
      "print 1.1512311298371928371928371928371928371948619846198341692487192487"
     ]
    },
    {
     "cell_type": "markdown",
     "metadata": {},
     "source": [
      "- Arithmetic operator\n",
      "- Rice \uad50\uc218\ub2d8\ub4e4\uc774 \uac15\uc870\ud558\ub294\uac74\ub370 \ud56d\uc0c1 \ucf54\ub4dc\ub97c \uc9e0 \ub4a4\uc5d0 \uc5b4\ub5a0\ud55c \uacb0\uacfc\uac00 \ub098\uc62c\uc9c0 \uc608\uc0c1\uc744 \ud574\uc57c\ud568 \uadf8\ub798\uc57c\uc9c0 \ub514\ubc84\uae45\ub3c4 \ube60\ub974\uace0 \ubb50\uac00 \ud2c0\ub838\ub294\uc9c0 \uc27d\uac8c \uc54c \uc218 \uc788\uc74c"
     ]
    },
    {
     "cell_type": "raw",
     "metadata": {},
     "source": [
      "+ \ub354\ud558\uae30\n",
      "- \ube7c\uae30\n",
      "* \uacf1\ud558\uae30\n",
      "/ \ub098\ub204\uae30\n",
      "** \uc81c\uacf1"
     ]
    },
    {
     "cell_type": "code",
     "collapsed": false,
     "input": [
      "print 1 + 2, 3 - 4, 5 * 6, 2 **5"
     ],
     "language": "python",
     "metadata": {},
     "outputs": [
      {
       "output_type": "stream",
       "stream": "stdout",
       "text": [
        "3 -1 30 32\n"
       ]
      }
     ],
     "prompt_number": 8
    },
    {
     "cell_type": "markdown",
     "metadata": {},
     "source": [
      "- \uc22b\uc790\uac00 \ud558\ub098\ub77c\ub3c4 decimal\uc774\uba74 \uac12\uc740 decimal"
     ]
    },
    {
     "cell_type": "code",
     "collapsed": false,
     "input": [
      "print 1.0/3, 5.0/2.0, -7/3.0"
     ],
     "language": "python",
     "metadata": {},
     "outputs": [
      {
       "output_type": "stream",
       "stream": "stdout",
       "text": [
        "0.333333333333 2.5 -2.33333333333\n"
       ]
      }
     ],
     "prompt_number": 9
    },
    {
     "cell_type": "markdown",
     "metadata": {},
     "source": [
      "- \uc22b\uc790\uac00 \ub458\ub2e4 int\uc77c \uacbd\uc6b0 \uac12\uc740 int (\ub0b4\ub9bc)"
     ]
    },
    {
     "cell_type": "code",
     "collapsed": false,
     "input": [
      "print 1/3, 5/2, -7/3"
     ],
     "language": "python",
     "metadata": {},
     "outputs": [
      {
       "output_type": "stream",
       "stream": "stdout",
       "text": [
        "0 2 -3\n"
       ]
      }
     ],
     "prompt_number": 12
    },
    {
     "cell_type": "markdown",
     "metadata": {},
     "source": [
      "- \uc5f0\uc0b0\uc790\uc758 \uc6b0\uc120\uc21c\uc704 = (), \uc81c\uacf1, \uacf1\ud558\uae30, \ub098\ub204\uae30, +,-"
     ]
    },
    {
     "cell_type": "code",
     "collapsed": false,
     "input": [
      "print 1*2 + 3*4\n",
      "print 2 + 12"
     ],
     "language": "python",
     "metadata": {},
     "outputs": [
      {
       "output_type": "stream",
       "stream": "stdout",
       "text": [
        "14\n",
        "14\n"
       ]
      }
     ],
     "prompt_number": 13
    },
    {
     "cell_type": "heading",
     "level": 2,
     "metadata": {},
     "source": [
      "2. Variables"
     ]
    },
    {
     "cell_type": "markdown",
     "metadata": {},
     "source": [
      "- variables: \uac12\ub4e4\uc744 \uc800\uc7a5\ud568, \ub2e4\ub978 \uc0ac\ub78c\uc774 \uc5f4\uc5b4\ubd10\ub3c4 \uc5b4\ub5a0\ud55c \ubcc0\uc218\uc778\uc9c0 \uc54c \uc218 \uc788\uace0 \ub098\uc911\uc5d0 \ub2e4\uc2dc \ubd88\ub7ec\uc11c \uac12\uc744 \uacc4\uc0b0\ud558\uae30\uc5d0\ub3c4 \ud3b8\ud568\n",
      "- \ubb38\uc790, \uc22b\uc790, _ \ub4e4\ub85c \uad6c\uc131\ud560 \uc218 \uc788\uc74c\n",
      "- \ubb38\uc790\ub098 _ \ub85c \uc2dc\uc791\ud574\uc57c\ud558\uba70 \ub300\uc18c\ubb38\uc790 \uad6c\ubcc4\uac00\ub2a5\n",
      "- Variables\ub97c \uc120\uc5b8\ud558\ub294 \ubc29\ubc95\uc740 =, ==\ub294 \ub17c\ub9ac \uc5f0\uc0b0\uc790"
     ]
    },
    {
     "cell_type": "code",
     "collapsed": false,
     "input": [
      "my_name = \"Obiwan Kenobi\"\n",
      "print my_name"
     ],
     "language": "python",
     "metadata": {},
     "outputs": [
      {
       "output_type": "stream",
       "stream": "stdout",
       "text": [
        "Obiwan Kenobi\n"
       ]
      }
     ],
     "prompt_number": 15
    },
    {
     "cell_type": "code",
     "collapsed": false,
     "input": [
      "my_age = 50\n",
      "print my_age"
     ],
     "language": "python",
     "metadata": {},
     "outputs": [
      {
       "output_type": "stream",
       "stream": "stdout",
       "text": [
        "50\n"
       ]
      }
     ],
     "prompt_number": 20
    },
    {
     "cell_type": "markdown",
     "metadata": {},
     "source": [
      "- \ubcc0\uc218\ub97c \ud1b5\ud55c \uc5f0\uc0b0, +=\uc640 +-\uc5d0 \uc8fc\ubaa9"
     ]
    },
    {
     "cell_type": "code",
     "collapsed": false,
     "input": [
      "my_age = my_age + 1\n",
      "print my_age\n",
      "my_age += 1\n",
      "print my_age"
     ],
     "language": "python",
     "metadata": {},
     "outputs": [
      {
       "output_type": "stream",
       "stream": "stdout",
       "text": [
        "28\n",
        "29\n"
       ]
      }
     ],
     "prompt_number": 19
    },
    {
     "cell_type": "code",
     "collapsed": false,
     "input": [
      "magic_pill = 30\n",
      "\n",
      "my_age = my_age - magic_pill\n",
      "print my_age\n",
      "\n",
      "grand_dad_age = 74\n",
      "\n",
      "grand_dad_age -= 2*magic_pill\n",
      "print grand_dad_age"
     ],
     "language": "python",
     "metadata": {},
     "outputs": [
      {
       "output_type": "stream",
       "stream": "stdout",
       "text": [
        "20\n",
        "14\n"
       ]
      }
     ],
     "prompt_number": 22
    },
    {
     "cell_type": "markdown",
     "metadata": {},
     "source": [
      "- \uc628\ub3c4 \ubcc0\ud658\uae30\ub97c \ub9cc\ub4e4\uc5b4\ubcfc\uae4c\n",
      "- Fahrenheit to Celsius\uacf5\uc2dd\uc740 c = 5/9 * (f-32)\n",
      "- 5.0/9.0 \uc73c\ub85c \uc37c\uc74c (5/9\uac00 \uc544\ub2cc)"
     ]
    },
    {
     "cell_type": "code",
     "collapsed": false,
     "input": [
      "temp_Fahrenheit = 32\n",
      "temp_Celsius = 5.0/9.0*(temp_Fahrenheit - 32)\n",
      "print temp_Celsius"
     ],
     "language": "python",
     "metadata": {},
     "outputs": [
      {
       "output_type": "stream",
       "stream": "stdout",
       "text": [
        "0.0\n"
       ]
      }
     ],
     "prompt_number": 23
    },
    {
     "cell_type": "heading",
     "level": 2,
     "metadata": {},
     "source": [
      "3. Functions"
     ]
    },
    {
     "cell_type": "markdown",
     "metadata": {},
     "source": [
      "- \ub300\ub738 \ud568\uc218\ub97c \ud55c\ubc88 \ub9cc\ub4e4\uc5b4\ubcfc\uae4c\n",
      "- \uc774\uac74 \uc911\uc694\ud55c\uac74\ub370, \ucd08\uc9dc\ub4e4\uc774\ub098 \ucc98\uc74c\uc5d0 \ud0a4\ubcf4\ub4dc \ubd99\uc7a1\uace0 \ucf54\ub529\ud558\uc9c0 \uace0\uc218\ub4e4\uc740 \uba3c\uc800 \uc0dd\uac01\uc744 \ud558\uace0 \ucf54\ub529\uc744\ud568\n",
      "- \ucc98\uc74c\uc5d0 \uc774\uac8c \ubb34\uc2a8 \ud568\uc218\uc778\uc9c0 \uc8fc\uc11d\uc744 \ub2ec\uc544\uc918\uc57c\ud568"
     ]
    },
    {
     "cell_type": "code",
     "collapsed": false,
     "input": [
      "# computes the area of a triangle\n",
      "def triangle_area(base,height): #header\n",
      "    area = (1.0/2.0)* base * height #body\n",
      "    return area"
     ],
     "language": "python",
     "metadata": {},
     "outputs": [],
     "prompt_number": 4
    },
    {
     "cell_type": "markdown",
     "metadata": {},
     "source": [
      "- header \uc8fc\uc11d\ubd80\ubd84\uc5d0 \ub2ec\ub824\uc788\ub294 def\ub294 define\uc758 \uc904\uc784\ub9d0\ub85c\uc368 \ud568\uc218\ub97c \uc120\uc5b8\ud558\ub294 \ubd80\ubd84. \n",
      "    - triangle_area\ub294 \uc774 \ud568\uc218\uc758 \uc774\ub984\uc73c\ub85c\uc368 \uc774\ub984\uc740 \uc544\ubb34\uac70\ub098 \uc9c0\uc5b4\ub3c4 \ub428 \ub2e4\ub9cc \uc5b4\ub5a0\ud55c \ud568\uc218\uc778\uc9c0 \uc758\ubbf8\ub97c \uc798 \ub098\ud0c0\ub0b4\ub294 \uc774\ub984\uc774\uba74 \uae08\uc0c1\ucca8\ud654. \n",
      "    - \uad04\ud638 \uc548\uc5d0 \uc788\ub294 base\uc640 height\ub294 parameter\ub77c\uace0 \ud558\ub294\uac74\ub370 \uc218\ud559\uc5d0\uc11c\uc758 \ubcc0\uc218\uc784. \uc0bc\uac01\ud615\uc758 \ub112\uc774\ub294 \ubc11\ubcc0\uacfc \ub192\uc774\ub85c \uacb0\uc815\ub418\uae30 \ub54c\ubb38\uc5d0 \uc774 \ud568\uc218\uc5d0\ub294 \ubc11\ubcc0\uacfc \ub192\uc774\ub97c \ubcc0\uc218\ub85c \ubc1b\uc74c.\n",
      "    - :\uc740 python\uc5d0\uc11c \uad49\uc7a5\ud788 \uc911\uc694\ud55c \uc758\ubbf8\ub85c\uc368 \uc0c8\ub85c\uc6b4 \ud55c \ube14\ub7ed\uc744 \uc2dc\uc791\ud55c\ub2e4\ub294 \uac83\uc744 \uc758\ubbf8. \uadf8 \ub2e4\uc74c \uc2a4\ud06c\ub9bd\ud2b8\ubd80\ud130 \ub4e4\uc5ec\uc4f0\uae30 \ud558\ub294 \ubd80\ubd84\uc774 \uc0c8\ub85c \uc2dc\uc791\ub41c \ube14\ub7ed"
     ]
    },
    {
     "cell_type": "markdown",
     "metadata": {},
     "source": [
      "- body\ub294 2 \ubd80\ubd84\uc73c\ub85c \uad6c\uc131\ub418\uc5b4 \uc788\uc74c. \n",
      "    - area\ub85c \uc2dc\uc791\ub418\ub294 \ubd80\ubd84\uc740 algorithm\uc774 \ub4e4\uc5b4\uac00\ub294 \ubd80\ubd84\n",
      "    - return\uc73c\ub85c \uc2dc\uc791\ub418\ub294 \ubd80\ubd84\uc744 \uc8fc\ubaa9. \uc774 \ud568\uc218\uc758 output\uc774 \ub418\ub294 \ubd80\ubd84\uc73c\ub85c \ud568\uc218 \uc548\uc5d0\uc11c \uc120\uc5b8\ub41c local variable\uc758 \uacc4\uc0b0\ub41c \uac12\uc744 \ucd9c\ub825\ud558\ub294 \ubd80\ubd84\uc784"
     ]
    },
    {
     "cell_type": "markdown",
     "metadata": {},
     "source": [
      "- \uadf8\ub7fc \ud568\uc218\ub97c \ub3cc\ub824\ubcfc\uae4c... \uc544\ubb34\uc77c\ub3c4 \uc548\uc0dd\uae30\uc796\uc544?\n",
      "- \ub2f9\uc5f0\ud788 \ud568\uc218\ub9cc \uc120\uc5b8\ud55c \uac70\ub77c\uc11c \uc544\ubb34\uc77c\ub3c4 \uc548\uc0dd\uae34\uac70.\n",
      "- \ud568\uc218\ub97c \uc4f8\ub824\uba74 \ud568\uc218\ub97c call\uc744\ud574\uc57c\uc9c0. \ud55c\ubc88 \ud574\ubd05\uc2dc\ub2e4."
     ]
    },
    {
     "cell_type": "code",
     "collapsed": false,
     "input": [
      "a1 = triangle_area(3,6)\n",
      "print a1"
     ],
     "language": "python",
     "metadata": {},
     "outputs": [
      {
       "output_type": "stream",
       "stream": "stdout",
       "text": [
        "9.0\n"
       ]
      }
     ],
     "prompt_number": 7
    },
    {
     "cell_type": "markdown",
     "metadata": {},
     "source": [
      "- \ud5c8\uc811\ub4e4\uc740 \uc5b4\ub5a0\ud55c \uac12\uc774 \ub098\uc640\ub3c4 '\uc640 \ud568\uc218\uc0dd\uc131 \uc131\uacf5' \uc774\ub7ec\uace0 \uc788\uaca0\uc9c0\ub9cc \uace0\uc218\ub4e4\uc740 \uc5b4\ub5a0\ud55c \uac12\uc774 \ub098\uc62c\uc9c0 \uc608\uce21\ud558\uace0 \uc788\uc5b4\uc57c\ud568. \uadf8\ub798\uc57c\uc9c0 \ub514\ubc84\uae45\ud560 \ub54c\ub3c4 \ud3b8\ud568. \uc0bc\uac01\ud615\uc758 \ub113\uc774\ub294 9\uac00 \ub9de\uc73c\ub2c8 \uc77c\ub2e8 \uc131\uacf5"
     ]
    },
    {
     "cell_type": "code",
     "collapsed": false,
     "input": [
      "from IPython.display import Image\n",
      "Image(filename='iSystems iPython Manual1.jpg') "
     ],
     "language": "python",
     "metadata": {},
     "outputs": [
      {
       "jpeg": "[encoded data removed]",
       "metadata": {},
       "output_type": "pyout",
       "prompt_number": 1,
       "text": [
        "<IPython.core.display.Image at 0x8233fd0>"
       ]
      }
     ],
     "prompt_number": 1
    },
    {
     "cell_type": "markdown",
     "metadata": {},
     "source": [
      "- \ud568\uc218\uc5d0 \ub300\ud574 \uc880 \ub354 \uae4a\uc774 \uc0b4\ud3b4\ubcf4\uba74 (\uadf8\ub9bc\uc740 \ub098\uc911\uc5d0 visio\ub85c \ub300\uccb4...)\n",
      "    - triangle_area\ub77c\ub294 \ud568\uc218 \uc548\uc5d0 \uc120\uc5b8\ub41c base\uc640 height\ub77c\ub294 \uac74 loca variable\ub85c\uc368 \ud568\uc218\uac00 \uc120\uc5b8\ub41c \ubd80\ubd84\uc5d0\uc11c\ub9cc \uc874\uc7ac\ud558\ub294 \ubcc0\uc218\ub4e4\uc784.\n",
      "    - \ub0b4\uac00 \ud568\uc218\ub97c call \ud55c\ub2e4\ub294 \uac74 \ud568\uc218 \uc548 \uc5d0\uc11c \uc5b4\ub5a0\ud55c \uc77c\uc774 \uc77c\uc5b4\ub098\ub4e0 \uc2e0\uacbd \uc548\uc4f0\uace0 \uc0bc\uc785\ub41c \ubcc0\uc218 3, 2 \uadf8\ub9ac\uace0 \uc774\ub85c\ubd80\ud130 \uacc4\uc0b0\ub41c return\uac12\ub9cc \uc2e0\uacbd\uc4f0\uaca0\ub2e4\ub294 \uc774\uc57c\uae30."
     ]
    },
    {
     "cell_type": "markdown",
     "metadata": {},
     "source": [
      "- \ud568\uc218 \ud558\ub098\ub97c \ub354 \ub9cc\ub4e4\uc5b4 \ubd05\uc2dc\ub2e4. \ud654\uc528-> \uc12d\uc528 \ubcc0\ud658\uae30"
     ]
    },
    {
     "cell_type": "code",
     "collapsed": false,
     "input": [
      "# converts fahrenheit to celsius\n",
      "def fahrenheit2celsius(fahrenheit):\n",
      "    celsius = (5.0/9) * (fahrenheit - 32)\n",
      "    return celsius\n",
      "\n",
      "#test\n",
      "c1 = fahrenheit2celsius(32)\n",
      "c2 = fahrenheit2celsius(212)\n",
      "print c1\n",
      "print c2\n",
      "# or \n",
      "print c1,c2\n",
      "\n",
      "# converts fahrenheit to kelvin\n",
      "def fahrenheit2kelvin(fahrenheit):\n",
      "    celsius = fahrenheit2celsius(fahrenheit)\n",
      "    kelvin = celsius + 273.15\n",
      "    return kelvin\n",
      "\n",
      "# test\n",
      "k1 = fahrenheit2kelvin(32)\n",
      "k2 = fahrenheit2kelvin(212)\n",
      "print k1,k2"
     ],
     "language": "python",
     "metadata": {},
     "outputs": [
      {
       "output_type": "stream",
       "stream": "stdout",
       "text": [
        "0.0\n",
        "100.0\n",
        "0.0 100.0\n",
        "273.15 373.15\n"
       ]
      }
     ],
     "prompt_number": 22
    },
    {
     "cell_type": "markdown",
     "metadata": {},
     "source": [
      "- fahrenheit to kelvin\uc5d0\uc11c \ubb34\uc2a8 \uc9d3\uc744 \ud588\ub294\uc9c0 \ud55c \ubc88 \uc0b4\ud3b4\ubcfc\uae4c.\n",
      "- \ubb50\uae34 \ubb50\uc57c \ud568\uc218 \uc548\uc5d0 \ud568\uc218\ub97c \ub2e4\uc2dc \ubd80\ub978\uac70\uc9c0\n",
      "    - \ud504\ub85c\uadf8\ub798\uba38\ub4e4\uc740 \uae30\ubcf8\uc801\uc73c\ub85c \uc804\ubd80 \uadc0\ucc28\ub2c8\uc998\uc5d0 \ube60\uc838\uc788\uc74c.\n",
      "    - \uad73\uc774 \ub3d9\uc77c\ud55c \uc218\uc2dd\uc744 \ub2e4\uc2dc \ud0c0\uc774\ud551 \ud560 \uc774\uc720\ub294 \uc5c6\uc74c. (\uc2e4\uc218\ud560 \uc218\ub3c4 \uc788\uace0)\n",
      "- \ub9c8\uc9c0\ub9c9\uc73c\ub85c \ud568\uc218 \ud558\ub098 \ub354"
     ]
    },
    {
     "cell_type": "code",
     "collapsed": false,
     "input": [
      "# prints hello, world!\n",
      "def hello():\n",
      "    print \"Hello, world!\"\n",
      "    \n",
      "# test\n",
      "hello()"
     ],
     "language": "python",
     "metadata": {},
     "outputs": [
      {
       "output_type": "stream",
       "stream": "stdout",
       "text": [
        "Hello, world!\n"
       ]
      }
     ],
     "prompt_number": 24
    },
    {
     "cell_type": "markdown",
     "metadata": {},
     "source": [
      "- \uc598\ub294 \uc778\ud48b\ub3c4 \uc5c6\uace0 \uc544\uc6c3\ud48b\ub3c4 \uc5c6\ub294 \ud568\uc218. \ub9cc\uc77c \ub0b4\uac00 h\ub97c \uac12\uc73c\ub85c \uc120\uc5b8\ud558\uace0 print\ud558\uba74 \uc5b4\ub5bb\uac8c \ub098\uc62c\uae4c."
     ]
    },
    {
     "cell_type": "code",
     "collapsed": false,
     "input": [
      "h = hello()\n",
      "print h"
     ],
     "language": "python",
     "metadata": {},
     "outputs": [
      {
       "output_type": "stream",
       "stream": "stdout",
       "text": [
        "Hello, world!\n",
        "None\n"
       ]
      }
     ],
     "prompt_number": 28
    },
    {
     "cell_type": "markdown",
     "metadata": {},
     "source": [
      "- return\uc744 \ube7c\uba39\uc73c\uba74 \uc774\ub7f0\uc77c\uc774 \uc0dd\uae41\ub2c8\ub2e4."
     ]
    },
    {
     "cell_type": "heading",
     "level": 1,
     "metadata": {},
     "source": [
      "4. Visualizing Functions"
     ]
    },
    {
     "cell_type": "markdown",
     "metadata": {},
     "source": [
      "- RICE \ub300\ud559 \uad50\uc218\ub2d8\ub4e4\uc774 \ub9cc\ub4e0 simplegui \ubaa8\ub4c8\uc774 \ud544\uc694\ud568\uc73c\ub85c \ub098\uc911\uc5d0 \ucd94\uac00\ud558\uaca0\uc74c (function\uc774 \uc5b4\ub5bb\uac8c \ub3d9\uc791\ud558\ub294\uc9c0 \uc2dc\uac01\uc801\uc73c\ub85c \ubcf4\uc5ec\uc90c)\n",
      "- More Operations \uc5d0 \ucd94\uac00\ud588\uc74c"
     ]
    },
    {
     "cell_type": "heading",
     "level": 1,
     "metadata": {},
     "source": [
      "5. More Operations"
     ]
    },
    {
     "cell_type": "markdown",
     "metadata": {},
     "source": [
      "- Modular Arithmetic\uc5d0 \ub300\ud574 \uc880 \ub2e4\ub8f0 \uac83. \uc77c\ub2e8 \uac04\ub2e8\ud55c \ucf54\ub4dc\ubd80\ud130 \ubd05\uc2dc\ub2e4."
     ]
    },
    {
     "cell_type": "code",
     "collapsed": false,
     "input": [
      "# Remainder - modular arithmetic \uacb0\uad6d\uc5d4 \ub098\ub204\uae30 \ud588\uc744 \ub54c \ub098\uba38\uc9c0\uc5d0 \ub300\ud55c \uc598\uae30\n",
      "\n",
      "# problem - get the ones digit of a number\n",
      "num = 49\n",
      "tens = num //10 # \ubaab\n",
      "ones = num % 10 # \ub098\uba38\uc9c0\n",
      "print tens, ones\n",
      "print 10 * tens + ones"
     ],
     "language": "python",
     "metadata": {},
     "outputs": [
      {
       "output_type": "stream",
       "stream": "stdout",
       "text": [
        "4 9\n",
        "49\n"
       ]
      }
     ],
     "prompt_number": 6
    },
    {
     "cell_type": "markdown",
     "metadata": {},
     "source": [
      "- \uac04\ub2e8\ud55c \ub098\ub204\uae30\uc784 \uc774\ud574\ub97c \ubabb\ud560 \uc218\uac00 \uc5c6\uc74c."
     ]
    },
    {
     "cell_type": "code",
     "collapsed": false,
     "input": [
      "# application - 24 hour clock\n",
      "\n",
      "hour = 20\n",
      "shift = 8\n",
      "print (hour + shift) % 24"
     ],
     "language": "python",
     "metadata": {},
     "outputs": [
      {
       "output_type": "stream",
       "stream": "stdout",
       "text": [
        "4\n"
       ]
      }
     ],
     "prompt_number": 10
    },
    {
     "cell_type": "markdown",
     "metadata": {},
     "source": [
      "- \ub9c8\ucc2c\uac00\uc9c0\ub85c \uc5b4\ub824\uc6b8\uac8c \uc788\ub098. 24\uc2dc\uac04 \uc2dc\uacc4\uc5d0 \uc801\uc6a9\ud574\ubcf8\uac70\uc784. \ud604\uc7ac \uc2dc\uac04\uc774 20\uc2dc\uac04\uc774\uace0 \uc9c0\uae08\ubd80\ud130 8\uc2dc\uac04\uc774 \uc9c0\ub0ac\uc744 \ub54c\uc758 \uc2dc\uac01\uc744 \uad6c\ud574\ubcf8\uac83."
     ]
    },
    {
     "cell_type": "code",
     "collapsed": false,
     "input": [
      "# application - screen wraparound\n",
      "# Spaceship from week seven\n",
      "\n",
      "width = 800\n",
      "position = 2\n",
      "move = -5\n",
      "position = (position + move) % width\n",
      "print position"
     ],
     "language": "python",
     "metadata": {},
     "outputs": [
      {
       "output_type": "stream",
       "stream": "stdout",
       "text": [
        "797\n"
       ]
      }
     ],
     "prompt_number": 14
    },
    {
     "cell_type": "markdown",
     "metadata": {},
     "source": [
      "- \uc774\uac74 \uac8c\uc784\uc0c1\uc758 \ud45c\ud604\uc778\ub370, \ucc3d\uc758 \ud06c\uae30 800\uc774\uace0 \uac8c\uc784\uc0c1 \uce90\ub9ad\ud130\uc758 \ud3ec\uc9c0\uc158\uc774 2 \uc77c\ub54c \ub0b4\uac00 -5 \ub9cc\ud07c \uc6c0\uc9c1\uc774\uba74 \uc5d0\ub7ec\uac00 \ubc1c\uc0dd\ud560 \uac83. \uc774\ub97c \ubc29\uc9c0\ud558\uae30 \uc704\ud574 modular arithmetic\uc744 \uc0ac\uc6a9\ud55c \uac83.\n",
      "- \uc774\ubc88 \uc608\uc81c\ub294 CodeSkulptor\uc5d0\uc11c \uc81c\uacf5\ud558\ub294 simplegui library\uac00 \uc788\uc5b4\uc57c\ud574\uc11c \ub9c1\ud06c\ub85c \ub300\uccb4\ud568.\n",
      "- [CodeSkultor - modular arithmetic and import module](http://www.codeskulptor.org/#user38_OcplBSgwWw_0.py)"
     ]
    },
    {
     "cell_type": "heading",
     "level": 1,
     "metadata": {},
     "source": [
      "6. Logic and comparisons"
     ]
    },
    {
     "cell_type": "markdown",
     "metadata": {},
     "source": [
      "- Boolean Expression: True, False, Not\n",
      "- And, Or\n",
      "- \ucf54\ub4dc \uc2e4\ud589 \uc2dc\ud0a4\uae30 \uc804\uc5d0 \ub9c8\uc9c0\ub9c9 print\ub294 \uc5b4\ub5a4\uac12\uc774 \ub098\uc62c\uc9c0 \uc608\uc0c1\ud574\ubcf4\uc790."
     ]
    },
    {
     "cell_type": "code",
     "collapsed": false,
     "input": [
      "a = True\n",
      "b = False\n",
      "c = False\n",
      "\n",
      "print a,b\n",
      "\n",
      "print \"===\"\n",
      "\n",
      "print not a\n",
      "print a and b\n",
      "print a or b\n",
      "\n",
      "print \"===\"\n",
      "\n",
      "print (a and b) or (c and (not d))"
     ],
     "language": "python",
     "metadata": {},
     "outputs": [
      {
       "output_type": "stream",
       "stream": "stdout",
       "text": [
        "True False\n",
        "===\n",
        "False\n",
        "False\n",
        "True\n",
        "===\n",
        "False\n"
       ]
      }
     ],
     "prompt_number": 6
    },
    {
     "cell_type": "markdown",
     "metadata": {},
     "source": [
      "- Comparison Operators"
     ]
    },
    {
     "cell_type": "raw",
     "metadata": {},
     "source": [
      ">\n",
      "<\n",
      ">=\n",
      "<=\n",
      "==\n",
      "!="
     ]
    },
    {
     "cell_type": "markdown",
     "metadata": {},
     "source": [
      "- Toy Problem \ud558\ub098 \ubcf4\uace0 \uac00\uba74 \ub428"
     ]
    },
    {
     "cell_type": "code",
     "collapsed": false,
     "input": [
      "a = 7 > 3\n",
      "print a\n",
      "\n",
      "x = 5\n",
      "y = 5 \n",
      "b = x >= y\n",
      "print b\n",
      "\n",
      "c = \"Hello\" == 'Hello'\n",
      "print c\n",
      "\n",
      "d = 20.6 <= 18.3\n",
      "print d\n",
      "\n",
      "print (a and b) or (c and (not d))"
     ],
     "language": "python",
     "metadata": {},
     "outputs": [
      {
       "output_type": "stream",
       "stream": "stdout",
       "text": [
        "True\n",
        "True\n",
        "True\n",
        "False\n",
        "True\n"
       ]
      }
     ],
     "prompt_number": 11
    },
    {
     "cell_type": "heading",
     "level": 1,
     "metadata": {},
     "source": [
      "7. Conidtionals"
     ]
    },
    {
     "cell_type": "markdown",
     "metadata": {},
     "source": [
      "- Changing the flow of control of your program.\n",
      "- \ub9d0\uc740 \uac70\ucc3d\ud55c\ub370 \ud504\ub85c\uadf8\ub7a8\uc774 \uc2a4\ud06c\ub9bd\ud2b8\uc5d0 \ub530\ub77c \uc8fc\ub974\ub974\ub975 \uc2e4\ud589\ub418\ub294\uac8c \uc544\ub2c8\ub77c \uc911\uac04 \uc911\uac04 \uc0bc\uc785\ub41c \uc870\uac74\uc5d0 \ub530\ub77c \uc2e4\ud589\ub418\uac70\ub098 \ud558\ub294 \uadf8\ub7f0\uac70... if \ubb38.\n",
      "- \ucf54\ub4dc\ub97c \ud55c \ubc88 \ubcfc\uae4c. \uc774 \ucf54\ub4dc\ub294 \uce5c\uad6c\uba74 20\ub2ec\ub7ec\ub97c \uc8fc\uace0 \uc544\ub2c8\uba74 \uc548\uc8fc\ub294 \uc774\uc0c1\ud55c \ucf54\ub4dc\uc784."
     ]
    },
    {
     "cell_type": "code",
     "collapsed": false,
     "input": [
      "def greet(friend, money):\n",
      "    if friend and (money > 20):\n",
      "        print \"Hi!\"\n",
      "        money = money - 20\n",
      "    elif friend:\n",
      "        print \"Hello\"\n",
      "    else:\n",
      "        print \"Ha Ha\"\n",
      "        money = money + 10\n",
      "    return money"
     ],
     "language": "python",
     "metadata": {},
     "outputs": [],
     "prompt_number": 67
    },
    {
     "cell_type": "markdown",
     "metadata": {},
     "source": [
      "- greet\uc774\ub780 \ud568\uc218\ub294 friend\ub791 money\ub77c\ub294 input\uc744 \ubc1b\uc74c.\n",
      "    - friend\ub294 boolean (python\uc5d0\uc120 bool), money\ub294 int\n",
      "    - and \uc870\uac74\uc73c\ub85c friend\uc774\uace0 \ub3c8\uc774 20\ubcf4\ub2e4 \ub9ce\uc744 \ub54c\ub294 Hi\ub77c\uace0 \ud504\ub9b0\ud2b8\ud558\uace0 money \uac12\uc744 20 \ube7c\uace0 return.\n",
      "    - friend\ub9cc \ud560 \uacbd\uc6b0 hello\ub77c\uace0 \ud504\ub9b0\ud2b8\ud558\uace0 \uadf8\ub300\ub85c money\ub97c return.\n",
      "    - \uadf8\ub807\uc9c0 \uc54a\uc744 \uacbd\uc6b0 Ha Ha\ub77c\uace0 \ud504\ub9b0\ud2b8\ud558\uace0 money \uac12\uc5d0 10\uc744 \ub354\ud558\uace0 return."
     ]
    },
    {
     "cell_type": "code",
     "collapsed": false,
     "input": [
      "money = 15.0\n",
      "\n",
      "money = greet(True, money)\n",
      "print \"Money:\", money\n",
      "print \"\"\n",
      "\n",
      "money = greet(False,money)\n",
      "print \"Money:\", money\n",
      "print \"\"\n",
      "\n",
      "money = greet(True, money)\n",
      "print \"Money:\", money\n",
      "print \"\""
     ],
     "language": "python",
     "metadata": {},
     "outputs": [
      {
       "output_type": "stream",
       "stream": "stdout",
       "text": [
        "Hello\n",
        "Money: 15.0\n",
        "\n",
        "Ha Ha\n",
        "Money: 25.0\n",
        "\n",
        "Hi!\n",
        "Money: 5.0\n",
        "\n"
       ]
      }
     ],
     "prompt_number": 69
    },
    {
     "cell_type": "markdown",
     "metadata": {},
     "source": [
      "- leap year \ucf54\ub4dc\ub97c \ud55c\ubc88 \ubcfc\uae4c\n",
      "- \uc724\ub144\uc740 100\uc73c\ub85c \uc548\ub098\ub204\uc5b4 \ub5a8\uc5b4\uc9c0\uace0 4\uc640 400\uc73c\ub85c \ub098\ub204\uc5b4 \ub5a8\uc5b4\uc9c0\ub294 \ud574"
     ]
    },
    {
     "cell_type": "code",
     "collapsed": false,
     "input": [
      "# Conditionals Examples\n",
      "\n",
      "# Return True if year is a leap year, false otherwise\n",
      "def is_leap_year(year):\n",
      "    if (year % 400) == 0:\n",
      "        return true\n",
      "    elif (year % 100) == 0:\n",
      "        return False\n",
      "    elif (year % 4) == 0:\n",
      "        return True\n",
      "    else:\n",
      "        return False\n",
      "\n",
      "year = 200\n",
      "leap_year = is_leap_year(year)\n",
      "\n",
      "if leap_year:\n",
      "    print year, \"is a leap year\"\n",
      "else:\n",
      "    print year, \"is not a leap year\""
     ],
     "language": "python",
     "metadata": {},
     "outputs": [
      {
       "output_type": "stream",
       "stream": "stdout",
       "text": [
        "200 is not a leap year\n"
       ]
      }
     ],
     "prompt_number": 90
    },
    {
     "cell_type": "heading",
     "level": 1,
     "metadata": {},
     "source": [
      "U of Toronto"
     ]
    },
    {
     "cell_type": "heading",
     "level": 1,
     "metadata": {},
     "source": [
      "1. More Built-in Functions"
     ]
    },
    {
     "cell_type": "markdown",
     "metadata": {},
     "source": [
      "- Python\uc758 function\uacfc \uad00\ub828\ub41c \uc6a9\uc5b4\n",
      "    - Argument: an expression that apperas between the parentheses of a function call\n",
      "    - Pass: to provide an argument to a funtion\n",
      "    - Function call: ask Python to evaluate a function\n",
      "- dir(builtins) -> \uc5b4\ub5a0\ud55c \ud568\uc218\ub4e4\uc774 \uc788\ub294\uc9c0 \ubcfc \uc218 \uc788\uc74c\n",
      "- help(function_name) -> \ud568\uc218\uac00 \uc5b4\ub5a0\ud55c parameter\ub97c \ubc1b\uace0 \uc5b4\ub5a0\ud55c \uac12\uc744 return\ud558\ub294\uc9c0 \uc54c \uc218 \uc788\uc74c"
     ]
    },
    {
     "cell_type": "markdown",
     "metadata": {},
     "source": [
      "dir(__builtins__)"
     ]
    },
    {
     "cell_type": "code",
     "collapsed": false,
     "input": [
      "help(max)"
     ],
     "language": "python",
     "metadata": {},
     "outputs": [
      {
       "output_type": "stream",
       "stream": "stdout",
       "text": [
        "Help on built-in function max in module __builtin__:\n",
        "\n",
        "max(...)\n",
        "    max(iterable[, key=func]) -> value\n",
        "    max(a, b, c, ...[, key=func]) -> value\n",
        "    \n",
        "    With a single iterable argument, return its largest item.\n",
        "    With two or more arguments, return the largest argument.\n",
        "\n"
       ]
      }
     ],
     "prompt_number": 95
    },
    {
     "cell_type": "code",
     "collapsed": false,
     "input": [
      "help(abs)"
     ],
     "language": "python",
     "metadata": {},
     "outputs": [
      {
       "output_type": "stream",
       "stream": "stdout",
       "text": [
        "Help on built-in function abs in module __builtin__:\n",
        "\n",
        "abs(...)\n",
        "    abs(number) -> number\n",
        "    \n",
        "    Return the absolute value of the argument.\n",
        "\n"
       ]
      }
     ],
     "prompt_number": 96
    },
    {
     "cell_type": "heading",
     "level": 1,
     "metadata": {},
     "source": [
      "2. String Variables in Python (more...)"
     ]
    },
    {
     "cell_type": "markdown",
     "metadata": {},
     "source": [
      "- string literal: a sequence of characters.\n",
      "- str: Python's string type, strings start and end 'or\", strings are values.\n",
      "- escape character.\\: the character following the escape character is treated differently from normal.\n",
      "- escape sequence: the escape character together with the character that follows it.\n",
      "- \uc608\uc2dc"
     ]
    },
    {
     "cell_type": "code",
     "collapsed": false,
     "input": [
      "x = 'Wow, you're dripping wet'"
     ],
     "language": "python",
     "metadata": {},
     "outputs": [
      {
       "ename": "SyntaxError",
       "evalue": "invalid syntax (<ipython-input-98-e5c1b92d8419>, line 1)",
       "output_type": "pyerr",
       "traceback": [
        "\u001b[1;36m  File \u001b[1;32m\"<ipython-input-98-e5c1b92d8419>\"\u001b[1;36m, line \u001b[1;32m1\u001b[0m\n\u001b[1;33m    x = 'Wow, you're dripping wet'\u001b[0m\n\u001b[1;37m                   ^\u001b[0m\n\u001b[1;31mSyntaxError\u001b[0m\u001b[1;31m:\u001b[0m invalid syntax\n"
       ]
      }
     ],
     "prompt_number": 98
    },
    {
     "cell_type": "code",
     "collapsed": false,
     "input": [
      "x = \"Wow, you're dripping wet\""
     ],
     "language": "python",
     "metadata": {},
     "outputs": [],
     "prompt_number": 100
    },
    {
     "cell_type": "code",
     "collapsed": false,
     "input": [
      "x = 'Wow, you\\'re dripping wet'"
     ],
     "language": "python",
     "metadata": {},
     "outputs": [],
     "prompt_number": 1
    },
    {
     "cell_type": "code",
     "collapsed": false,
     "input": [
      "asfdaf\n",
      "asfsadf"
     ],
     "language": "python",
     "metadata": {},
     "outputs": [
      {
       "ename": "NameError",
       "evalue": "name 'asfdaf' is not defined",
       "output_type": "pyerr",
       "traceback": [
        "\u001b[1;31m---------------------------------------------------------------------------\u001b[0m\n\u001b[1;31mNameError\u001b[0m                                 Traceback (most recent call last)",
        "\u001b[1;32m<ipython-input-2-2fb3eadbf53f>\u001b[0m in \u001b[0;36m<module>\u001b[1;34m()\u001b[0m\n\u001b[1;32m----> 1\u001b[1;33m \u001b[0masfdaf\u001b[0m\u001b[1;33m\u001b[0m\u001b[0m\n\u001b[0m\u001b[0;32m      2\u001b[0m \u001b[0masfsadf\u001b[0m\u001b[1;33m\u001b[0m\u001b[0m\n",
        "\u001b[1;31mNameError\u001b[0m: name 'asfdaf' is not defined"
       ]
      }
     ],
     "prompt_number": 2
    },
    {
     "cell_type": "code",
     "collapsed": false,
     "input": [],
     "language": "python",
     "metadata": {},
     "outputs": []
    }
   ],
   "metadata": {}
  }
 ]
}