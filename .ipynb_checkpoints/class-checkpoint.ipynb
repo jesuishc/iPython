{
 "metadata": {
  "name": "",
  "signature": "sha256:ec9308c0e9134e7880d1b12e793c32775ffd2f8f06d8acb6de010a99e0fec209"
 },
 "nbformat": 3,
 "nbformat_minor": 0,
 "worksheets": []
}