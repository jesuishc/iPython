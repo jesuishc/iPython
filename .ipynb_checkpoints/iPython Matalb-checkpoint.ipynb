{
 "metadata": {
  "name": "",
  "signature": "sha256:9aa8eaca3e7746e5124270ab643825f93435c9a746872c4791d33b92a7b36065"
 },
 "nbformat": 3,
 "nbformat_minor": 0,
 "worksheets": [
  {
   "cells": [
    {
     "cell_type": "heading",
     "level": 1,
     "metadata": {},
     "source": [
      "Matlab \uacfc iPython \uc5f0\ub3d9\ud558\uae30"
     ]
    },
    {
     "cell_type": "markdown",
     "metadata": {},
     "source": [
      "- \uc900\ube44\ubb3c: zmq, pyzmq, pymatbridge library\n",
      "- zmq\ub791 pyzmq\uac00\uc9c0\uace0 dynamic loader path\ub97c \uc124\uc815, pointing the binary at the right place\uae4c\uc9c0\n",
      "- Canopy\uae54\uba74 zmq\ub791 pyzmq\ub294 \uae54\ub824 \uc788\uc73c\ub2c8\uae4c dynamic loader path \uc124\uc815\uc548\ud558\uace0pymatbridge\ub97c \uc131\uacf5\ud558\uc9c0 \uc54a\uc744\uae4c? -- \ub0b4 idea\n",
      "- \ud55c\ubc88 \uadf8\ub0e5 magic matlab \ubd88\ub7ec\ubcfc\uae4c?"
     ]
    },
    {
     "cell_type": "code",
     "collapsed": false,
     "input": [
      "%load_ext pymatbridge"
     ],
     "language": "python",
     "metadata": {},
     "outputs": [
      {
       "output_type": "stream",
       "stream": "stdout",
       "text": [
        "Starting MATLAB on ZMQ socket tcp://127.0.0.1:55555\n",
        "Send 'exit' command to kill the server\n",
        ".."
       ]
      },
      {
       "output_type": "stream",
       "stream": "stdout",
       "text": [
        ".."
       ]
      },
      {
       "output_type": "stream",
       "stream": "stdout",
       "text": [
        ".."
       ]
      },
      {
       "output_type": "stream",
       "stream": "stdout",
       "text": [
        ".."
       ]
      },
      {
       "output_type": "stream",
       "stream": "stdout",
       "text": [
        ".."
       ]
      },
      {
       "output_type": "stream",
       "stream": "stdout",
       "text": [
        ".."
       ]
      },
      {
       "output_type": "stream",
       "stream": "stdout",
       "text": [
        ".."
       ]
      },
      {
       "output_type": "stream",
       "stream": "stdout",
       "text": [
        ".."
       ]
      },
      {
       "output_type": "stream",
       "stream": "stdout",
       "text": [
        ".."
       ]
      },
      {
       "output_type": "stream",
       "stream": "stdout",
       "text": [
        ".."
       ]
      },
      {
       "output_type": "stream",
       "stream": "stdout",
       "text": [
        ".."
       ]
      },
      {
       "output_type": "stream",
       "stream": "stdout",
       "text": [
        ".."
       ]
      },
      {
       "output_type": "stream",
       "stream": "stdout",
       "text": [
        ".."
       ]
      },
      {
       "output_type": "stream",
       "stream": "stdout",
       "text": [
        ".."
       ]
      },
      {
       "output_type": "stream",
       "stream": "stdout",
       "text": [
        ".."
       ]
      },
      {
       "output_type": "stream",
       "stream": "stdout",
       "text": [
        ".."
       ]
      },
      {
       "output_type": "stream",
       "stream": "stdout",
       "text": [
        ".."
       ]
      },
      {
       "output_type": "stream",
       "stream": "stdout",
       "text": [
        ".."
       ]
      },
      {
       "output_type": "stream",
       "stream": "stdout",
       "text": [
        ".."
       ]
      },
      {
       "output_type": "stream",
       "stream": "stdout",
       "text": [
        ".."
       ]
      },
      {
       "output_type": "stream",
       "stream": "stdout",
       "text": [
        ".."
       ]
      },
      {
       "output_type": "stream",
       "stream": "stdout",
       "text": [
        ".."
       ]
      },
      {
       "output_type": "stream",
       "stream": "stdout",
       "text": [
        ".."
       ]
      },
      {
       "output_type": "stream",
       "stream": "stdout",
       "text": [
        ".."
       ]
      },
      {
       "output_type": "stream",
       "stream": "stdout",
       "text": [
        ".."
       ]
      },
      {
       "output_type": "stream",
       "stream": "stdout",
       "text": [
        ".."
       ]
      },
      {
       "output_type": "stream",
       "stream": "stdout",
       "text": [
        ".."
       ]
      },
      {
       "output_type": "stream",
       "stream": "stdout",
       "text": [
        ".."
       ]
      },
      {
       "output_type": "stream",
       "stream": "stdout",
       "text": [
        ".."
       ]
      },
      {
       "output_type": "stream",
       "stream": "stdout",
       "text": [
        ".."
       ]
      },
      {
       "output_type": "stream",
       "stream": "stdout",
       "text": [
        "MATLAB session timed out after 60 seconds\n",
        "MATLAB failed to start\n"
       ]
      }
     ],
     "prompt_number": 1
    },
    {
     "cell_type": "markdown",
     "metadata": {},
     "source": [
      "- \ub2f9\uc5f0\ud788 \uc548\ub418\ub294\uad70\n",
      "    - \uc54c\uac8c\ub41c \uc810: 1. Canopy\uc758 path library\ub97c \uc5ec\uae30\uc5d0\ub2e4 \uae54\uc544\uc57c\ud558\ub124 2. iPython\uc758 magic line \uc4f8\ub824\uba74 \ub9ce\uc740 \ubaa8\ub4c8\uc774 \ud544\uc694\ud558\uad70\n",
      "    - pymatbridge\ub97c Canopy\uc758 path\uc5d0 \uae54\uace0 \uc2dc\ub3c4\ud574 \ubcf4\uaca0\uc74c"
     ]
    },
    {
     "cell_type": "code",
     "collapsed": false,
     "input": [
      "%%matlab\n",
      "max([1 2 3])"
     ],
     "language": "python",
     "metadata": {},
     "outputs": []
    }
   ],
   "metadata": {}
  }
 ]
}